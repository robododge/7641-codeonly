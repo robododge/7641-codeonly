{
 "cells": [
  {
   "cell_type": "code",
   "execution_count": null,
   "id": "0b787e87-9aee-49c6-82d9-5ac2a95a55d0",
   "metadata": {},
   "outputs": [],
   "source": []
  },
  {
   "cell_type": "code",
   "execution_count": 5,
   "id": "cdecd3e9-6325-4e26-a96b-22ed42c1ad19",
   "metadata": {
    "tags": []
   },
   "outputs": [],
   "source": [
    "import numpy as np\n",
    "import pandas as pd\n",
    "import matplotlib.pyplot as plt\n",
    "import seaborn as sns\n",
    "from sklearn.ensemble import AdaBoostClassifier\n",
    "from sklearn.model_selection import GridSearchCV, RandomizedSearchCV, train_test_split, StratifiedKFold, cross_validate\n",
    "from sklearn.metrics import precision_recall_fscore_support, make_scorer, recall_score, f1_score, confusion_matrix, precision_score, balanced_accuracy_score\n",
    "from sklearn.metrics import fbeta_score, classification_report\n",
    "\n",
    "\n",
    "from sklearn.preprocessing import LabelEncoder, MinMaxScaler\n",
    "\n",
    "from libs.print_cm import print_cm\n",
    "from libs.loader import load_jobchange\n",
    "\n",
    "import time\n",
    "         \n",
    "\n",
    "from sklearn.model_selection import learning_curve, validation_curve"
   ]
  },
  {
   "cell_type": "code",
   "execution_count": 6,
   "id": "b18c3f1b-3ac9-40c2-b3b5-5766d628a57d",
   "metadata": {},
   "outputs": [],
   "source": [
    "#Using Dataset for Data Scientist Job Change binary classification: \n",
    "# https://www.kaggle.com/arashnic/hr-analytics-job-change-of-data-scientists?select=aug_train.csv\n",
    "# df = pd.read_csv(\"data/job_change_data_scientist.csv\")\n",
    "# df_enc_0 = df.apply(LabelEncoder().fit_transform)\n",
    "# df_enc = df_enc_0.drop(columns=[\"enrollee_id\",\"target\"])\n",
    "# minMaxNorm = MinMaxScaler()\n",
    "# df_norm = minMaxNorm.fit_transform(df_enc)\n",
    "\n",
    "# X = df_norm\n",
    "# y = df_enc_0[\"target\"]\n",
    "\n",
    "X , y = load_jobchange()\n"
   ]
  },
  {
   "cell_type": "code",
   "execution_count": 7,
   "id": "cb8c6400-0e21-406a-9812-ac4ad61c452f",
   "metadata": {},
   "outputs": [
    {
     "data": {
      "text/plain": [
       "{'fit_time': array([0.24564981, 0.22452402, 0.23650813]),\n",
       " 'score_time': array([0.024369  , 0.02480793, 0.02428269]),\n",
       " 'test_score': array([0.42917548, 0.40065147, 0.4166205 ])}"
      ]
     },
     "execution_count": 7,
     "metadata": {},
     "output_type": "execute_result"
    }
   ],
   "source": [
    "adaboost = AdaBoostClassifier()\n",
    "\n",
    "# scorer = make_scorer(precision_score, pos_label=1 )\n",
    "# scorer = make_scorer(recall_score, pos_label=0)\n",
    "# scorer = make_scorer(recall_score,average='weighted')\n",
    "# scorer = make_scorer(f1_score, average='weighted' )\n",
    "scorer = make_scorer(f1_score)\n",
    "\n",
    "\n",
    "cv_target = cross_validate(adaboost, X, y, cv=3, scoring=scorer)\n",
    "cv_target"
   ]
  },
  {
   "cell_type": "code",
   "execution_count": null,
   "id": "1f3482ed-cdf1-4505-9d1a-3b52a596726d",
   "metadata": {},
   "outputs": [],
   "source": []
  },
  {
   "cell_type": "code",
   "execution_count": 10,
   "id": "243938a4-8368-41b1-a1b7-7dc876e09793",
   "metadata": {},
   "outputs": [],
   "source": [
    "X_train, X_test, y_train, y_test = train_test_split( X, y, test_size=0.2, stratify=y,random_state=0)\n",
    "adaboost.fit(X_train,y_train)\n",
    "pass"
   ]
  },
  {
   "cell_type": "code",
   "execution_count": 1,
   "id": "c4f04ea8-6d3e-4ad3-a785-febd7c41f4a7",
   "metadata": {},
   "outputs": [
    {
     "ename": "NameError",
     "evalue": "name 'adaboost' is not defined",
     "output_type": "error",
     "traceback": [
      "\u001b[0;31m---------------------------------------------------------------------------\u001b[0m",
      "\u001b[0;31mNameError\u001b[0m                                 Traceback (most recent call last)",
      "\u001b[0;32m/var/folders/4m/fdqzw85x4mxbr01cyj_pnl2m0000gn/T/ipykernel_63505/3824345564.py\u001b[0m in \u001b[0;36m<module>\u001b[0;34m\u001b[0m\n\u001b[1;32m     23\u001b[0m \u001b[0;34m\u001b[0m\u001b[0m\n\u001b[1;32m     24\u001b[0m \u001b[0;34m\u001b[0m\u001b[0m\n\u001b[0;32m---> 25\u001b[0;31m \u001b[0mstats_pac\u001b[0m\u001b[0;34m(\u001b[0m\u001b[0;34m'Knn plain - Train'\u001b[0m\u001b[0;34m,\u001b[0m \u001b[0madaboost\u001b[0m\u001b[0;34m,\u001b[0m \u001b[0mX_train\u001b[0m\u001b[0;34m,\u001b[0m \u001b[0my_train\u001b[0m\u001b[0;34m)\u001b[0m\u001b[0;34m\u001b[0m\u001b[0;34m\u001b[0m\u001b[0m\n\u001b[0m\u001b[1;32m     26\u001b[0m \u001b[0mstats_pac\u001b[0m\u001b[0;34m(\u001b[0m\u001b[0;34m'Knn plain - Validation'\u001b[0m\u001b[0;34m,\u001b[0m \u001b[0madaboost\u001b[0m\u001b[0;34m,\u001b[0m \u001b[0mX_test\u001b[0m\u001b[0;34m,\u001b[0m \u001b[0my_test\u001b[0m\u001b[0;34m)\u001b[0m\u001b[0;34m\u001b[0m\u001b[0;34m\u001b[0m\u001b[0m\n",
      "\u001b[0;31mNameError\u001b[0m: name 'adaboost' is not defined"
     ]
    }
   ],
   "source": [
    "def stats_pac(label, estimator, X_data, y_data ):\n",
    "    predicted = estimator.predict(X_data)\n",
    "    print ('****** %s ******' % label)\n",
    "    cm = confusion_matrix(y_data, predicted)\n",
    "    print ('Confusion matrix')\n",
    "    print_cm(cm, labels=['0','1'])\n",
    "    \n",
    "    print ('Recall - label 0: %0.4f'% recall_score(y_data, predicted, pos_label=0))\n",
    "    print ('Recall - label 1: %0.4f'% recall_score(y_data, predicted))\n",
    "\n",
    "    print ('Precsion - label 0: %0.4f'% precision_score(y_data, predicted, pos_label=0))\n",
    "    print ('Precsion - label 1: %0.4f'% precision_score(y_data, predicted))\n",
    "    \n",
    "    sample_wt = [ 3 if i == 1 else 1 for i in predicted]\n",
    "    print ('F1 Score macro: %0.4f'% f1_score(y_data, predicted, average='macro', sample_weight=sample_wt ))\n",
    "    print ('F1 Score - label 0 : %0.4f'% f1_score(y_data, predicted, pos_label=0 ))\n",
    "    print ('F1 Score - label 1 : %0.4f'% f1_score(y_data, predicted, pos_label=1 ))\n",
    "    print ('F1 Score - weighted avg : %0.4f'% f1_score(y_data, predicted, average='weighted' ))\n",
    "    print ('F1 Beta - b=2 weighted avg : %0.4f'% fbeta_score(y_data,predicted, average='weighted', beta=2))\n",
    "    \n",
    "    print (classification_report(y_data, predicted, labels=[1,0]))\n",
    "\n",
    "\n",
    "\n",
    "stats_pac('Knn plain - Train', adaboost, X_train, y_train)\n",
    "stats_pac('Knn plain - Validation', adaboost, X_test, y_test)"
   ]
  },
  {
   "cell_type": "markdown",
   "id": "9ed8bb11-0b1e-474a-9bd9-91387055551c",
   "metadata": {},
   "source": [
    "## Hypers"
   ]
  },
  {
   "cell_type": "code",
   "execution_count": 47,
   "id": "262b0e0e-2232-4125-b85b-be7dcad255de",
   "metadata": {},
   "outputs": [
    {
     "data": {
      "text/plain": [
       "array([   1,  215,  429,  643,  857, 1072, 1286, 1500, 1714, 1928, 2143,\n",
       "       2357, 2571, 2785, 3000], dtype=int32)"
      ]
     },
     "execution_count": 47,
     "metadata": {},
     "output_type": "execute_result"
    }
   ],
   "source": [
    "\n",
    "adaboost1 = AdaBoostClassifier(random_state=0)\n",
    "strat_cv = StratifiedKFold(3, shuffle=True,  random_state=0)\n",
    "range_list1  = np.linspace(1, 3000, 15).astype('int32')\n",
    "range_list1\n"
   ]
  },
  {
   "cell_type": "code",
   "execution_count": 48,
   "id": "a030c5dd-1968-4536-b3f3-b5dba4558c4e",
   "metadata": {},
   "outputs": [
    {
     "name": "stdout",
     "output_type": "stream",
     "text": [
      "done\n"
     ]
    }
   ],
   "source": [
    "ada_train_scores1, ada_test_scores1 = validation_curve(\n",
    "    adaboost1, X, y, param_name=\"n_estimators\", param_range=range_list1,\n",
    "    scoring=scorer, cv=strat_cv, n_jobs=-1)\n",
    "print(\"done\")"
   ]
  },
  {
   "cell_type": "code",
   "execution_count": 50,
   "id": "f6cff795-da4d-4e94-86d7-45ab2fb8a32e",
   "metadata": {},
   "outputs": [
    {
     "data": {
      "text/html": [
       "<div>\n",
       "<style scoped>\n",
       "    .dataframe tbody tr th:only-of-type {\n",
       "        vertical-align: middle;\n",
       "    }\n",
       "\n",
       "    .dataframe tbody tr th {\n",
       "        vertical-align: top;\n",
       "    }\n",
       "\n",
       "    .dataframe thead th {\n",
       "        text-align: right;\n",
       "    }\n",
       "</style>\n",
       "<table border=\"1\" class=\"dataframe\">\n",
       "  <thead>\n",
       "    <tr style=\"text-align: right;\">\n",
       "      <th></th>\n",
       "      <th>x</th>\n",
       "      <th>train</th>\n",
       "      <th>test</th>\n",
       "    </tr>\n",
       "  </thead>\n",
       "  <tbody>\n",
       "    <tr>\n",
       "      <th>0</th>\n",
       "      <td>1</td>\n",
       "      <td>0.492334</td>\n",
       "      <td>0.492202</td>\n",
       "    </tr>\n",
       "    <tr>\n",
       "      <th>1</th>\n",
       "      <td>215</td>\n",
       "      <td>0.448567</td>\n",
       "      <td>0.421245</td>\n",
       "    </tr>\n",
       "    <tr>\n",
       "      <th>2</th>\n",
       "      <td>429</td>\n",
       "      <td>0.455921</td>\n",
       "      <td>0.430904</td>\n",
       "    </tr>\n",
       "    <tr>\n",
       "      <th>3</th>\n",
       "      <td>643</td>\n",
       "      <td>0.462485</td>\n",
       "      <td>0.428265</td>\n",
       "    </tr>\n",
       "    <tr>\n",
       "      <th>4</th>\n",
       "      <td>857</td>\n",
       "      <td>0.461251</td>\n",
       "      <td>0.432097</td>\n",
       "    </tr>\n",
       "    <tr>\n",
       "      <th>5</th>\n",
       "      <td>1072</td>\n",
       "      <td>0.465610</td>\n",
       "      <td>0.435135</td>\n",
       "    </tr>\n",
       "    <tr>\n",
       "      <th>6</th>\n",
       "      <td>1286</td>\n",
       "      <td>0.466990</td>\n",
       "      <td>0.437682</td>\n",
       "    </tr>\n",
       "    <tr>\n",
       "      <th>7</th>\n",
       "      <td>1500</td>\n",
       "      <td>0.467728</td>\n",
       "      <td>0.437473</td>\n",
       "    </tr>\n",
       "    <tr>\n",
       "      <th>8</th>\n",
       "      <td>1714</td>\n",
       "      <td>0.470269</td>\n",
       "      <td>0.438322</td>\n",
       "    </tr>\n",
       "    <tr>\n",
       "      <th>9</th>\n",
       "      <td>1928</td>\n",
       "      <td>0.471290</td>\n",
       "      <td>0.435819</td>\n",
       "    </tr>\n",
       "    <tr>\n",
       "      <th>10</th>\n",
       "      <td>2143</td>\n",
       "      <td>0.471788</td>\n",
       "      <td>0.438281</td>\n",
       "    </tr>\n",
       "    <tr>\n",
       "      <th>11</th>\n",
       "      <td>2357</td>\n",
       "      <td>0.474027</td>\n",
       "      <td>0.437830</td>\n",
       "    </tr>\n",
       "    <tr>\n",
       "      <th>12</th>\n",
       "      <td>2571</td>\n",
       "      <td>0.473660</td>\n",
       "      <td>0.438829</td>\n",
       "    </tr>\n",
       "    <tr>\n",
       "      <th>13</th>\n",
       "      <td>2785</td>\n",
       "      <td>0.474545</td>\n",
       "      <td>0.438817</td>\n",
       "    </tr>\n",
       "    <tr>\n",
       "      <th>14</th>\n",
       "      <td>3000</td>\n",
       "      <td>0.476080</td>\n",
       "      <td>0.439848</td>\n",
       "    </tr>\n",
       "  </tbody>\n",
       "</table>\n",
       "</div>"
      ],
      "text/plain": [
       "       x     train      test\n",
       "0      1  0.492334  0.492202\n",
       "1    215  0.448567  0.421245\n",
       "2    429  0.455921  0.430904\n",
       "3    643  0.462485  0.428265\n",
       "4    857  0.461251  0.432097\n",
       "5   1072  0.465610  0.435135\n",
       "6   1286  0.466990  0.437682\n",
       "7   1500  0.467728  0.437473\n",
       "8   1714  0.470269  0.438322\n",
       "9   1928  0.471290  0.435819\n",
       "10  2143  0.471788  0.438281\n",
       "11  2357  0.474027  0.437830\n",
       "12  2571  0.473660  0.438829\n",
       "13  2785  0.474545  0.438817\n",
       "14  3000  0.476080  0.439848"
      ]
     },
     "execution_count": 50,
     "metadata": {},
     "output_type": "execute_result"
    }
   ],
   "source": [
    "train_scores_mean1 = np.mean(ada_train_scores1, axis=1)\n",
    "test_scores_mean1 = np.mean(ada_test_scores1, axis=1)\n",
    "# print (range_list.shape,train_scores_mean.shape,test_scores_mean.shape)\n",
    "df_1 = pd.DataFrame({'x':range_list1,'train':train_scores_mean1,'test':test_scores_mean1} )\n",
    "df_1"
   ]
  },
  {
   "cell_type": "code",
   "execution_count": 51,
   "id": "fe4c8a7d-3dda-4f3b-9145-68cb72fae8b6",
   "metadata": {},
   "outputs": [
    {
     "data": {
      "text/plain": [
       "Text(0.5, 1.0, 'AdaBoost Validation curve:\\nAdaboost Weak Learners')"
      ]
     },
     "execution_count": 51,
     "metadata": {},
     "output_type": "execute_result"
    },
    {
     "data": {
      "image/png": "[encoded data removed]",
      "text/plain": [
       "<Figure size 432x288 with 1 Axes>"
      ]
     },
     "metadata": {
      "needs_background": "light"
     },
     "output_type": "display_data"
    }
   ],
   "source": [
    "axs = plt.gca()\n",
    "axs.plot(df_1['x'], df_1['train'], label='Train', linewidth=0.75)\n",
    "axs.plot(df_1['x'], df_1['test'], label='Validation', linewidth=0.75)\n",
    "axs.legend(); axs.set_ylabel(\"Metric: F1 Score\"); axs.set_xlabel(\"Weak Learners\")\n",
    "# axs.set_xscale('log')\n",
    "axs.set_title('AdaBoost Validation curve:\\nAdaboost Weak Learners')"
   ]
  },
  {
   "cell_type": "code",
   "execution_count": null,
   "id": "cd958942-ba21-49b6-bb04-c9afce68afd6",
   "metadata": {},
   "outputs": [],
   "source": [
    "?AdaBoostClassifier"
   ]
  },
  {
   "cell_type": "code",
   "execution_count": null,
   "id": "3e21cd4c-acd1-4784-bf40-cff93607f1ea",
   "metadata": {},
   "outputs": [],
   "source": []
  },
  {
   "cell_type": "code",
   "execution_count": 52,
   "id": "5dfe1f62-541c-41e7-880c-d0402dfb00e3",
   "metadata": {},
   "outputs": [
    {
     "data": {
      "text/plain": [
       "array([ 0.01      ,  0.53578947,  1.06157895,  1.58736842,  2.11315789,\n",
       "        2.63894737,  3.16473684,  3.69052632,  4.21631579,  4.74210526,\n",
       "        5.26789474,  5.79368421,  6.31947368,  6.84526316,  7.37105263,\n",
       "        7.89684211,  8.42263158,  8.94842105,  9.47421053, 10.        ])"
      ]
     },
     "execution_count": 52,
     "metadata": {},
     "output_type": "execute_result"
    }
   ],
   "source": [
    "\n",
    "adaboost2 = AdaBoostClassifier(random_state=0)\n",
    "strat_cv = StratifiedKFold(3, shuffle=True,  random_state=0)\n",
    "range_list2  = np.linspace(0.01, 10, 20)\n",
    "range_list2\n"
   ]
  },
  {
   "cell_type": "code",
   "execution_count": 53,
   "id": "c225f455-3961-44b3-8852-9671ccf4bc63",
   "metadata": {},
   "outputs": [
    {
     "name": "stdout",
     "output_type": "stream",
     "text": [
      "done\n"
     ]
    }
   ],
   "source": [
    "ada_train_scores2, ada_test_scores2 = validation_curve(\n",
    "    adaboost1, X, y, param_name=\"learning_rate\", param_range=range_list2,\n",
    "    scoring=scorer, cv=strat_cv, n_jobs=-1)\n",
    "print(\"done\")"
   ]
  },
  {
   "cell_type": "code",
   "execution_count": 54,
   "id": "bf938701-730a-4b76-9e6f-9cac5dd35621",
   "metadata": {},
   "outputs": [
    {
     "data": {
      "text/html": [
       "<div>\n",
       "<style scoped>\n",
       "    .dataframe tbody tr th:only-of-type {\n",
       "        vertical-align: middle;\n",
       "    }\n",
       "\n",
       "    .dataframe tbody tr th {\n",
       "        vertical-align: top;\n",
       "    }\n",
       "\n",
       "    .dataframe thead th {\n",
       "        text-align: right;\n",
       "    }\n",
       "</style>\n",
       "<table border=\"1\" class=\"dataframe\">\n",
       "  <thead>\n",
       "    <tr style=\"text-align: right;\">\n",
       "      <th></th>\n",
       "      <th>x</th>\n",
       "      <th>train</th>\n",
       "      <th>test</th>\n",
       "    </tr>\n",
       "  </thead>\n",
       "  <tbody>\n",
       "    <tr>\n",
       "      <th>0</th>\n",
       "      <td>0.010000</td>\n",
       "      <td>0.492334</td>\n",
       "      <td>0.492202</td>\n",
       "    </tr>\n",
       "    <tr>\n",
       "      <th>1</th>\n",
       "      <td>0.535789</td>\n",
       "      <td>0.391715</td>\n",
       "      <td>0.378272</td>\n",
       "    </tr>\n",
       "    <tr>\n",
       "      <th>2</th>\n",
       "      <td>1.061579</td>\n",
       "      <td>0.429699</td>\n",
       "      <td>0.408268</td>\n",
       "    </tr>\n",
       "    <tr>\n",
       "      <th>3</th>\n",
       "      <td>1.587368</td>\n",
       "      <td>0.438620</td>\n",
       "      <td>0.420443</td>\n",
       "    </tr>\n",
       "    <tr>\n",
       "      <th>4</th>\n",
       "      <td>2.113158</td>\n",
       "      <td>0.268855</td>\n",
       "      <td>0.268529</td>\n",
       "    </tr>\n",
       "    <tr>\n",
       "      <th>5</th>\n",
       "      <td>2.638947</td>\n",
       "      <td>0.268793</td>\n",
       "      <td>0.268529</td>\n",
       "    </tr>\n",
       "    <tr>\n",
       "      <th>6</th>\n",
       "      <td>3.164737</td>\n",
       "      <td>0.268855</td>\n",
       "      <td>0.268529</td>\n",
       "    </tr>\n",
       "    <tr>\n",
       "      <th>7</th>\n",
       "      <td>3.690526</td>\n",
       "      <td>0.268828</td>\n",
       "      <td>0.268511</td>\n",
       "    </tr>\n",
       "    <tr>\n",
       "      <th>8</th>\n",
       "      <td>4.216316</td>\n",
       "      <td>0.268731</td>\n",
       "      <td>0.268704</td>\n",
       "    </tr>\n",
       "    <tr>\n",
       "      <th>9</th>\n",
       "      <td>4.742105</td>\n",
       "      <td>0.268731</td>\n",
       "      <td>0.268704</td>\n",
       "    </tr>\n",
       "    <tr>\n",
       "      <th>10</th>\n",
       "      <td>5.267895</td>\n",
       "      <td>0.399198</td>\n",
       "      <td>0.399198</td>\n",
       "    </tr>\n",
       "    <tr>\n",
       "      <th>11</th>\n",
       "      <td>5.793684</td>\n",
       "      <td>0.399354</td>\n",
       "      <td>0.399086</td>\n",
       "    </tr>\n",
       "    <tr>\n",
       "      <th>12</th>\n",
       "      <td>6.319474</td>\n",
       "      <td>0.399354</td>\n",
       "      <td>0.399086</td>\n",
       "    </tr>\n",
       "    <tr>\n",
       "      <th>13</th>\n",
       "      <td>6.845263</td>\n",
       "      <td>0.399354</td>\n",
       "      <td>0.399086</td>\n",
       "    </tr>\n",
       "    <tr>\n",
       "      <th>14</th>\n",
       "      <td>7.371053</td>\n",
       "      <td>0.399354</td>\n",
       "      <td>0.399086</td>\n",
       "    </tr>\n",
       "    <tr>\n",
       "      <th>15</th>\n",
       "      <td>7.896842</td>\n",
       "      <td>0.399354</td>\n",
       "      <td>0.399086</td>\n",
       "    </tr>\n",
       "    <tr>\n",
       "      <th>16</th>\n",
       "      <td>8.422632</td>\n",
       "      <td>0.268855</td>\n",
       "      <td>0.268529</td>\n",
       "    </tr>\n",
       "    <tr>\n",
       "      <th>17</th>\n",
       "      <td>8.948421</td>\n",
       "      <td>0.268855</td>\n",
       "      <td>0.268529</td>\n",
       "    </tr>\n",
       "    <tr>\n",
       "      <th>18</th>\n",
       "      <td>9.474211</td>\n",
       "      <td>0.268855</td>\n",
       "      <td>0.268529</td>\n",
       "    </tr>\n",
       "    <tr>\n",
       "      <th>19</th>\n",
       "      <td>10.000000</td>\n",
       "      <td>0.268855</td>\n",
       "      <td>0.268529</td>\n",
       "    </tr>\n",
       "  </tbody>\n",
       "</table>\n",
       "</div>"
      ],
      "text/plain": [
       "            x     train      test\n",
       "0    0.010000  0.492334  0.492202\n",
       "1    0.535789  0.391715  0.378272\n",
       "2    1.061579  0.429699  0.408268\n",
       "3    1.587368  0.438620  0.420443\n",
       "4    2.113158  0.268855  0.268529\n",
       "5    2.638947  0.268793  0.268529\n",
       "6    3.164737  0.268855  0.268529\n",
       "7    3.690526  0.268828  0.268511\n",
       "8    4.216316  0.268731  0.268704\n",
       "9    4.742105  0.268731  0.268704\n",
       "10   5.267895  0.399198  0.399198\n",
       "11   5.793684  0.399354  0.399086\n",
       "12   6.319474  0.399354  0.399086\n",
       "13   6.845263  0.399354  0.399086\n",
       "14   7.371053  0.399354  0.399086\n",
       "15   7.896842  0.399354  0.399086\n",
       "16   8.422632  0.268855  0.268529\n",
       "17   8.948421  0.268855  0.268529\n",
       "18   9.474211  0.268855  0.268529\n",
       "19  10.000000  0.268855  0.268529"
      ]
     },
     "execution_count": 54,
     "metadata": {},
     "output_type": "execute_result"
    }
   ],
   "source": [
    "train_scores_mean2 = np.mean(ada_train_scores2, axis=1)\n",
    "test_scores_mean2 = np.mean(ada_test_scores2, axis=1)\n",
    "# print (range_list.shape,train_scores_mean.shape,test_scores_mean.shape)\n",
    "df_2 = pd.DataFrame({'x':range_list2,'train':train_scores_mean2,'test':test_scores_mean2} )\n",
    "df_2"
   ]
  },
  {
   "cell_type": "code",
   "execution_count": 55,
   "id": "77550892-e362-4bb4-b8d9-7042b1c9a5dd",
   "metadata": {},
   "outputs": [
    {
     "data": {
      "text/plain": [
       "Text(0.5, 1.0, 'AdaBoost Validation curve:\\nAdaboost Learning Rate')"
      ]
     },
     "execution_count": 55,
     "metadata": {},
     "output_type": "execute_result"
    },
    {
     "data": {
      "image/png": "[encoded data removed]",
      "text/plain": [
       "<Figure size 432x288 with 1 Axes>"
      ]
     },
     "metadata": {
      "needs_background": "light"
     },
     "output_type": "display_data"
    }
   ],
   "source": [
    "axs = plt.gca()\n",
    "axs.plot(df_2['x'], df_2['train'], label='Train', linewidth=0.75)\n",
    "axs.plot(df_2['x'], df_2['test'], label='Validation', linewidth=0.75)\n",
    "axs.legend(); axs.set_ylabel(\"Metric: F1 Score\"); axs.set_xlabel(\"Learning Rate\")\n",
    "# axs.set_xscale('log')\n",
    "axs.set_title('AdaBoost Validation curve:\\nAdaboost Learning Rate')"
   ]
  },
  {
   "cell_type": "code",
   "execution_count": 64,
   "id": "5bc59f88-5cf9-4a79-b1cd-472bdc7b27fb",
   "metadata": {},
   "outputs": [
    {
     "name": "stdout",
     "output_type": "stream",
     "text": [
      "RandomizedSearchCV(cv=StratifiedKFold(n_splits=3, random_state=0, shuffle=True),\n",
      "                   estimator=AdaBoostClassifier(random_state=0), n_iter=75,\n",
      "                   n_jobs=-1,\n",
      "                   param_distributions={'learning_rate': array([1. , 1.2, 1.4, 1.6, 1.8]),\n",
      "                                        'n_estimators': array([ 1,  3,  5,  7,  9, 11, 13, 15, 17, 20], dtype=int32)},\n",
      "                   random_state=0, scoring=make_scorer(f1_score))\n"
     ]
    },
    {
     "name": "stderr",
     "output_type": "stream",
     "text": [
      "/Users/sdodge/work/omscs/cs7641/cs7641_assignments/env3.9.7/lib/python3.9/site-packages/sklearn/model_selection/_search.py:285: UserWarning: The total space of parameters 50 is smaller than n_iter=75. Running 50 iterations. For exhaustive searches, use GridSearchCV.\n",
      "  warnings.warn(\n"
     ]
    },
    {
     "name": "stdout",
     "output_type": "stream",
     "text": [
      "Total time : 2.1320 seconds\n"
     ]
    }
   ],
   "source": [
    "\n",
    "adaboost3 = AdaBoostClassifier(random_state=0)\n",
    "the_srch = RandomizedSearchCV(\n",
    "    adaboost3, \n",
    "    {\"learning_rate\": np.linspace(1,1.8, 5), \"n_estimators\":np.linspace(1,20,10).astype('int32')},\n",
    "    scoring=scorer,\n",
    "    return_train_score=False,\n",
    "    cv=strat_cv,\n",
    "    n_iter=75,\n",
    "    random_state=0,\n",
    "    n_jobs=-1\n",
    ")\n",
    "print(the_srch)\n",
    "tic = time.perf_counter()\n",
    "the_srch.fit(X,y)\n",
    "toc = time.perf_counter()\n",
    "print(f\"Total time : {toc-tic:0.4f} seconds\")"
   ]
  },
  {
   "cell_type": "code",
   "execution_count": 65,
   "id": "1952a34c-b9e1-4092-8aa5-2a8ecc48f362",
   "metadata": {},
   "outputs": [
    {
     "name": "stdout",
     "output_type": "stream",
     "text": [
      "rank:1 -- params{'n_estimators': 5, 'learning_rate': 1.4} score:0.5307090007450339\n",
      "rank:2 -- params{'n_estimators': 9, 'learning_rate': 1.6} score:0.5279283574102384\n",
      "rank:3 -- params{'n_estimators': 1, 'learning_rate': 1.0} score:0.4922015795285993\n",
      "rank:3 -- params{'n_estimators': 1, 'learning_rate': 1.2} score:0.4922015795285993\n",
      "rank:3 -- params{'n_estimators': 1, 'learning_rate': 1.4} score:0.4922015795285993\n",
      "rank:3 -- params{'n_estimators': 1, 'learning_rate': 1.6} score:0.4922015795285993\n",
      "rank:3 -- params{'n_estimators': 5, 'learning_rate': 1.6} score:0.4922015795285993\n",
      "rank:3 -- params{'n_estimators': 1, 'learning_rate': 1.8} score:0.4922015795285993\n"
     ]
    },
    {
     "data": {
      "text/html": [
       "<div>\n",
       "<style scoped>\n",
       "    .dataframe tbody tr th:only-of-type {\n",
       "        vertical-align: middle;\n",
       "    }\n",
       "\n",
       "    .dataframe tbody tr th {\n",
       "        vertical-align: top;\n",
       "    }\n",
       "\n",
       "    .dataframe thead th {\n",
       "        text-align: right;\n",
       "    }\n",
       "</style>\n",
       "<table border=\"1\" class=\"dataframe\">\n",
       "  <thead>\n",
       "    <tr style=\"text-align: right;\">\n",
       "      <th></th>\n",
       "      <th>mean_fit_time</th>\n",
       "      <th>std_fit_time</th>\n",
       "      <th>mean_score_time</th>\n",
       "      <th>std_score_time</th>\n",
       "      <th>param_n_estimators</th>\n",
       "      <th>param_learning_rate</th>\n",
       "      <th>params</th>\n",
       "      <th>split0_test_score</th>\n",
       "      <th>split1_test_score</th>\n",
       "      <th>split2_test_score</th>\n",
       "      <th>mean_test_score</th>\n",
       "      <th>std_test_score</th>\n",
       "      <th>rank_test_score</th>\n",
       "    </tr>\n",
       "  </thead>\n",
       "  <tbody>\n",
       "    <tr>\n",
       "      <th>0</th>\n",
       "      <td>0.009101</td>\n",
       "      <td>0.002444</td>\n",
       "      <td>0.003427</td>\n",
       "      <td>0.000797</td>\n",
       "      <td>1</td>\n",
       "      <td>1.0</td>\n",
       "      <td>{'n_estimators': 1, 'learning_rate': 1.0}</td>\n",
       "      <td>0.472511</td>\n",
       "      <td>0.498069</td>\n",
       "      <td>0.506024</td>\n",
       "      <td>0.492202</td>\n",
       "      <td>0.014297</td>\n",
       "      <td>3</td>\n",
       "    </tr>\n",
       "    <tr>\n",
       "      <th>10</th>\n",
       "      <td>0.009562</td>\n",
       "      <td>0.000925</td>\n",
       "      <td>0.003552</td>\n",
       "      <td>0.000093</td>\n",
       "      <td>1</td>\n",
       "      <td>1.2</td>\n",
       "      <td>{'n_estimators': 1, 'learning_rate': 1.2}</td>\n",
       "      <td>0.472511</td>\n",
       "      <td>0.498069</td>\n",
       "      <td>0.506024</td>\n",
       "      <td>0.492202</td>\n",
       "      <td>0.014297</td>\n",
       "      <td>3</td>\n",
       "    </tr>\n",
       "    <tr>\n",
       "      <th>20</th>\n",
       "      <td>0.009010</td>\n",
       "      <td>0.000584</td>\n",
       "      <td>0.003687</td>\n",
       "      <td>0.000074</td>\n",
       "      <td>1</td>\n",
       "      <td>1.4</td>\n",
       "      <td>{'n_estimators': 1, 'learning_rate': 1.4}</td>\n",
       "      <td>0.472511</td>\n",
       "      <td>0.498069</td>\n",
       "      <td>0.506024</td>\n",
       "      <td>0.492202</td>\n",
       "      <td>0.014297</td>\n",
       "      <td>3</td>\n",
       "    </tr>\n",
       "    <tr>\n",
       "      <th>22</th>\n",
       "      <td>0.038967</td>\n",
       "      <td>0.002961</td>\n",
       "      <td>0.006479</td>\n",
       "      <td>0.000087</td>\n",
       "      <td>5</td>\n",
       "      <td>1.4</td>\n",
       "      <td>{'n_estimators': 5, 'learning_rate': 1.4}</td>\n",
       "      <td>0.522415</td>\n",
       "      <td>0.538043</td>\n",
       "      <td>0.531668</td>\n",
       "      <td>0.530709</td>\n",
       "      <td>0.006416</td>\n",
       "      <td>1</td>\n",
       "    </tr>\n",
       "    <tr>\n",
       "      <th>30</th>\n",
       "      <td>0.008978</td>\n",
       "      <td>0.001090</td>\n",
       "      <td>0.003517</td>\n",
       "      <td>0.000125</td>\n",
       "      <td>1</td>\n",
       "      <td>1.6</td>\n",
       "      <td>{'n_estimators': 1, 'learning_rate': 1.6}</td>\n",
       "      <td>0.472511</td>\n",
       "      <td>0.498069</td>\n",
       "      <td>0.506024</td>\n",
       "      <td>0.492202</td>\n",
       "      <td>0.014297</td>\n",
       "      <td>3</td>\n",
       "    </tr>\n",
       "    <tr>\n",
       "      <th>32</th>\n",
       "      <td>0.055787</td>\n",
       "      <td>0.017305</td>\n",
       "      <td>0.007356</td>\n",
       "      <td>0.000677</td>\n",
       "      <td>5</td>\n",
       "      <td>1.6</td>\n",
       "      <td>{'n_estimators': 5, 'learning_rate': 1.6}</td>\n",
       "      <td>0.472511</td>\n",
       "      <td>0.498069</td>\n",
       "      <td>0.506024</td>\n",
       "      <td>0.492202</td>\n",
       "      <td>0.014297</td>\n",
       "      <td>3</td>\n",
       "    </tr>\n",
       "    <tr>\n",
       "      <th>34</th>\n",
       "      <td>0.078319</td>\n",
       "      <td>0.011184</td>\n",
       "      <td>0.009805</td>\n",
       "      <td>0.000315</td>\n",
       "      <td>9</td>\n",
       "      <td>1.6</td>\n",
       "      <td>{'n_estimators': 9, 'learning_rate': 1.6}</td>\n",
       "      <td>0.520092</td>\n",
       "      <td>0.535289</td>\n",
       "      <td>0.528404</td>\n",
       "      <td>0.527928</td>\n",
       "      <td>0.006213</td>\n",
       "      <td>2</td>\n",
       "    </tr>\n",
       "    <tr>\n",
       "      <th>40</th>\n",
       "      <td>0.010010</td>\n",
       "      <td>0.000610</td>\n",
       "      <td>0.003668</td>\n",
       "      <td>0.000135</td>\n",
       "      <td>1</td>\n",
       "      <td>1.8</td>\n",
       "      <td>{'n_estimators': 1, 'learning_rate': 1.8}</td>\n",
       "      <td>0.472511</td>\n",
       "      <td>0.498069</td>\n",
       "      <td>0.506024</td>\n",
       "      <td>0.492202</td>\n",
       "      <td>0.014297</td>\n",
       "      <td>3</td>\n",
       "    </tr>\n",
       "  </tbody>\n",
       "</table>\n",
       "</div>"
      ],
      "text/plain": [
       "    mean_fit_time  std_fit_time  mean_score_time  std_score_time  \\\n",
       "0        0.009101      0.002444         0.003427        0.000797   \n",
       "10       0.009562      0.000925         0.003552        0.000093   \n",
       "20       0.009010      0.000584         0.003687        0.000074   \n",
       "22       0.038967      0.002961         0.006479        0.000087   \n",
       "30       0.008978      0.001090         0.003517        0.000125   \n",
       "32       0.055787      0.017305         0.007356        0.000677   \n",
       "34       0.078319      0.011184         0.009805        0.000315   \n",
       "40       0.010010      0.000610         0.003668        0.000135   \n",
       "\n",
       "   param_n_estimators param_learning_rate  \\\n",
       "0                   1                 1.0   \n",
       "10                  1                 1.2   \n",
       "20                  1                 1.4   \n",
       "22                  5                 1.4   \n",
       "30                  1                 1.6   \n",
       "32                  5                 1.6   \n",
       "34                  9                 1.6   \n",
       "40                  1                 1.8   \n",
       "\n",
       "                                       params  split0_test_score  \\\n",
       "0   {'n_estimators': 1, 'learning_rate': 1.0}           0.472511   \n",
       "10  {'n_estimators': 1, 'learning_rate': 1.2}           0.472511   \n",
       "20  {'n_estimators': 1, 'learning_rate': 1.4}           0.472511   \n",
       "22  {'n_estimators': 5, 'learning_rate': 1.4}           0.522415   \n",
       "30  {'n_estimators': 1, 'learning_rate': 1.6}           0.472511   \n",
       "32  {'n_estimators': 5, 'learning_rate': 1.6}           0.472511   \n",
       "34  {'n_estimators': 9, 'learning_rate': 1.6}           0.520092   \n",
       "40  {'n_estimators': 1, 'learning_rate': 1.8}           0.472511   \n",
       "\n",
       "    split1_test_score  split2_test_score  mean_test_score  std_test_score  \\\n",
       "0            0.498069           0.506024         0.492202        0.014297   \n",
       "10           0.498069           0.506024         0.492202        0.014297   \n",
       "20           0.498069           0.506024         0.492202        0.014297   \n",
       "22           0.538043           0.531668         0.530709        0.006416   \n",
       "30           0.498069           0.506024         0.492202        0.014297   \n",
       "32           0.498069           0.506024         0.492202        0.014297   \n",
       "34           0.535289           0.528404         0.527928        0.006213   \n",
       "40           0.498069           0.506024         0.492202        0.014297   \n",
       "\n",
       "    rank_test_score  \n",
       "0                 3  \n",
       "10                3  \n",
       "20                3  \n",
       "22                1  \n",
       "30                3  \n",
       "32                3  \n",
       "34                2  \n",
       "40                3  "
      ]
     },
     "execution_count": 65,
     "metadata": {},
     "output_type": "execute_result"
    }
   ],
   "source": [
    "less_5 = pd.DataFrame(the_srch.cv_results_)['rank_test_score'] <= 5\n",
    "\n",
    "filtered_series = pd.DataFrame(the_srch.cv_results_)[less_5].filter(['params','rank_test_score','mean_test_score'])\n",
    "sorted_series =  (filtered_series.sort_values(by=['rank_test_score']))\n",
    "out_rows = [r for r in sorted_series.values]\n",
    "# type(pd.DataFrame(mlp_rand.cv_results_)[less_5]['params'])\n",
    "for r in out_rows:\n",
    "    print( f\"rank:{r[1]} -- params{r[0]} score:{r[2]}\")\n",
    "\n",
    "pd.DataFrame(the_srch.cv_results_)[less_5]"
   ]
  },
  {
   "cell_type": "code",
   "execution_count": null,
   "id": "24e249a3-ee35-492c-a857-d5f0f7faac07",
   "metadata": {},
   "outputs": [],
   "source": []
  }
 ],
 "metadata": {
  "kernelspec": {
   "display_name": "Python 3 (ipykernel)",
   "language": "python",
   "name": "python3"
  },
  "language_info": {
   "codemirror_mode": {
    "name": "ipython",
    "version": 3
   },
   "file_extension": ".py",
   "mimetype": "text/x-python",
   "name": "python",
   "nbconvert_exporter": "python",
   "pygments_lexer": "ipython3",
   "version": "3.9.7"
  }
 },
 "nbformat": 4,
 "nbformat_minor": 5
}
