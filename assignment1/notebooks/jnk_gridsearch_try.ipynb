{
 "cells": [
  {
   "cell_type": "code",
   "execution_count": 136,
   "id": "ed1e71f6-a57a-4016-85fa-6e1b61d8c50b",
   "metadata": {},
   "outputs": [],
   "source": [
    "import numpy as np\n",
    "import pandas as pd\n",
    "import matplotlib.pylab as plt\n",
    "import seaborn as sns\n",
    "from sklearn.tree import DecisionTreeClassifier\n",
    "from sklearn.model_selection import GridSearchCV\n",
    "from sklearn.preprocessing import  MinMaxScaler\n",
    "from sklearn.metrics import precision_recall_fscore_support, make_scorer, recall_score, f1_score, confusion_matrix, precision_score, balanced_accuracy_score\n",
    "                           \n"
   ]
  },
  {
   "cell_type": "markdown",
   "id": "d04794d6-1ed6-4fd0-a499-a08eec92edf9",
   "metadata": {},
   "source": [
    "## Prepare Data (Malicious hacks)"
   ]
  },
  {
   "cell_type": "code",
   "execution_count": 13,
   "id": "981eb003-37a5-432b-ae36-b0e6f1f0daeb",
   "metadata": {},
   "outputs": [],
   "source": [
    "df = pd.read_csv(\"data/malicious_01.csv\")\n"
   ]
  },
  {
   "cell_type": "code",
   "execution_count": 144,
   "id": "cbe3446f-6090-48d8-8673-3da74ec433bb",
   "metadata": {},
   "outputs": [],
   "source": [
    "Xdf = df.drop(columns=[\"INCIDENT_ID\",\"DATE\", \"MALICIOUS_OFFENSE\"])\n",
    "y = df[\"MALICIOUS_OFFENSE\"]\n",
    "Xdf['X_12'] = np.nan_to_num(Xdf['X_12'])\n",
    "X, y = Xdf.values, y.values"
   ]
  },
  {
   "cell_type": "markdown",
   "id": "558e7b74-f9dc-4b37-b8d4-bd75f64e474b",
   "metadata": {},
   "source": [
    "## Decsion Tree Classifier"
   ]
  },
  {
   "cell_type": "code",
   "execution_count": 46,
   "id": "d8df54ec-400d-469c-844b-5333c3238dcb",
   "metadata": {},
   "outputs": [],
   "source": [
    "dt =  DecisionTreeClassifier()\n",
    "# ??dt.score"
   ]
  },
  {
   "cell_type": "code",
   "execution_count": 181,
   "id": "bb1d4ebe-9672-48ad-b137-eaebef868d47",
   "metadata": {},
   "outputs": [],
   "source": [
    "dt_grid = GridSearchCV(\n",
    "    estimator=dt, \n",
    "    param_grid={\"max_depth\": [3,5,7,10,15, 20]},\n",
    "    scoring={'recall':make_scorer(recall_score), 'precision':make_scorer(precision_score), 'bal_ac': make_scorer(balanced_accuracy_score),\n",
    "            'f1':make_scorer(f1_score, pos_label=0)},\n",
    "    refit='f1',\n",
    "    return_train_score=True,\n",
    "    cv=5\n",
    ")"
   ]
  },
  {
   "cell_type": "code",
   "execution_count": 55,
   "id": "aecdd841-98b0-48ca-8fbc-f55c92e83e31",
   "metadata": {},
   "outputs": [
    {
     "data": {
      "text/plain": [
       "(array([], dtype=int64), array([], dtype=int64))"
      ]
     },
     "execution_count": 55,
     "metadata": {},
     "output_type": "execute_result"
    }
   ],
   "source": [
    "np.where(np.isnan(X))\n"
   ]
  },
  {
   "cell_type": "code",
   "execution_count": 182,
   "id": "6e0e43d9-3ff6-434b-8343-c69ddd66fd7f",
   "metadata": {
    "scrolled": true,
    "tags": []
   },
   "outputs": [
    {
     "data": {
      "text/html": [
       "<div>\n",
       "<style scoped>\n",
       "    .dataframe tbody tr th:only-of-type {\n",
       "        vertical-align: middle;\n",
       "    }\n",
       "\n",
       "    .dataframe tbody tr th {\n",
       "        vertical-align: top;\n",
       "    }\n",
       "\n",
       "    .dataframe thead th {\n",
       "        text-align: right;\n",
       "    }\n",
       "</style>\n",
       "<table border=\"1\" class=\"dataframe\">\n",
       "  <thead>\n",
       "    <tr style=\"text-align: right;\">\n",
       "      <th></th>\n",
       "      <th>mean_fit_time</th>\n",
       "      <th>std_fit_time</th>\n",
       "      <th>mean_score_time</th>\n",
       "      <th>std_score_time</th>\n",
       "      <th>param_max_depth</th>\n",
       "      <th>params</th>\n",
       "      <th>split0_test_recall</th>\n",
       "      <th>split1_test_recall</th>\n",
       "      <th>split2_test_recall</th>\n",
       "      <th>split3_test_recall</th>\n",
       "      <th>...</th>\n",
       "      <th>mean_test_f1</th>\n",
       "      <th>std_test_f1</th>\n",
       "      <th>rank_test_f1</th>\n",
       "      <th>split0_train_f1</th>\n",
       "      <th>split1_train_f1</th>\n",
       "      <th>split2_train_f1</th>\n",
       "      <th>split3_train_f1</th>\n",
       "      <th>split4_train_f1</th>\n",
       "      <th>mean_train_f1</th>\n",
       "      <th>std_train_f1</th>\n",
       "    </tr>\n",
       "  </thead>\n",
       "  <tbody>\n",
       "    <tr>\n",
       "      <th>0</th>\n",
       "      <td>0.015403</td>\n",
       "      <td>0.001199</td>\n",
       "      <td>0.007799</td>\n",
       "      <td>0.001402</td>\n",
       "      <td>3</td>\n",
       "      <td>{'max_depth': 3}</td>\n",
       "      <td>0.999122</td>\n",
       "      <td>1.000000</td>\n",
       "      <td>0.999561</td>\n",
       "      <td>0.999342</td>\n",
       "      <td>...</td>\n",
       "      <td>0.667145</td>\n",
       "      <td>0.022749</td>\n",
       "      <td>6</td>\n",
       "      <td>0.674865</td>\n",
       "      <td>0.668716</td>\n",
       "      <td>0.659426</td>\n",
       "      <td>0.662539</td>\n",
       "      <td>0.671791</td>\n",
       "      <td>0.667467</td>\n",
       "      <td>0.005726</td>\n",
       "    </tr>\n",
       "    <tr>\n",
       "      <th>1</th>\n",
       "      <td>0.015118</td>\n",
       "      <td>0.000925</td>\n",
       "      <td>0.006239</td>\n",
       "      <td>0.000385</td>\n",
       "      <td>5</td>\n",
       "      <td>{'max_depth': 5}</td>\n",
       "      <td>0.998464</td>\n",
       "      <td>0.999342</td>\n",
       "      <td>0.998903</td>\n",
       "      <td>0.999561</td>\n",
       "      <td>...</td>\n",
       "      <td>0.850120</td>\n",
       "      <td>0.014433</td>\n",
       "      <td>5</td>\n",
       "      <td>0.859211</td>\n",
       "      <td>0.852825</td>\n",
       "      <td>0.847682</td>\n",
       "      <td>0.850560</td>\n",
       "      <td>0.853755</td>\n",
       "      <td>0.852806</td>\n",
       "      <td>0.003827</td>\n",
       "    </tr>\n",
       "    <tr>\n",
       "      <th>2</th>\n",
       "      <td>0.014623</td>\n",
       "      <td>0.000410</td>\n",
       "      <td>0.006488</td>\n",
       "      <td>0.000343</td>\n",
       "      <td>7</td>\n",
       "      <td>{'max_depth': 7}</td>\n",
       "      <td>0.998903</td>\n",
       "      <td>0.998903</td>\n",
       "      <td>0.998464</td>\n",
       "      <td>0.999561</td>\n",
       "      <td>...</td>\n",
       "      <td>0.959352</td>\n",
       "      <td>0.008378</td>\n",
       "      <td>4</td>\n",
       "      <td>0.971974</td>\n",
       "      <td>0.966547</td>\n",
       "      <td>0.976303</td>\n",
       "      <td>0.973230</td>\n",
       "      <td>0.969479</td>\n",
       "      <td>0.971507</td>\n",
       "      <td>0.003314</td>\n",
       "    </tr>\n",
       "    <tr>\n",
       "      <th>3</th>\n",
       "      <td>0.015407</td>\n",
       "      <td>0.000833</td>\n",
       "      <td>0.006145</td>\n",
       "      <td>0.000610</td>\n",
       "      <td>10</td>\n",
       "      <td>{'max_depth': 10}</td>\n",
       "      <td>0.999342</td>\n",
       "      <td>0.999122</td>\n",
       "      <td>0.999122</td>\n",
       "      <td>0.999561</td>\n",
       "      <td>...</td>\n",
       "      <td>0.980183</td>\n",
       "      <td>0.009282</td>\n",
       "      <td>2</td>\n",
       "      <td>0.996475</td>\n",
       "      <td>0.998829</td>\n",
       "      <td>0.997064</td>\n",
       "      <td>0.996491</td>\n",
       "      <td>0.997658</td>\n",
       "      <td>0.997303</td>\n",
       "      <td>0.000878</td>\n",
       "    </tr>\n",
       "    <tr>\n",
       "      <th>4</th>\n",
       "      <td>0.015715</td>\n",
       "      <td>0.000754</td>\n",
       "      <td>0.006028</td>\n",
       "      <td>0.000344</td>\n",
       "      <td>15</td>\n",
       "      <td>{'max_depth': 15}</td>\n",
       "      <td>0.999122</td>\n",
       "      <td>0.999122</td>\n",
       "      <td>0.999342</td>\n",
       "      <td>0.999342</td>\n",
       "      <td>...</td>\n",
       "      <td>0.981176</td>\n",
       "      <td>0.007206</td>\n",
       "      <td>1</td>\n",
       "      <td>1.000000</td>\n",
       "      <td>1.000000</td>\n",
       "      <td>1.000000</td>\n",
       "      <td>1.000000</td>\n",
       "      <td>1.000000</td>\n",
       "      <td>1.000000</td>\n",
       "      <td>0.000000</td>\n",
       "    </tr>\n",
       "    <tr>\n",
       "      <th>5</th>\n",
       "      <td>0.015698</td>\n",
       "      <td>0.000595</td>\n",
       "      <td>0.006245</td>\n",
       "      <td>0.000333</td>\n",
       "      <td>20</td>\n",
       "      <td>{'max_depth': 20}</td>\n",
       "      <td>0.999342</td>\n",
       "      <td>0.999342</td>\n",
       "      <td>0.999561</td>\n",
       "      <td>0.999122</td>\n",
       "      <td>...</td>\n",
       "      <td>0.979753</td>\n",
       "      <td>0.004957</td>\n",
       "      <td>3</td>\n",
       "      <td>1.000000</td>\n",
       "      <td>1.000000</td>\n",
       "      <td>1.000000</td>\n",
       "      <td>1.000000</td>\n",
       "      <td>1.000000</td>\n",
       "      <td>1.000000</td>\n",
       "      <td>0.000000</td>\n",
       "    </tr>\n",
       "  </tbody>\n",
       "</table>\n",
       "<p>6 rows × 66 columns</p>\n",
       "</div>"
      ],
      "text/plain": [
       "   mean_fit_time  std_fit_time  mean_score_time  std_score_time  \\\n",
       "0       0.015403      0.001199         0.007799        0.001402   \n",
       "1       0.015118      0.000925         0.006239        0.000385   \n",
       "2       0.014623      0.000410         0.006488        0.000343   \n",
       "3       0.015407      0.000833         0.006145        0.000610   \n",
       "4       0.015715      0.000754         0.006028        0.000344   \n",
       "5       0.015698      0.000595         0.006245        0.000333   \n",
       "\n",
       "  param_max_depth             params  split0_test_recall  split1_test_recall  \\\n",
       "0               3   {'max_depth': 3}            0.999122            1.000000   \n",
       "1               5   {'max_depth': 5}            0.998464            0.999342   \n",
       "2               7   {'max_depth': 7}            0.998903            0.998903   \n",
       "3              10  {'max_depth': 10}            0.999342            0.999122   \n",
       "4              15  {'max_depth': 15}            0.999122            0.999122   \n",
       "5              20  {'max_depth': 20}            0.999342            0.999342   \n",
       "\n",
       "   split2_test_recall  split3_test_recall  ...  mean_test_f1  std_test_f1  \\\n",
       "0            0.999561            0.999342  ...      0.667145     0.022749   \n",
       "1            0.998903            0.999561  ...      0.850120     0.014433   \n",
       "2            0.998464            0.999561  ...      0.959352     0.008378   \n",
       "3            0.999122            0.999561  ...      0.980183     0.009282   \n",
       "4            0.999342            0.999342  ...      0.981176     0.007206   \n",
       "5            0.999561            0.999122  ...      0.979753     0.004957   \n",
       "\n",
       "   rank_test_f1  split0_train_f1  split1_train_f1  split2_train_f1  \\\n",
       "0             6         0.674865         0.668716         0.659426   \n",
       "1             5         0.859211         0.852825         0.847682   \n",
       "2             4         0.971974         0.966547         0.976303   \n",
       "3             2         0.996475         0.998829         0.997064   \n",
       "4             1         1.000000         1.000000         1.000000   \n",
       "5             3         1.000000         1.000000         1.000000   \n",
       "\n",
       "   split3_train_f1  split4_train_f1  mean_train_f1  std_train_f1  \n",
       "0         0.662539         0.671791       0.667467      0.005726  \n",
       "1         0.850560         0.853755       0.852806      0.003827  \n",
       "2         0.973230         0.969479       0.971507      0.003314  \n",
       "3         0.996491         0.997658       0.997303      0.000878  \n",
       "4         1.000000         1.000000       1.000000      0.000000  \n",
       "5         1.000000         1.000000       1.000000      0.000000  \n",
       "\n",
       "[6 rows x 66 columns]"
      ]
     },
     "execution_count": 182,
     "metadata": {},
     "output_type": "execute_result"
    }
   ],
   "source": [
    "dt_grid.fit(X,y)\n",
    "dfDtRes = pd.DataFrame(dt_grid.cv_results_)\n",
    "dfDtRes"
   ]
  },
  {
   "cell_type": "code",
   "execution_count": 180,
   "id": "1029159c-bc3c-4e40-a4fa-a7d3d09b34bf",
   "metadata": {},
   "outputs": [
    {
     "data": {
      "text/html": [
       "<div>\n",
       "<style scoped>\n",
       "    .dataframe tbody tr th:only-of-type {\n",
       "        vertical-align: middle;\n",
       "    }\n",
       "\n",
       "    .dataframe tbody tr th {\n",
       "        vertical-align: top;\n",
       "    }\n",
       "\n",
       "    .dataframe thead th {\n",
       "        text-align: right;\n",
       "    }\n",
       "</style>\n",
       "<table border=\"1\" class=\"dataframe\">\n",
       "  <thead>\n",
       "    <tr style=\"text-align: right;\">\n",
       "      <th></th>\n",
       "      <th>mean_test_recall</th>\n",
       "      <th>mean_test_precision</th>\n",
       "      <th>mean_test_bal_ac</th>\n",
       "      <th>mean_test_f1</th>\n",
       "    </tr>\n",
       "  </thead>\n",
       "  <tbody>\n",
       "    <tr>\n",
       "      <th>0</th>\n",
       "      <td>0.999473</td>\n",
       "      <td>0.977386</td>\n",
       "      <td>0.753017</td>\n",
       "      <td>0.506560</td>\n",
       "    </tr>\n",
       "    <tr>\n",
       "      <th>1</th>\n",
       "      <td>0.999078</td>\n",
       "      <td>0.988624</td>\n",
       "      <td>0.876886</td>\n",
       "      <td>0.754693</td>\n",
       "    </tr>\n",
       "    <tr>\n",
       "      <th>2</th>\n",
       "      <td>0.999166</td>\n",
       "      <td>0.997198</td>\n",
       "      <td>0.969615</td>\n",
       "      <td>0.940064</td>\n",
       "    </tr>\n",
       "    <tr>\n",
       "      <th>3</th>\n",
       "      <td>0.999342</td>\n",
       "      <td>0.998816</td>\n",
       "      <td>0.987036</td>\n",
       "      <td>0.974731</td>\n",
       "    </tr>\n",
       "    <tr>\n",
       "      <th>4</th>\n",
       "      <td>0.999430</td>\n",
       "      <td>0.998816</td>\n",
       "      <td>0.987080</td>\n",
       "      <td>0.974731</td>\n",
       "    </tr>\n",
       "    <tr>\n",
       "      <th>5</th>\n",
       "      <td>0.999386</td>\n",
       "      <td>0.998948</td>\n",
       "      <td>0.988467</td>\n",
       "      <td>0.977548</td>\n",
       "    </tr>\n",
       "  </tbody>\n",
       "</table>\n",
       "</div>"
      ],
      "text/plain": [
       "   mean_test_recall  mean_test_precision  mean_test_bal_ac  mean_test_f1\n",
       "0          0.999473             0.977386          0.753017      0.506560\n",
       "1          0.999078             0.988624          0.876886      0.754693\n",
       "2          0.999166             0.997198          0.969615      0.940064\n",
       "3          0.999342             0.998816          0.987036      0.974731\n",
       "4          0.999430             0.998816          0.987080      0.974731\n",
       "5          0.999386             0.998948          0.988467      0.977548"
      ]
     },
     "execution_count": 180,
     "metadata": {},
     "output_type": "execute_result"
    }
   ],
   "source": [
    "dfDtRes.filter(['mean_test_recall','mean_test_precision','mean_test_bal_ac','mean_test_f1'  ], axis=1)"
   ]
  },
  {
   "cell_type": "code",
   "execution_count": 160,
   "id": "21c9d291-7f78-46b7-9b8e-9a846c1c7d01",
   "metadata": {},
   "outputs": [
    {
     "data": {
      "text/plain": [
       "(array([1., 1.]), array([1., 1.]), array([1., 1.]), array([ 1068, 22788]))"
      ]
     },
     "execution_count": 160,
     "metadata": {},
     "output_type": "execute_result"
    }
   ],
   "source": [
    "precision_recall_fscore_support(y, dt_grid.predict(X))"
   ]
  },
  {
   "cell_type": "code",
   "execution_count": 159,
   "id": "2e72bf47-dc30-4c0d-9f3a-208c7ca1aed5",
   "metadata": {},
   "outputs": [
    {
     "data": {
      "text/plain": [
       "array([[ 1068,     0],\n",
       "       [    0, 22788]])"
      ]
     },
     "execution_count": 159,
     "metadata": {},
     "output_type": "execute_result"
    }
   ],
   "source": [
    "confusion_matrix(y, dt_grid.best_estimator_.predict(X))"
   ]
  },
  {
   "cell_type": "code",
   "execution_count": 154,
   "id": "298fe3ee-206a-4aa7-be45-bb6e1be6d2d9",
   "metadata": {},
   "outputs": [
    {
     "data": {
      "text/plain": [
       "DecisionTreeClassifier()"
      ]
     },
     "execution_count": 154,
     "metadata": {},
     "output_type": "execute_result"
    }
   ],
   "source": [
    "# dt_grid.\n"
   ]
  },
  {
   "cell_type": "markdown",
   "id": "2e593c07-e897-4408-bb00-44c572330ac7",
   "metadata": {},
   "source": [
    "## Neural Network Classifier"
   ]
  },
  {
   "cell_type": "code",
   "execution_count": 70,
   "id": "2874130d-5eb1-475a-91aa-824b371aecd9",
   "metadata": {},
   "outputs": [],
   "source": [
    "from sklearn.neural_network import MLPClassifier"
   ]
  },
  {
   "cell_type": "code",
   "execution_count": 139,
   "id": "515a4e32-b26a-4da7-9917-aa40fd131055",
   "metadata": {},
   "outputs": [],
   "source": [
    "\n",
    "\n",
    "mlp =  MLPClassifier()\n",
    "\n",
    "mlp_grid = GridSearchCV(\n",
    "    estimator=mlp, \n",
    "    param_grid={'hidden_layer_sizes':[(10,),(5,2)]},\n",
    "    scoring={'recall':make_scorer(recall_score), 'precision':make_scorer(precision_score)},\n",
    "    refit='precision',\n",
    "    cv=5,\n",
    "    n_jobs=-1\n",
    "\n",
    ")"
   ]
  },
  {
   "cell_type": "code",
   "execution_count": 155,
   "id": "2fbdb8cb-1f54-4028-aed4-bba332d9fec4",
   "metadata": {},
   "outputs": [
    {
     "name": "stderr",
     "output_type": "stream",
     "text": [
      "/Users/sdodge/work/omscs/cs7641/cs7641_assignments/env3.9.7/lib/python3.9/site-packages/sklearn/neural_network/_multilayer_perceptron.py:614: ConvergenceWarning: Stochastic Optimizer: Maximum iterations (200) reached and the optimization hasn't converged yet.\n",
      "  warnings.warn(\n",
      "/Users/sdodge/work/omscs/cs7641/cs7641_assignments/env3.9.7/lib/python3.9/site-packages/sklearn/neural_network/_multilayer_perceptron.py:614: ConvergenceWarning: Stochastic Optimizer: Maximum iterations (200) reached and the optimization hasn't converged yet.\n",
      "  warnings.warn(\n",
      "/Users/sdodge/work/omscs/cs7641/cs7641_assignments/env3.9.7/lib/python3.9/site-packages/sklearn/neural_network/_multilayer_perceptron.py:614: ConvergenceWarning: Stochastic Optimizer: Maximum iterations (200) reached and the optimization hasn't converged yet.\n",
      "  warnings.warn(\n",
      "/Users/sdodge/work/omscs/cs7641/cs7641_assignments/env3.9.7/lib/python3.9/site-packages/sklearn/neural_network/_multilayer_perceptron.py:614: ConvergenceWarning: Stochastic Optimizer: Maximum iterations (200) reached and the optimization hasn't converged yet.\n",
      "  warnings.warn(\n",
      "/Users/sdodge/work/omscs/cs7641/cs7641_assignments/env3.9.7/lib/python3.9/site-packages/sklearn/neural_network/_multilayer_perceptron.py:614: ConvergenceWarning: Stochastic Optimizer: Maximum iterations (200) reached and the optimization hasn't converged yet.\n",
      "  warnings.warn(\n",
      "/Users/sdodge/work/omscs/cs7641/cs7641_assignments/env3.9.7/lib/python3.9/site-packages/sklearn/neural_network/_multilayer_perceptron.py:614: ConvergenceWarning: Stochastic Optimizer: Maximum iterations (200) reached and the optimization hasn't converged yet.\n",
      "  warnings.warn(\n",
      "/Users/sdodge/work/omscs/cs7641/cs7641_assignments/env3.9.7/lib/python3.9/site-packages/sklearn/neural_network/_multilayer_perceptron.py:614: ConvergenceWarning: Stochastic Optimizer: Maximum iterations (200) reached and the optimization hasn't converged yet.\n",
      "  warnings.warn(\n",
      "/Users/sdodge/work/omscs/cs7641/cs7641_assignments/env3.9.7/lib/python3.9/site-packages/sklearn/neural_network/_multilayer_perceptron.py:614: ConvergenceWarning: Stochastic Optimizer: Maximum iterations (200) reached and the optimization hasn't converged yet.\n",
      "  warnings.warn(\n",
      "/Users/sdodge/work/omscs/cs7641/cs7641_assignments/env3.9.7/lib/python3.9/site-packages/sklearn/neural_network/_multilayer_perceptron.py:614: ConvergenceWarning: Stochastic Optimizer: Maximum iterations (200) reached and the optimization hasn't converged yet.\n",
      "  warnings.warn(\n",
      "/Users/sdodge/work/omscs/cs7641/cs7641_assignments/env3.9.7/lib/python3.9/site-packages/sklearn/neural_network/_multilayer_perceptron.py:614: ConvergenceWarning: Stochastic Optimizer: Maximum iterations (200) reached and the optimization hasn't converged yet.\n",
      "  warnings.warn(\n"
     ]
    },
    {
     "data": {
      "text/plain": [
       "GridSearchCV(cv=5, estimator=MLPClassifier(),\n",
       "             param_grid={'hidden_layer_sizes': [(10,), (5, 2)]},\n",
       "             refit='precision',\n",
       "             scoring={'precision': make_scorer(precision_score),\n",
       "                      'recall': make_scorer(recall_score)})"
      ]
     },
     "execution_count": 155,
     "metadata": {},
     "output_type": "execute_result"
    }
   ],
   "source": [
    "Xs = MinMaxScaler().fit_transform(Xdf)\n",
    "\n",
    "\n",
    "\n",
    "mlp_grid.fit(Xs,y)\n",
    "# (pd.DataFrame(mlp_grid.cv_results_))\n"
   ]
  },
  {
   "cell_type": "code",
   "execution_count": 141,
   "id": "71ea73bb-3695-45a7-b3c2-6d43b64da624",
   "metadata": {},
   "outputs": [
    {
     "data": {
      "text/plain": [
       "(array([0.90031153, 0.97889205]),\n",
       " array([0.5411985, 0.9971915]),\n",
       " array([0.67602339, 0.98795705]),\n",
       " array([ 1068, 22788]))"
      ]
     },
     "execution_count": 141,
     "metadata": {},
     "output_type": "execute_result"
    }
   ],
   "source": [
    "precision_recall_fscore_support(y, mlp_grid.predict(X))"
   ]
  },
  {
   "cell_type": "code",
   "execution_count": 107,
   "id": "93aea11d-8dcb-4ca6-9d4e-d57005d1b4f7",
   "metadata": {},
   "outputs": [
    {
     "data": {
      "text/plain": [
       "array([[  475,   593],\n",
       "       [  101, 22687]])"
      ]
     },
     "execution_count": 107,
     "metadata": {},
     "output_type": "execute_result"
    }
   ],
   "source": [
    "confusion_matrix(y, mlp_grid.predict(X))"
   ]
  },
  {
   "cell_type": "markdown",
   "id": "57774ecc-fd31-480d-99af-7d3fcbdfebea",
   "metadata": {},
   "source": [
    "## SVM Classifier"
   ]
  },
  {
   "cell_type": "code",
   "execution_count": 91,
   "id": "948609d5-23b8-4445-977d-b61978703333",
   "metadata": {},
   "outputs": [],
   "source": [
    "from sklearn.svm import SVC\n",
    "\n",
    "svc = SVC(C=0.025)\n",
    "\n",
    "\n",
    "svc_grid = GridSearchCV(\n",
    "    estimator=svc, \n",
    "    param_grid={'kernel':['linear', 'poly', 'rbf', 'sigmoid']},\n",
    "    scoring={'recall':make_scorer(recall_score), 'f1':make_scorer(f1_score)},\n",
    "    refit='f1',\n",
    "    cv=5\n",
    ")\n",
    "\n"
   ]
  },
  {
   "cell_type": "code",
   "execution_count": 92,
   "id": "cbd24de2-338e-4c3f-8e26-5f2d277a7870",
   "metadata": {},
   "outputs": [
    {
     "data": {
      "text/plain": [
       "GridSearchCV(cv=5, estimator=SVC(C=0.025),\n",
       "             param_grid={'kernel': ['linear', 'poly', 'rbf', 'sigmoid']},\n",
       "             refit='f1',\n",
       "             scoring={'f1': make_scorer(f1_score),\n",
       "                      'recall': make_scorer(recall_score)})"
      ]
     },
     "execution_count": 92,
     "metadata": {},
     "output_type": "execute_result"
    }
   ],
   "source": [
    "svc_grid.fit(X,y)"
   ]
  },
  {
   "cell_type": "code",
   "execution_count": 93,
   "id": "d7e77b5f-35a5-477a-a4ad-b6f7d6050745",
   "metadata": {},
   "outputs": [
    {
     "data": {
      "text/html": [
       "<div>\n",
       "<style scoped>\n",
       "    .dataframe tbody tr th:only-of-type {\n",
       "        vertical-align: middle;\n",
       "    }\n",
       "\n",
       "    .dataframe tbody tr th {\n",
       "        vertical-align: top;\n",
       "    }\n",
       "\n",
       "    .dataframe thead th {\n",
       "        text-align: right;\n",
       "    }\n",
       "</style>\n",
       "<table border=\"1\" class=\"dataframe\">\n",
       "  <thead>\n",
       "    <tr style=\"text-align: right;\">\n",
       "      <th></th>\n",
       "      <th>mean_fit_time</th>\n",
       "      <th>std_fit_time</th>\n",
       "      <th>mean_score_time</th>\n",
       "      <th>std_score_time</th>\n",
       "      <th>param_kernel</th>\n",
       "      <th>params</th>\n",
       "      <th>split0_test_recall</th>\n",
       "      <th>split1_test_recall</th>\n",
       "      <th>split2_test_recall</th>\n",
       "      <th>split3_test_recall</th>\n",
       "      <th>...</th>\n",
       "      <th>std_test_recall</th>\n",
       "      <th>rank_test_recall</th>\n",
       "      <th>split0_test_f1</th>\n",
       "      <th>split1_test_f1</th>\n",
       "      <th>split2_test_f1</th>\n",
       "      <th>split3_test_f1</th>\n",
       "      <th>split4_test_f1</th>\n",
       "      <th>mean_test_f1</th>\n",
       "      <th>std_test_f1</th>\n",
       "      <th>rank_test_f1</th>\n",
       "    </tr>\n",
       "  </thead>\n",
       "  <tbody>\n",
       "    <tr>\n",
       "      <th>0</th>\n",
       "      <td>5.295788</td>\n",
       "      <td>0.635463</td>\n",
       "      <td>0.203046</td>\n",
       "      <td>0.006722</td>\n",
       "      <td>linear</td>\n",
       "      <td>{'kernel': 'linear'}</td>\n",
       "      <td>1.0</td>\n",
       "      <td>1.0</td>\n",
       "      <td>1.0</td>\n",
       "      <td>1.0</td>\n",
       "      <td>...</td>\n",
       "      <td>0.0</td>\n",
       "      <td>1</td>\n",
       "      <td>0.977063</td>\n",
       "      <td>0.977058</td>\n",
       "      <td>0.977058</td>\n",
       "      <td>0.977168</td>\n",
       "      <td>0.977168</td>\n",
       "      <td>0.977103</td>\n",
       "      <td>0.000053</td>\n",
       "      <td>1</td>\n",
       "    </tr>\n",
       "    <tr>\n",
       "      <th>1</th>\n",
       "      <td>1.103775</td>\n",
       "      <td>0.050303</td>\n",
       "      <td>0.179461</td>\n",
       "      <td>0.006863</td>\n",
       "      <td>poly</td>\n",
       "      <td>{'kernel': 'poly'}</td>\n",
       "      <td>1.0</td>\n",
       "      <td>1.0</td>\n",
       "      <td>1.0</td>\n",
       "      <td>1.0</td>\n",
       "      <td>...</td>\n",
       "      <td>0.0</td>\n",
       "      <td>1</td>\n",
       "      <td>0.977063</td>\n",
       "      <td>0.977058</td>\n",
       "      <td>0.977058</td>\n",
       "      <td>0.977168</td>\n",
       "      <td>0.977168</td>\n",
       "      <td>0.977103</td>\n",
       "      <td>0.000053</td>\n",
       "      <td>1</td>\n",
       "    </tr>\n",
       "    <tr>\n",
       "      <th>2</th>\n",
       "      <td>1.583398</td>\n",
       "      <td>0.056372</td>\n",
       "      <td>0.656272</td>\n",
       "      <td>0.012130</td>\n",
       "      <td>rbf</td>\n",
       "      <td>{'kernel': 'rbf'}</td>\n",
       "      <td>1.0</td>\n",
       "      <td>1.0</td>\n",
       "      <td>1.0</td>\n",
       "      <td>1.0</td>\n",
       "      <td>...</td>\n",
       "      <td>0.0</td>\n",
       "      <td>1</td>\n",
       "      <td>0.977063</td>\n",
       "      <td>0.977058</td>\n",
       "      <td>0.977058</td>\n",
       "      <td>0.977168</td>\n",
       "      <td>0.977168</td>\n",
       "      <td>0.977103</td>\n",
       "      <td>0.000053</td>\n",
       "      <td>1</td>\n",
       "    </tr>\n",
       "    <tr>\n",
       "      <th>3</th>\n",
       "      <td>1.475554</td>\n",
       "      <td>0.023757</td>\n",
       "      <td>0.258448</td>\n",
       "      <td>0.005557</td>\n",
       "      <td>sigmoid</td>\n",
       "      <td>{'kernel': 'sigmoid'}</td>\n",
       "      <td>1.0</td>\n",
       "      <td>1.0</td>\n",
       "      <td>1.0</td>\n",
       "      <td>1.0</td>\n",
       "      <td>...</td>\n",
       "      <td>0.0</td>\n",
       "      <td>1</td>\n",
       "      <td>0.977063</td>\n",
       "      <td>0.977058</td>\n",
       "      <td>0.977058</td>\n",
       "      <td>0.977168</td>\n",
       "      <td>0.977168</td>\n",
       "      <td>0.977103</td>\n",
       "      <td>0.000053</td>\n",
       "      <td>1</td>\n",
       "    </tr>\n",
       "  </tbody>\n",
       "</table>\n",
       "<p>4 rows × 22 columns</p>\n",
       "</div>"
      ],
      "text/plain": [
       "   mean_fit_time  std_fit_time  mean_score_time  std_score_time param_kernel  \\\n",
       "0       5.295788      0.635463         0.203046        0.006722       linear   \n",
       "1       1.103775      0.050303         0.179461        0.006863         poly   \n",
       "2       1.583398      0.056372         0.656272        0.012130          rbf   \n",
       "3       1.475554      0.023757         0.258448        0.005557      sigmoid   \n",
       "\n",
       "                  params  split0_test_recall  split1_test_recall  \\\n",
       "0   {'kernel': 'linear'}                 1.0                 1.0   \n",
       "1     {'kernel': 'poly'}                 1.0                 1.0   \n",
       "2      {'kernel': 'rbf'}                 1.0                 1.0   \n",
       "3  {'kernel': 'sigmoid'}                 1.0                 1.0   \n",
       "\n",
       "   split2_test_recall  split3_test_recall  ...  std_test_recall  \\\n",
       "0                 1.0                 1.0  ...              0.0   \n",
       "1                 1.0                 1.0  ...              0.0   \n",
       "2                 1.0                 1.0  ...              0.0   \n",
       "3                 1.0                 1.0  ...              0.0   \n",
       "\n",
       "   rank_test_recall  split0_test_f1  split1_test_f1  split2_test_f1  \\\n",
       "0                 1        0.977063        0.977058        0.977058   \n",
       "1                 1        0.977063        0.977058        0.977058   \n",
       "2                 1        0.977063        0.977058        0.977058   \n",
       "3                 1        0.977063        0.977058        0.977058   \n",
       "\n",
       "   split3_test_f1  split4_test_f1  mean_test_f1  std_test_f1  rank_test_f1  \n",
       "0        0.977168        0.977168      0.977103     0.000053             1  \n",
       "1        0.977168        0.977168      0.977103     0.000053             1  \n",
       "2        0.977168        0.977168      0.977103     0.000053             1  \n",
       "3        0.977168        0.977168      0.977103     0.000053             1  \n",
       "\n",
       "[4 rows x 22 columns]"
      ]
     },
     "execution_count": 93,
     "metadata": {},
     "output_type": "execute_result"
    }
   ],
   "source": [
    "pd.DataFrame(svc_grid.cv_results_)"
   ]
  },
  {
   "cell_type": "code",
   "execution_count": 127,
   "id": "da0c9293-da7a-4da3-b9c0-594de1a6e39a",
   "metadata": {},
   "outputs": [
    {
     "data": {
      "text/plain": [
       "array([[    0,  1068],\n",
       "       [    0, 22788]])"
      ]
     },
     "execution_count": 127,
     "metadata": {},
     "output_type": "execute_result"
    }
   ],
   "source": [
    "confusion_matrix(y, svc_grid.best_estimator_.predict(X))"
   ]
  },
  {
   "cell_type": "code",
   "execution_count": 128,
   "id": "d7b41ad2-d922-42da-8714-7d4e035ef5f2",
   "metadata": {},
   "outputs": [
    {
     "data": {
      "text/plain": [
       "{'kernel': 'linear'}"
      ]
     },
     "execution_count": 128,
     "metadata": {},
     "output_type": "execute_result"
    }
   ],
   "source": [
    "svc_grid.best_params_"
   ]
  },
  {
   "cell_type": "code",
   "execution_count": null,
   "id": "01cd39f5-9952-464e-8186-18e433b744f6",
   "metadata": {},
   "outputs": [],
   "source": []
  }
 ],
 "metadata": {
  "kernelspec": {
   "display_name": "Python 3 (ipykernel)",
   "language": "python",
   "name": "python3"
  },
  "language_info": {
   "codemirror_mode": {
    "name": "ipython",
    "version": 3
   },
   "file_extension": ".py",
   "mimetype": "text/x-python",
   "name": "python",
   "nbconvert_exporter": "python",
   "pygments_lexer": "ipython3",
   "version": "3.9.7"
  }
 },
 "nbformat": 4,
 "nbformat_minor": 5
}
