{
 "cells": [
  {
   "cell_type": "code",
   "execution_count": 2,
   "id": "e3d05ff4-933c-450c-9d46-91f826d9ab87",
   "metadata": {},
   "outputs": [],
   "source": [
    "\n",
    "import numpy as np\n",
    "import pandas as pd\n",
    "import matplotlib.pylab as plt\n",
    "import seaborn as sns\n",
    "from sklearn.tree import DecisionTreeClassifier\n",
    "from sklearn.model_selection import GridSearchCV, StratifiedKFold\n",
    "from sklearn.metrics import precision_recall_fscore_support, make_scorer, recall_score, f1_score, confusion_matrix, precision_score, balanced_accuracy_score\n",
    "         \n",
    "\n",
    "from sklearn.model_selection import learning_curve"
   ]
  },
  {
   "cell_type": "code",
   "execution_count": 3,
   "id": "aacdde88-f704-41b0-a4cb-fb8e60933baf",
   "metadata": {},
   "outputs": [
    {
     "data": {
      "text/plain": [
       "19084.8"
      ]
     },
     "execution_count": 3,
     "metadata": {},
     "output_type": "execute_result"
    }
   ],
   "source": [
    "df = pd.read_csv(\"data/malicious_01.csv\")\n",
    "X = df.drop(columns=[\"INCIDENT_ID\",\"DATE\", \"MALICIOUS_OFFENSE\"])\n",
    "y = df[\"MALICIOUS_OFFENSE\"]\n",
    "X['X_12'] = np.nan_to_num(X['X_12'])\n",
    "X, y = X.values, y.values\n",
    "\n",
    "X.shape[0] * 0.8"
   ]
  },
  {
   "cell_type": "code",
   "execution_count": 4,
   "id": "76e54292-4401-41c3-8ebb-d6b990ace262",
   "metadata": {},
   "outputs": [
    {
     "data": {
      "text/plain": [
       "dict_keys(['explained_variance', 'r2', 'max_error', 'neg_median_absolute_error', 'neg_mean_absolute_error', 'neg_mean_absolute_percentage_error', 'neg_mean_squared_error', 'neg_mean_squared_log_error', 'neg_root_mean_squared_error', 'neg_mean_poisson_deviance', 'neg_mean_gamma_deviance', 'accuracy', 'top_k_accuracy', 'roc_auc', 'roc_auc_ovr', 'roc_auc_ovo', 'roc_auc_ovr_weighted', 'roc_auc_ovo_weighted', 'balanced_accuracy', 'average_precision', 'neg_log_loss', 'neg_brier_score', 'adjusted_rand_score', 'rand_score', 'homogeneity_score', 'completeness_score', 'v_measure_score', 'mutual_info_score', 'adjusted_mutual_info_score', 'normalized_mutual_info_score', 'fowlkes_mallows_score', 'precision', 'precision_macro', 'precision_micro', 'precision_samples', 'precision_weighted', 'recall', 'recall_macro', 'recall_micro', 'recall_samples', 'recall_weighted', 'f1', 'f1_macro', 'f1_micro', 'f1_samples', 'f1_weighted', 'jaccard', 'jaccard_macro', 'jaccard_micro', 'jaccard_samples', 'jaccard_weighted'])"
      ]
     },
     "execution_count": 4,
     "metadata": {},
     "output_type": "execute_result"
    }
   ],
   "source": [
    "import sklearn\n",
    "sklearn.metrics.SCORERS.keys()"
   ]
  },
  {
   "cell_type": "code",
   "execution_count": 5,
   "id": "628e289a-62a9-417a-a570-c06082d315b9",
   "metadata": {},
   "outputs": [],
   "source": [
    " def confusion_matrix_scorer(clf, X, y):\n",
    "        y_pred = clf.predict(X)\n",
    "        cm = confusion_matrix(y, y_pred)\n",
    "        positives_total = cm[0].sum()\n",
    "        return cm[0,0]/positives_total\n",
    "        \n",
    "#         return {'tn': cm[0, 0], 'fp': cm[0, 1],\n",
    "#               'fn': cm[1, 0], 'tp': cm[1, 1]}"
   ]
  },
  {
   "cell_type": "code",
   "execution_count": 6,
   "id": "d176f9e7-681a-4422-bcfc-652cbe4525ce",
   "metadata": {},
   "outputs": [
    {
     "data": {
      "text/plain": [
       "array([ 1908,  4362,  6815,  9269, 11723, 14176, 16630, 19084])"
      ]
     },
     "execution_count": 6,
     "metadata": {},
     "output_type": "execute_result"
    }
   ],
   "source": [
    "# train_sizes = [1, 2000, 4000, 6000, 8000, 10000, 12000, 14000,  16000, 19084]\n",
    "\n",
    "train_sizes = np.linspace(0.1,1,8)\n",
    "\n",
    "strat_cv = StratifiedKFold(5, shuffle=True,  random_state=0)\n",
    "\n",
    "train_sizes, train_scores, validation_scores = learning_curve(\n",
    "estimator = DecisionTreeClassifier(max_depth=15),\n",
    "X =X,\n",
    "y =y , train_sizes = train_sizes, cv = strat_cv,\n",
    "scoring = confusion_matrix_scorer)\n",
    "\n",
    "# make_scorer(f1_score, pos_label=0)\n",
    "train_sizes"
   ]
  },
  {
   "cell_type": "code",
   "execution_count": 10,
   "id": "2ab7d821-fffa-4311-9b14-258dd92044f4",
   "metadata": {},
   "outputs": [
    {
     "name": "stdout",
     "output_type": "stream",
     "text": [
      "{'name': 'one', 'name2': 'two'}, feel\n"
     ]
    }
   ],
   "source": [
    "def play(name='free', name2='feel'):\n",
    "    print(f\"{name}, {name2}\")\n",
    "    \n",
    "play({'name':'one', 'name2':'two'})"
   ]
  },
  {
   "cell_type": "code",
   "execution_count": 12,
   "id": "47b6746b-06b6-4c91-8b2e-a0991c503a35",
   "metadata": {},
   "outputs": [
    {
     "name": "stdout",
     "output_type": "stream",
     "text": [
      "Training scores:\n",
      "\n",
      " [[1. 1. 1. 1. 1.]\n",
      " [1. 1. 1. 1. 1.]\n",
      " [1. 1. 1. 1. 1.]\n",
      " [1. 1. 1. 1. 1.]\n",
      " [1. 1. 1. 1. 1.]\n",
      " [1. 1. 1. 1. 1.]\n",
      " [1. 1. 1. 1. 1.]\n",
      " [1. 1. 1. 1. 1.]]\n",
      "\n",
      " ----------------------------------------------------------------------\n",
      "\n",
      "Validation scores:\n",
      "\n",
      " [[0.87383178 0.87850467 0.88785047 0.81690141 0.66666667]\n",
      " [0.91121495 0.89719626 0.93457944 0.87793427 0.88732394]\n",
      " [0.97196262 0.94859813 0.96261682 0.95774648 0.92957746]\n",
      " [0.96728972 0.96261682 0.94859813 0.94366197 0.95774648]\n",
      " [0.98130841 0.96728972 0.96728972 0.9342723  0.96713615]\n",
      " [0.98598131 0.97663551 0.97663551 0.95774648 0.96244131]\n",
      " [0.98130841 0.97196262 0.97196262 0.99061033 0.97183099]\n",
      " [0.9953271  0.97663551 0.96728972 0.97183099 0.99061033]]\n"
     ]
    }
   ],
   "source": [
    "print('Training scores:\\n\\n', train_scores)\n",
    "print('\\n', '-' * 70) # separator to make the output easy to read\n",
    "print('\\nValidation scores:\\n\\n', validation_scores)"
   ]
  },
  {
   "cell_type": "code",
   "execution_count": 13,
   "id": "2a738a0b-6200-46ed-afa4-d453cae8759d",
   "metadata": {},
   "outputs": [
    {
     "name": "stdout",
     "output_type": "stream",
     "text": [
      "Mean training scores\n",
      "\n",
      " 1908     1.0\n",
      "4362     1.0\n",
      "6815     1.0\n",
      "9269     1.0\n",
      "11723    1.0\n",
      "14176    1.0\n",
      "16630    1.0\n",
      "19084    1.0\n",
      "dtype: float64\n",
      "\n",
      " --------------------\n",
      "\n",
      "Mean validation scores\n",
      "\n",
      " 1908     0.824751\n",
      "4362     0.901650\n",
      "6815     0.954100\n",
      "9269     0.955983\n",
      "11723    0.963459\n",
      "14176    0.971888\n",
      "16630    0.977535\n",
      "19084    0.980339\n",
      "dtype: float64\n"
     ]
    }
   ],
   "source": [
    "\n",
    "train_scores_mean = train_scores.mean(axis = 1)\n",
    "validation_scores_mean = validation_scores.mean(axis =1 )\n",
    "print('Mean training scores\\n\\n', pd.Series(train_scores_mean, index = train_sizes))\n",
    "print('\\n', '-' * 20) # separator\n",
    "print('\\nMean validation scores\\n\\n',pd.Series(validation_scores_mean, index = train_sizes))"
   ]
  },
  {
   "cell_type": "code",
   "execution_count": 14,
   "id": "8c371ea6-fd4c-4189-9fd9-4a30ab759953",
   "metadata": {},
   "outputs": [
    {
     "data": {
      "text/plain": [
       "(0.0, 1.2)"
      ]
     },
     "execution_count": 14,
     "metadata": {},
     "output_type": "execute_result"
    },
    {
     "data": {
      "image/png": "[encoded data removed]",
      "text/plain": [
       "<Figure size 576x396 with 1 Axes>"
      ]
     },
     "metadata": {},
     "output_type": "display_data"
    }
   ],
   "source": [
    "plt.style.use('seaborn')\n",
    "plt.plot(train_sizes, train_scores_mean, label = 'Training Balanced Accuracy')\n",
    "plt.plot(train_sizes, validation_scores_mean, label = 'Validation Balanced Accuracy')\n",
    "plt.ylabel('BAL Acc', fontsize = 14)\n",
    "plt.xlabel('Training set size', fontsize = 14)\n",
    "plt.title('Learning curves for a decsion tree model', fontsize = 18, y = 1.03)\n",
    "plt.legend()\n",
    "plt.ylim(0,1.2)"
   ]
  },
  {
   "cell_type": "code",
   "execution_count": null,
   "id": "04b94a9a-eee5-44a8-93dd-fc9de3653103",
   "metadata": {},
   "outputs": [],
   "source": []
  }
 ],
 "metadata": {
  "kernelspec": {
   "display_name": "Python 3 (ipykernel)",
   "language": "python",
   "name": "python3"
  },
  "language_info": {
   "codemirror_mode": {
    "name": "ipython",
    "version": 3
   },
   "file_extension": ".py",
   "mimetype": "text/x-python",
   "name": "python",
   "nbconvert_exporter": "python",
   "pygments_lexer": "ipython3",
   "version": "3.9.7"
  }
 },
 "nbformat": 4,
 "nbformat_minor": 5
}
