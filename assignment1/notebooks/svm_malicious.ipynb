{
 "cells": [
  {
   "cell_type": "code",
   "execution_count": null,
   "id": "0b787e87-9aee-49c6-82d9-5ac2a95a55d0",
   "metadata": {},
   "outputs": [],
   "source": []
  },
  {
   "cell_type": "code",
   "execution_count": 59,
   "id": "cdecd3e9-6325-4e26-a96b-22ed42c1ad19",
   "metadata": {
    "tags": []
   },
   "outputs": [],
   "source": [
    "import numpy as np\n",
    "import pandas as pd\n",
    "import matplotlib.pylab as plt\n",
    "import seaborn as sns\n",
    "from sklearn.svm import SVC\n",
    "from sklearn.model_selection import GridSearchCV, RandomizedSearchCV, train_test_split, StratifiedKFold, cross_validate\n",
    "from sklearn.metrics import precision_recall_fscore_support, make_scorer, recall_score, f1_score, confusion_matrix, precision_score, balanced_accuracy_score\n",
    "from sklearn.metrics import fbeta_score, classification_report\n",
    "\n",
    "\n",
    "from sklearn.preprocessing import LabelEncoder, MinMaxScaler\n",
    "\n",
    "from libs.print_cm import print_cm\n",
    "from libs.loader import load_malicious\n",
    "\n",
    "         \n",
    "\n",
    "from sklearn.model_selection import learning_curve, validation_curve"
   ]
  },
  {
   "cell_type": "code",
   "execution_count": 50,
   "id": "b18c3f1b-3ac9-40c2-b3b5-5766d628a57d",
   "metadata": {},
   "outputs": [],
   "source": [
    "# df = pd.read_csv(\"data/malicious_01.csv\")\n",
    "# Xdf = df.drop(columns=[\"INCIDENT_ID\",\"DATE\", \"MALICIOUS_OFFENSE\"])\n",
    "# y_mal = df[\"MALICIOUS_OFFENSE\"]\n",
    "# Xdf['X_12'] = np.nan_to_num(Xdf['X_12'])\n",
    "# _X, _y = Xdf.values, y_mal.values\n",
    "\n",
    "# # minMaxNorm = MinMaxScaler()\n",
    "# # X = minMaxNorm.fit_transform(_X)\n",
    "# # # pd.DataFrame(X)\n",
    "\n",
    "# # labelEncoder = LabelEncoder()\n",
    "# # y_pre = labelEncoder.fit_transform(_y)\n",
    "# # y = 1 - y_pre\n",
    "# # pd.DataFrame({'y':y,'y2':y_pre})\n",
    "\n",
    "# y = 1 - _y.astype('int32')\n",
    "# X = _X\n",
    "\n",
    "X,y = load_malicious()\n",
    "# help(SVC)"
   ]
  },
  {
   "cell_type": "code",
   "execution_count": 51,
   "id": "dc451d19-5222-41c0-be37-ff2c3f73b891",
   "metadata": {},
   "outputs": [],
   "source": [
    "#WHAT I DID here - I set looped kernels, linear, sigmoid, poly\n",
    "# kernels give 0 recall score, excpet for sigmoid\n",
    "# I set the class_weight to balanced and got good recall, but both class labels were hit 50/50\n",
    "# I set C down to 0.25 and good good score of recall 0.63\n",
    "\n",
    "#second pass, ran through the randomsarch with max_itr = 1000, found a range of C values, used one C value of 2.15, then started \n",
    "# moving the max_iter value\n",
    "svc = SVC(kernel='linear',C=10.0, class_weight='balanced', max_iter=20000, random_state=0)\n",
    "\n",
    "# scorer = make_scorer(precision_score, pos_label=0 )\n",
    "scorer = make_scorer(recall_score)\n",
    "# scorer = make_scorer(recall_score,average='weighted')\n",
    "# scorer = make_scorer(f1_score, average='weighted' )\n",
    "# scorer = make_scorer(f1_score, pos_label=1)\n",
    "\n",
    "strat_cv = StratifiedKFold(3, shuffle=True,  random_state=0)\n",
    "\n",
    "parameters = {'C':np.logspace(-1, 2, 10)}\n",
    "\n",
    "svc_rand = RandomizedSearchCV(\n",
    "    svc,\n",
    "    parameters,\n",
    "    n_iter=10,\n",
    "    scoring=scorer,\n",
    "    cv=strat_cv,\n",
    "    n_jobs=-1,\n",
    "    verbose=1,\n",
    "    random_state=0\n",
    ")\n"
   ]
  },
  {
   "cell_type": "code",
   "execution_count": 52,
   "id": "72376687-4737-4fd2-93a5-e16243197e61",
   "metadata": {},
   "outputs": [
    {
     "name": "stdout",
     "output_type": "stream",
     "text": [
      "Fitting 3 folds for each of 10 candidates, totalling 30 fits\n"
     ]
    },
    {
     "name": "stderr",
     "output_type": "stream",
     "text": [
      "/Users/sdodge/work/omscs/cs7641/cs7641_assignments/env3.9.7/lib/python3.9/site-packages/sklearn/svm/_base.py:255: ConvergenceWarning: Solver terminated early (max_iter=20000).  Consider pre-processing your data with StandardScaler or MinMaxScaler.\n",
      "  warnings.warn('Solver terminated early (max_iter=%i).'\n",
      "/Users/sdodge/work/omscs/cs7641/cs7641_assignments/env3.9.7/lib/python3.9/site-packages/sklearn/svm/_base.py:255: ConvergenceWarning: Solver terminated early (max_iter=20000).  Consider pre-processing your data with StandardScaler or MinMaxScaler.\n",
      "  warnings.warn('Solver terminated early (max_iter=%i).'\n",
      "/Users/sdodge/work/omscs/cs7641/cs7641_assignments/env3.9.7/lib/python3.9/site-packages/sklearn/svm/_base.py:255: ConvergenceWarning: Solver terminated early (max_iter=20000).  Consider pre-processing your data with StandardScaler or MinMaxScaler.\n",
      "  warnings.warn('Solver terminated early (max_iter=%i).'\n",
      "/Users/sdodge/work/omscs/cs7641/cs7641_assignments/env3.9.7/lib/python3.9/site-packages/sklearn/svm/_base.py:255: ConvergenceWarning: Solver terminated early (max_iter=20000).  Consider pre-processing your data with StandardScaler or MinMaxScaler.\n",
      "  warnings.warn('Solver terminated early (max_iter=%i).'\n",
      "/Users/sdodge/work/omscs/cs7641/cs7641_assignments/env3.9.7/lib/python3.9/site-packages/sklearn/svm/_base.py:255: ConvergenceWarning: Solver terminated early (max_iter=20000).  Consider pre-processing your data with StandardScaler or MinMaxScaler.\n",
      "  warnings.warn('Solver terminated early (max_iter=%i).'\n",
      "/Users/sdodge/work/omscs/cs7641/cs7641_assignments/env3.9.7/lib/python3.9/site-packages/sklearn/svm/_base.py:255: ConvergenceWarning: Solver terminated early (max_iter=20000).  Consider pre-processing your data with StandardScaler or MinMaxScaler.\n",
      "  warnings.warn('Solver terminated early (max_iter=%i).'\n",
      "/Users/sdodge/work/omscs/cs7641/cs7641_assignments/env3.9.7/lib/python3.9/site-packages/sklearn/svm/_base.py:255: ConvergenceWarning: Solver terminated early (max_iter=20000).  Consider pre-processing your data with StandardScaler or MinMaxScaler.\n",
      "  warnings.warn('Solver terminated early (max_iter=%i).'\n",
      "/Users/sdodge/work/omscs/cs7641/cs7641_assignments/env3.9.7/lib/python3.9/site-packages/sklearn/svm/_base.py:255: ConvergenceWarning: Solver terminated early (max_iter=20000).  Consider pre-processing your data with StandardScaler or MinMaxScaler.\n",
      "  warnings.warn('Solver terminated early (max_iter=%i).'\n",
      "/Users/sdodge/work/omscs/cs7641/cs7641_assignments/env3.9.7/lib/python3.9/site-packages/sklearn/svm/_base.py:255: ConvergenceWarning: Solver terminated early (max_iter=20000).  Consider pre-processing your data with StandardScaler or MinMaxScaler.\n",
      "  warnings.warn('Solver terminated early (max_iter=%i).'\n",
      "/Users/sdodge/work/omscs/cs7641/cs7641_assignments/env3.9.7/lib/python3.9/site-packages/sklearn/svm/_base.py:255: ConvergenceWarning: Solver terminated early (max_iter=20000).  Consider pre-processing your data with StandardScaler or MinMaxScaler.\n",
      "  warnings.warn('Solver terminated early (max_iter=%i).'\n",
      "/Users/sdodge/work/omscs/cs7641/cs7641_assignments/env3.9.7/lib/python3.9/site-packages/sklearn/svm/_base.py:255: ConvergenceWarning: Solver terminated early (max_iter=20000).  Consider pre-processing your data with StandardScaler or MinMaxScaler.\n",
      "  warnings.warn('Solver terminated early (max_iter=%i).'\n",
      "/Users/sdodge/work/omscs/cs7641/cs7641_assignments/env3.9.7/lib/python3.9/site-packages/sklearn/svm/_base.py:255: ConvergenceWarning: Solver terminated early (max_iter=20000).  Consider pre-processing your data with StandardScaler or MinMaxScaler.\n",
      "  warnings.warn('Solver terminated early (max_iter=%i).'\n",
      "/Users/sdodge/work/omscs/cs7641/cs7641_assignments/env3.9.7/lib/python3.9/site-packages/sklearn/svm/_base.py:255: ConvergenceWarning: Solver terminated early (max_iter=20000).  Consider pre-processing your data with StandardScaler or MinMaxScaler.\n",
      "  warnings.warn('Solver terminated early (max_iter=%i).'\n",
      "/Users/sdodge/work/omscs/cs7641/cs7641_assignments/env3.9.7/lib/python3.9/site-packages/sklearn/svm/_base.py:255: ConvergenceWarning: Solver terminated early (max_iter=20000).  Consider pre-processing your data with StandardScaler or MinMaxScaler.\n",
      "  warnings.warn('Solver terminated early (max_iter=%i).'\n",
      "/Users/sdodge/work/omscs/cs7641/cs7641_assignments/env3.9.7/lib/python3.9/site-packages/sklearn/svm/_base.py:255: ConvergenceWarning: Solver terminated early (max_iter=20000).  Consider pre-processing your data with StandardScaler or MinMaxScaler.\n",
      "  warnings.warn('Solver terminated early (max_iter=%i).'\n",
      "/Users/sdodge/work/omscs/cs7641/cs7641_assignments/env3.9.7/lib/python3.9/site-packages/sklearn/svm/_base.py:255: ConvergenceWarning: Solver terminated early (max_iter=20000).  Consider pre-processing your data with StandardScaler or MinMaxScaler.\n",
      "  warnings.warn('Solver terminated early (max_iter=%i).'\n",
      "/Users/sdodge/work/omscs/cs7641/cs7641_assignments/env3.9.7/lib/python3.9/site-packages/sklearn/svm/_base.py:255: ConvergenceWarning: Solver terminated early (max_iter=20000).  Consider pre-processing your data with StandardScaler or MinMaxScaler.\n",
      "  warnings.warn('Solver terminated early (max_iter=%i).'\n",
      "/Users/sdodge/work/omscs/cs7641/cs7641_assignments/env3.9.7/lib/python3.9/site-packages/sklearn/svm/_base.py:255: ConvergenceWarning: Solver terminated early (max_iter=20000).  Consider pre-processing your data with StandardScaler or MinMaxScaler.\n",
      "  warnings.warn('Solver terminated early (max_iter=%i).'\n",
      "/Users/sdodge/work/omscs/cs7641/cs7641_assignments/env3.9.7/lib/python3.9/site-packages/sklearn/svm/_base.py:255: ConvergenceWarning: Solver terminated early (max_iter=20000).  Consider pre-processing your data with StandardScaler or MinMaxScaler.\n",
      "  warnings.warn('Solver terminated early (max_iter=%i).'\n",
      "/Users/sdodge/work/omscs/cs7641/cs7641_assignments/env3.9.7/lib/python3.9/site-packages/sklearn/svm/_base.py:255: ConvergenceWarning: Solver terminated early (max_iter=20000).  Consider pre-processing your data with StandardScaler or MinMaxScaler.\n",
      "  warnings.warn('Solver terminated early (max_iter=%i).'\n",
      "/Users/sdodge/work/omscs/cs7641/cs7641_assignments/env3.9.7/lib/python3.9/site-packages/sklearn/svm/_base.py:255: ConvergenceWarning: Solver terminated early (max_iter=20000).  Consider pre-processing your data with StandardScaler or MinMaxScaler.\n",
      "  warnings.warn('Solver terminated early (max_iter=%i).'\n",
      "/Users/sdodge/work/omscs/cs7641/cs7641_assignments/env3.9.7/lib/python3.9/site-packages/sklearn/svm/_base.py:255: ConvergenceWarning: Solver terminated early (max_iter=20000).  Consider pre-processing your data with StandardScaler or MinMaxScaler.\n",
      "  warnings.warn('Solver terminated early (max_iter=%i).'\n",
      "/Users/sdodge/work/omscs/cs7641/cs7641_assignments/env3.9.7/lib/python3.9/site-packages/sklearn/svm/_base.py:255: ConvergenceWarning: Solver terminated early (max_iter=20000).  Consider pre-processing your data with StandardScaler or MinMaxScaler.\n",
      "  warnings.warn('Solver terminated early (max_iter=%i).'\n",
      "/Users/sdodge/work/omscs/cs7641/cs7641_assignments/env3.9.7/lib/python3.9/site-packages/sklearn/svm/_base.py:255: ConvergenceWarning: Solver terminated early (max_iter=20000).  Consider pre-processing your data with StandardScaler or MinMaxScaler.\n",
      "  warnings.warn('Solver terminated early (max_iter=%i).'\n",
      "/Users/sdodge/work/omscs/cs7641/cs7641_assignments/env3.9.7/lib/python3.9/site-packages/sklearn/svm/_base.py:255: ConvergenceWarning: Solver terminated early (max_iter=20000).  Consider pre-processing your data with StandardScaler or MinMaxScaler.\n",
      "  warnings.warn('Solver terminated early (max_iter=%i).'\n",
      "/Users/sdodge/work/omscs/cs7641/cs7641_assignments/env3.9.7/lib/python3.9/site-packages/sklearn/svm/_base.py:255: ConvergenceWarning: Solver terminated early (max_iter=20000).  Consider pre-processing your data with StandardScaler or MinMaxScaler.\n",
      "  warnings.warn('Solver terminated early (max_iter=%i).'\n",
      "/Users/sdodge/work/omscs/cs7641/cs7641_assignments/env3.9.7/lib/python3.9/site-packages/sklearn/svm/_base.py:255: ConvergenceWarning: Solver terminated early (max_iter=20000).  Consider pre-processing your data with StandardScaler or MinMaxScaler.\n",
      "  warnings.warn('Solver terminated early (max_iter=%i).'\n",
      "/Users/sdodge/work/omscs/cs7641/cs7641_assignments/env3.9.7/lib/python3.9/site-packages/sklearn/svm/_base.py:255: ConvergenceWarning: Solver terminated early (max_iter=20000).  Consider pre-processing your data with StandardScaler or MinMaxScaler.\n",
      "  warnings.warn('Solver terminated early (max_iter=%i).'\n",
      "/Users/sdodge/work/omscs/cs7641/cs7641_assignments/env3.9.7/lib/python3.9/site-packages/sklearn/svm/_base.py:255: ConvergenceWarning: Solver terminated early (max_iter=20000).  Consider pre-processing your data with StandardScaler or MinMaxScaler.\n",
      "  warnings.warn('Solver terminated early (max_iter=%i).'\n",
      "/Users/sdodge/work/omscs/cs7641/cs7641_assignments/env3.9.7/lib/python3.9/site-packages/sklearn/svm/_base.py:255: ConvergenceWarning: Solver terminated early (max_iter=20000).  Consider pre-processing your data with StandardScaler or MinMaxScaler.\n",
      "  warnings.warn('Solver terminated early (max_iter=%i).'\n",
      "/Users/sdodge/work/omscs/cs7641/cs7641_assignments/env3.9.7/lib/python3.9/site-packages/sklearn/svm/_base.py:255: ConvergenceWarning: Solver terminated early (max_iter=20000).  Consider pre-processing your data with StandardScaler or MinMaxScaler.\n",
      "  warnings.warn('Solver terminated early (max_iter=%i).'\n"
     ]
    },
    {
     "data": {
      "text/plain": [
       "RandomizedSearchCV(cv=StratifiedKFold(n_splits=3, random_state=0, shuffle=True),\n",
       "                   estimator=SVC(C=10.0, class_weight='balanced',\n",
       "                                 kernel='linear', max_iter=20000,\n",
       "                                 random_state=0),\n",
       "                   n_jobs=-1,\n",
       "                   param_distributions={'C': array([  0.1       ,   0.21544347,   0.46415888,   1.        ,\n",
       "         2.15443469,   4.64158883,  10.        ,  21.5443469 ,\n",
       "        46.41588834, 100.        ])},\n",
       "                   random_state=0, scoring=make_scorer(recall_score),\n",
       "                   verbose=1)"
      ]
     },
     "execution_count": 52,
     "metadata": {},
     "output_type": "execute_result"
    }
   ],
   "source": [
    "svc_rand.fit(X,y)"
   ]
  },
  {
   "cell_type": "code",
   "execution_count": 53,
   "id": "4d30c557-1799-43de-a1cf-77336904250c",
   "metadata": {},
   "outputs": [
    {
     "name": "stdout",
     "output_type": "stream",
     "text": [
      "1 {'C': 0.1}\n",
      "2 {'C': 4.6415888336127775}\n",
      "3 {'C': 10.0}\n",
      "3 {'C': 21.54434690031882}\n",
      "3 {'C': 46.41588833612777}\n",
      "3 {'C': 100.0}\n"
     ]
    },
    {
     "data": {
      "text/html": [
       "<div>\n",
       "<style scoped>\n",
       "    .dataframe tbody tr th:only-of-type {\n",
       "        vertical-align: middle;\n",
       "    }\n",
       "\n",
       "    .dataframe tbody tr th {\n",
       "        vertical-align: top;\n",
       "    }\n",
       "\n",
       "    .dataframe thead th {\n",
       "        text-align: right;\n",
       "    }\n",
       "</style>\n",
       "<table border=\"1\" class=\"dataframe\">\n",
       "  <thead>\n",
       "    <tr style=\"text-align: right;\">\n",
       "      <th></th>\n",
       "      <th>mean_fit_time</th>\n",
       "      <th>std_fit_time</th>\n",
       "      <th>mean_score_time</th>\n",
       "      <th>std_score_time</th>\n",
       "      <th>param_C</th>\n",
       "      <th>params</th>\n",
       "      <th>split0_test_score</th>\n",
       "      <th>split1_test_score</th>\n",
       "      <th>split2_test_score</th>\n",
       "      <th>mean_test_score</th>\n",
       "      <th>std_test_score</th>\n",
       "      <th>rank_test_score</th>\n",
       "    </tr>\n",
       "  </thead>\n",
       "  <tbody>\n",
       "    <tr>\n",
       "      <th>0</th>\n",
       "      <td>2.059079</td>\n",
       "      <td>0.017264</td>\n",
       "      <td>0.401240</td>\n",
       "      <td>0.005032</td>\n",
       "      <td>0.1</td>\n",
       "      <td>{'C': 0.1}</td>\n",
       "      <td>0.640449</td>\n",
       "      <td>0.524345</td>\n",
       "      <td>0.468165</td>\n",
       "      <td>0.544320</td>\n",
       "      <td>0.071739</td>\n",
       "      <td>1</td>\n",
       "    </tr>\n",
       "    <tr>\n",
       "      <th>5</th>\n",
       "      <td>1.607895</td>\n",
       "      <td>0.037194</td>\n",
       "      <td>0.204787</td>\n",
       "      <td>0.013847</td>\n",
       "      <td>4.641589</td>\n",
       "      <td>{'C': 4.6415888336127775}</td>\n",
       "      <td>0.610487</td>\n",
       "      <td>0.573034</td>\n",
       "      <td>0.430712</td>\n",
       "      <td>0.538077</td>\n",
       "      <td>0.077444</td>\n",
       "      <td>2</td>\n",
       "    </tr>\n",
       "    <tr>\n",
       "      <th>6</th>\n",
       "      <td>1.604810</td>\n",
       "      <td>0.039145</td>\n",
       "      <td>0.205035</td>\n",
       "      <td>0.019036</td>\n",
       "      <td>10.0</td>\n",
       "      <td>{'C': 10.0}</td>\n",
       "      <td>0.539326</td>\n",
       "      <td>0.505618</td>\n",
       "      <td>0.441948</td>\n",
       "      <td>0.495630</td>\n",
       "      <td>0.040377</td>\n",
       "      <td>3</td>\n",
       "    </tr>\n",
       "    <tr>\n",
       "      <th>7</th>\n",
       "      <td>1.621593</td>\n",
       "      <td>0.049441</td>\n",
       "      <td>0.213947</td>\n",
       "      <td>0.013904</td>\n",
       "      <td>21.544347</td>\n",
       "      <td>{'C': 21.54434690031882}</td>\n",
       "      <td>0.539326</td>\n",
       "      <td>0.505618</td>\n",
       "      <td>0.441948</td>\n",
       "      <td>0.495630</td>\n",
       "      <td>0.040377</td>\n",
       "      <td>3</td>\n",
       "    </tr>\n",
       "    <tr>\n",
       "      <th>8</th>\n",
       "      <td>1.507225</td>\n",
       "      <td>0.018646</td>\n",
       "      <td>0.140118</td>\n",
       "      <td>0.006604</td>\n",
       "      <td>46.415888</td>\n",
       "      <td>{'C': 46.41588833612777}</td>\n",
       "      <td>0.539326</td>\n",
       "      <td>0.505618</td>\n",
       "      <td>0.441948</td>\n",
       "      <td>0.495630</td>\n",
       "      <td>0.040377</td>\n",
       "      <td>3</td>\n",
       "    </tr>\n",
       "    <tr>\n",
       "      <th>9</th>\n",
       "      <td>1.430506</td>\n",
       "      <td>0.026989</td>\n",
       "      <td>0.113398</td>\n",
       "      <td>0.014025</td>\n",
       "      <td>100.0</td>\n",
       "      <td>{'C': 100.0}</td>\n",
       "      <td>0.539326</td>\n",
       "      <td>0.505618</td>\n",
       "      <td>0.441948</td>\n",
       "      <td>0.495630</td>\n",
       "      <td>0.040377</td>\n",
       "      <td>3</td>\n",
       "    </tr>\n",
       "  </tbody>\n",
       "</table>\n",
       "</div>"
      ],
      "text/plain": [
       "   mean_fit_time  std_fit_time  mean_score_time  std_score_time    param_C  \\\n",
       "0       2.059079      0.017264         0.401240        0.005032        0.1   \n",
       "5       1.607895      0.037194         0.204787        0.013847   4.641589   \n",
       "6       1.604810      0.039145         0.205035        0.019036       10.0   \n",
       "7       1.621593      0.049441         0.213947        0.013904  21.544347   \n",
       "8       1.507225      0.018646         0.140118        0.006604  46.415888   \n",
       "9       1.430506      0.026989         0.113398        0.014025      100.0   \n",
       "\n",
       "                      params  split0_test_score  split1_test_score  \\\n",
       "0                 {'C': 0.1}           0.640449           0.524345   \n",
       "5  {'C': 4.6415888336127775}           0.610487           0.573034   \n",
       "6                {'C': 10.0}           0.539326           0.505618   \n",
       "7   {'C': 21.54434690031882}           0.539326           0.505618   \n",
       "8   {'C': 46.41588833612777}           0.539326           0.505618   \n",
       "9               {'C': 100.0}           0.539326           0.505618   \n",
       "\n",
       "   split2_test_score  mean_test_score  std_test_score  rank_test_score  \n",
       "0           0.468165         0.544320        0.071739                1  \n",
       "5           0.430712         0.538077        0.077444                2  \n",
       "6           0.441948         0.495630        0.040377                3  \n",
       "7           0.441948         0.495630        0.040377                3  \n",
       "8           0.441948         0.495630        0.040377                3  \n",
       "9           0.441948         0.495630        0.040377                3  "
      ]
     },
     "execution_count": 53,
     "metadata": {},
     "output_type": "execute_result"
    }
   ],
   "source": [
    "less_5 = pd.DataFrame(svc_rand.cv_results_)['rank_test_score'] <= 5\n",
    "\n",
    "filtered_series = pd.DataFrame(svc_rand.cv_results_)[less_5].filter(['params','rank_test_score'])\n",
    "sorted_series =  (filtered_series.sort_values(by=['rank_test_score']))\n",
    "out_rows = [r for r in sorted_series.values]\n",
    "# type(pd.DataFrame(mlp_rand.cv_results_)[less_5]['params'])\n",
    "for r in out_rows:\n",
    "    print( r[1],r[0])\n",
    "\n",
    "pd.DataFrame(svc_rand.cv_results_)[less_5]"
   ]
  },
  {
   "cell_type": "code",
   "execution_count": 44,
   "id": "b73784f8-d723-4399-87e3-7b1ce76d053d",
   "metadata": {},
   "outputs": [
    {
     "name": "stderr",
     "output_type": "stream",
     "text": [
      "/Users/sdodge/work/omscs/cs7641/cs7641_assignments/env3.9.7/lib/python3.9/site-packages/sklearn/svm/_base.py:255: ConvergenceWarning: Solver terminated early (max_iter=20000).  Consider pre-processing your data with StandardScaler or MinMaxScaler.\n",
      "  warnings.warn('Solver terminated early (max_iter=%i).'\n",
      "/Users/sdodge/work/omscs/cs7641/cs7641_assignments/env3.9.7/lib/python3.9/site-packages/sklearn/svm/_base.py:255: ConvergenceWarning: Solver terminated early (max_iter=20000).  Consider pre-processing your data with StandardScaler or MinMaxScaler.\n",
      "  warnings.warn('Solver terminated early (max_iter=%i).'\n",
      "/Users/sdodge/work/omscs/cs7641/cs7641_assignments/env3.9.7/lib/python3.9/site-packages/sklearn/svm/_base.py:255: ConvergenceWarning: Solver terminated early (max_iter=20000).  Consider pre-processing your data with StandardScaler or MinMaxScaler.\n",
      "  warnings.warn('Solver terminated early (max_iter=%i).'\n"
     ]
    },
    {
     "data": {
      "text/plain": [
       "{'fit_time': array([1.20619297, 1.21818018, 1.23358107]),\n",
       " 'score_time': array([0.15800095, 0.152915  , 0.16884398]),\n",
       " 'test_score': array([0.45786517, 0.27247191, 0.38202247])}"
      ]
     },
     "execution_count": 44,
     "metadata": {},
     "output_type": "execute_result"
    }
   ],
   "source": [
    "cv_target = cross_validate(svc, X, y, cv=3, scoring=scorer)\n",
    "cv_target"
   ]
  },
  {
   "cell_type": "code",
   "execution_count": 45,
   "id": "5a84766a-77cd-4acc-a526-aec1221cda36",
   "metadata": {},
   "outputs": [
    {
     "name": "stderr",
     "output_type": "stream",
     "text": [
      "/Users/sdodge/work/omscs/cs7641/cs7641_assignments/env3.9.7/lib/python3.9/site-packages/sklearn/svm/_base.py:255: ConvergenceWarning: Solver terminated early (max_iter=20000).  Consider pre-processing your data with StandardScaler or MinMaxScaler.\n",
      "  warnings.warn('Solver terminated early (max_iter=%i).'\n"
     ]
    },
    {
     "data": {
      "text/plain": [
       "SVC(C=10.0, class_weight='balanced', kernel='linear', max_iter=20000,\n",
       "    random_state=0)"
      ]
     },
     "execution_count": 45,
     "metadata": {},
     "output_type": "execute_result"
    }
   ],
   "source": [
    "svc.fit(X,y)"
   ]
  },
  {
   "cell_type": "code",
   "execution_count": 46,
   "id": "4c376a7c-73f1-4ccf-ba8b-a04762339dc2",
   "metadata": {},
   "outputs": [
    {
     "data": {
      "text/plain": [
       "{'C': 10.0,\n",
       " 'break_ties': False,\n",
       " 'cache_size': 200,\n",
       " 'class_weight': 'balanced',\n",
       " 'coef0': 0.0,\n",
       " 'decision_function_shape': 'ovr',\n",
       " 'degree': 3,\n",
       " 'gamma': 'scale',\n",
       " 'kernel': 'linear',\n",
       " 'max_iter': 20000,\n",
       " 'probability': False,\n",
       " 'random_state': 0,\n",
       " 'shrinking': True,\n",
       " 'tol': 0.001,\n",
       " 'verbose': False}"
      ]
     },
     "execution_count": 46,
     "metadata": {},
     "output_type": "execute_result"
    }
   ],
   "source": [
    "svc.get_params()\n",
    "# svc.coef_"
   ]
  },
  {
   "cell_type": "code",
   "execution_count": 54,
   "id": "670470b1-835f-492e-807a-ca74380d658f",
   "metadata": {},
   "outputs": [
    {
     "data": {
      "text/plain": [
       "make_scorer(recall_score)"
      ]
     },
     "execution_count": 54,
     "metadata": {},
     "output_type": "execute_result"
    }
   ],
   "source": [
    "scorer"
   ]
  },
  {
   "cell_type": "code",
   "execution_count": 55,
   "id": "243938a4-8368-41b1-a1b7-7dc876e09793",
   "metadata": {},
   "outputs": [
    {
     "name": "stderr",
     "output_type": "stream",
     "text": [
      "/Users/sdodge/work/omscs/cs7641/cs7641_assignments/env3.9.7/lib/python3.9/site-packages/sklearn/svm/_base.py:255: ConvergenceWarning: Solver terminated early (max_iter=20000).  Consider pre-processing your data with StandardScaler or MinMaxScaler.\n",
      "  warnings.warn('Solver terminated early (max_iter=%i).'\n"
     ]
    }
   ],
   "source": [
    "X_train, X_test, y_train, y_test = train_test_split( X, y, test_size=0.2, stratify=y,random_state=0)\n",
    "svc.fit(X_train,y_train)\n",
    "pass"
   ]
  },
  {
   "cell_type": "code",
   "execution_count": 56,
   "id": "c4f04ea8-6d3e-4ad3-a785-febd7c41f4a7",
   "metadata": {},
   "outputs": [
    {
     "name": "stdout",
     "output_type": "stream",
     "text": [
      "****** Knn plain - Train ******\n",
      "Confusion matrix\n",
      "              0     1 \n",
      "        0 10572  3100 \n",
      "        1   371   270 \n",
      "Recall - label 0: 0.7733\n",
      "Recall - label 1: 0.4212\n",
      "Precsion - label 0: 0.9661\n",
      "Precsion - label 1: 0.0801\n",
      "F1 Score macro: 0.4148\n",
      "F1 Score - label 0 : 0.8590\n",
      "F1 Score - label 1 : 0.1346\n",
      "F1 Score - weighted avg : 0.8265\n",
      "F1 Beta - b=2 weighted avg : 0.7795\n",
      "              precision    recall  f1-score   support\n",
      "\n",
      "           1       0.08      0.42      0.13       641\n",
      "           0       0.97      0.77      0.86     13672\n",
      "\n",
      "    accuracy                           0.76     14313\n",
      "   macro avg       0.52      0.60      0.50     14313\n",
      "weighted avg       0.93      0.76      0.83     14313\n",
      "\n",
      "****** Knn plain - Validation ******\n",
      "Confusion matrix\n",
      "              0     1 \n",
      "        0  2640   779 \n",
      "        1    98    62 \n",
      "Recall - label 0: 0.7722\n",
      "Recall - label 1: 0.3875\n",
      "Precsion - label 0: 0.9642\n",
      "Precsion - label 1: 0.0737\n",
      "F1 Score macro: 0.4085\n",
      "F1 Score - label 0 : 0.8576\n",
      "F1 Score - label 1 : 0.1239\n",
      "F1 Score - weighted avg : 0.8248\n",
      "F1 Beta - b=2 weighted avg : 0.7776\n",
      "              precision    recall  f1-score   support\n",
      "\n",
      "           1       0.07      0.39      0.12       160\n",
      "           0       0.96      0.77      0.86      3419\n",
      "\n",
      "    accuracy                           0.75      3579\n",
      "   macro avg       0.52      0.58      0.49      3579\n",
      "weighted avg       0.92      0.75      0.82      3579\n",
      "\n"
     ]
    }
   ],
   "source": [
    "def stats_pac( label, estimator, X_data, y_data ):\n",
    "    predicted = estimator.predict(X_data)\n",
    "    print ('****** %s ******' % label)\n",
    "    cm = confusion_matrix(y_data, predicted)\n",
    "    print ('Confusion matrix')\n",
    "    print_cm(cm, labels=['0','1'])\n",
    "    \n",
    "    print ('Recall - label 0: %0.4f'% recall_score(y_data, predicted, pos_label=0))\n",
    "    print ('Recall - label 1: %0.4f'% recall_score(y_data, predicted))\n",
    "\n",
    "    print ('Precsion - label 0: %0.4f'% precision_score(y_data, predicted, pos_label=0))\n",
    "    print ('Precsion - label 1: %0.4f'% precision_score(y_data, predicted))\n",
    "    \n",
    "    sample_wt = [ 3 if i == 1 else 1 for i in predicted]\n",
    "    print ('F1 Score macro: %0.4f'% f1_score(y_data, predicted, average='macro', sample_weight=sample_wt ))\n",
    "    print ('F1 Score - label 0 : %0.4f'% f1_score(y_data, predicted, pos_label=0 ))\n",
    "    print ('F1 Score - label 1 : %0.4f'% f1_score(y_data, predicted, pos_label=1 ))\n",
    "    print ('F1 Score - weighted avg : %0.4f'% f1_score(y_data, predicted, average='weighted' ))\n",
    "    print ('F1 Beta - b=2 weighted avg : %0.4f'% fbeta_score(y_data,predicted, average='weighted', beta=2))\n",
    "    \n",
    "    print (classification_report(y_data, predicted, labels=[1,0]))\n",
    "\n",
    "\n",
    "stats_pac('Knn plain - Train', svc, X_train, y_train)\n",
    "stats_pac('Knn plain - Validation', svc, X_test, y_test)"
   ]
  },
  {
   "cell_type": "markdown",
   "id": "9ed8bb11-0b1e-474a-9bd9-91387055551c",
   "metadata": {},
   "source": [
    "## hyperparams"
   ]
  },
  {
   "cell_type": "code",
   "execution_count": null,
   "id": "cd958942-ba21-49b6-bb04-c9afce68afd6",
   "metadata": {},
   "outputs": [],
   "source": []
  },
  {
   "cell_type": "code",
   "execution_count": 88,
   "id": "b75bbe18-110e-4a89-a4bb-7a813e85bd4f",
   "metadata": {},
   "outputs": [],
   "source": [
    "svc2 = SVC(kernel='linear', class_weight='balanced', max_iter=200000, random_state=0)\n",
    "range_list = ['linear', 'rbf', 'sigmoid','poly']"
   ]
  },
  {
   "cell_type": "code",
   "execution_count": 74,
   "id": "2599a798-e535-4d98-8528-7f28a1822bb6",
   "metadata": {},
   "outputs": [
    {
     "name": "stderr",
     "output_type": "stream",
     "text": [
      "/Users/sdodge/work/omscs/cs7641/cs7641_assignments/env3.9.7/lib/python3.9/site-packages/sklearn/svm/_base.py:255: ConvergenceWarning: Solver terminated early (max_iter=200000).  Consider pre-processing your data with StandardScaler or MinMaxScaler.\n",
      "  warnings.warn('Solver terminated early (max_iter=%i).'\n",
      "/Users/sdodge/work/omscs/cs7641/cs7641_assignments/env3.9.7/lib/python3.9/site-packages/sklearn/svm/_base.py:255: ConvergenceWarning: Solver terminated early (max_iter=200000).  Consider pre-processing your data with StandardScaler or MinMaxScaler.\n",
      "  warnings.warn('Solver terminated early (max_iter=%i).'\n",
      "/Users/sdodge/work/omscs/cs7641/cs7641_assignments/env3.9.7/lib/python3.9/site-packages/sklearn/svm/_base.py:255: ConvergenceWarning: Solver terminated early (max_iter=200000).  Consider pre-processing your data with StandardScaler or MinMaxScaler.\n",
      "  warnings.warn('Solver terminated early (max_iter=%i).'\n"
     ]
    }
   ],
   "source": [
    "strat_cv = StratifiedKFold(3, shuffle=True,  random_state=0)\n",
    "svc_train_scores, svc_test_scores = validation_curve(\n",
    "    svc2, X, y, param_name=\"kernel\", param_range=range_list,\n",
    "    scoring=scorer, cv=strat_cv, n_jobs=-1)"
   ]
  },
  {
   "cell_type": "code",
   "execution_count": 75,
   "id": "3e21cd4c-acd1-4784-bf40-cff93607f1ea",
   "metadata": {},
   "outputs": [
    {
     "data": {
      "text/html": [
       "<div>\n",
       "<style scoped>\n",
       "    .dataframe tbody tr th:only-of-type {\n",
       "        vertical-align: middle;\n",
       "    }\n",
       "\n",
       "    .dataframe tbody tr th {\n",
       "        vertical-align: top;\n",
       "    }\n",
       "\n",
       "    .dataframe thead th {\n",
       "        text-align: right;\n",
       "    }\n",
       "</style>\n",
       "<table border=\"1\" class=\"dataframe\">\n",
       "  <thead>\n",
       "    <tr style=\"text-align: right;\">\n",
       "      <th></th>\n",
       "      <th>x</th>\n",
       "      <th>train</th>\n",
       "      <th>test</th>\n",
       "    </tr>\n",
       "  </thead>\n",
       "  <tbody>\n",
       "    <tr>\n",
       "      <th>0</th>\n",
       "      <td>linear</td>\n",
       "      <td>0.538702</td>\n",
       "      <td>0.528090</td>\n",
       "    </tr>\n",
       "    <tr>\n",
       "      <th>1</th>\n",
       "      <td>rbf</td>\n",
       "      <td>0.820849</td>\n",
       "      <td>0.816479</td>\n",
       "    </tr>\n",
       "    <tr>\n",
       "      <th>2</th>\n",
       "      <td>sigmoid</td>\n",
       "      <td>0.456305</td>\n",
       "      <td>0.479401</td>\n",
       "    </tr>\n",
       "    <tr>\n",
       "      <th>3</th>\n",
       "      <td>poly</td>\n",
       "      <td>0.867041</td>\n",
       "      <td>0.861423</td>\n",
       "    </tr>\n",
       "  </tbody>\n",
       "</table>\n",
       "</div>"
      ],
      "text/plain": [
       "         x     train      test\n",
       "0   linear  0.538702  0.528090\n",
       "1      rbf  0.820849  0.816479\n",
       "2  sigmoid  0.456305  0.479401\n",
       "3     poly  0.867041  0.861423"
      ]
     },
     "execution_count": 75,
     "metadata": {},
     "output_type": "execute_result"
    }
   ],
   "source": [
    "train_scores_mean = np.mean(svc_train_scores, axis=1)\n",
    "test_scores_mean = np.mean(svc_test_scores, axis=1)\n",
    "# print (range_list.shape,train_scores_mean.shape,test_scores_mean.shape)\n",
    "df_1 = pd.DataFrame({'x':range_list,'train':train_scores_mean,'test':test_scores_mean} )\n",
    "df_1"
   ]
  },
  {
   "cell_type": "code",
   "execution_count": 70,
   "id": "e629f8e8-5d5e-4ccb-b4dd-be8155bd6105",
   "metadata": {},
   "outputs": [],
   "source": [
    "svc3 = SVC(kernel='poly',C=10.0, class_weight='balanced', max_iter=200000, random_state=0)\n",
    "range_list2 = np.logspace(-1, 2, 15)"
   ]
  },
  {
   "cell_type": "code",
   "execution_count": 71,
   "id": "de06a6b3-838a-41b3-8aed-9639f2943775",
   "metadata": {},
   "outputs": [
    {
     "name": "stderr",
     "output_type": "stream",
     "text": [
      "/Users/sdodge/work/omscs/cs7641/cs7641_assignments/env3.9.7/lib/python3.9/site-packages/sklearn/svm/_base.py:255: ConvergenceWarning: Solver terminated early (max_iter=200000).  Consider pre-processing your data with StandardScaler or MinMaxScaler.\n",
      "  warnings.warn('Solver terminated early (max_iter=%i).'\n",
      "/Users/sdodge/work/omscs/cs7641/cs7641_assignments/env3.9.7/lib/python3.9/site-packages/sklearn/svm/_base.py:255: ConvergenceWarning: Solver terminated early (max_iter=200000).  Consider pre-processing your data with StandardScaler or MinMaxScaler.\n",
      "  warnings.warn('Solver terminated early (max_iter=%i).'\n",
      "/Users/sdodge/work/omscs/cs7641/cs7641_assignments/env3.9.7/lib/python3.9/site-packages/sklearn/svm/_base.py:255: ConvergenceWarning: Solver terminated early (max_iter=200000).  Consider pre-processing your data with StandardScaler or MinMaxScaler.\n",
      "  warnings.warn('Solver terminated early (max_iter=%i).'\n",
      "/Users/sdodge/work/omscs/cs7641/cs7641_assignments/env3.9.7/lib/python3.9/site-packages/sklearn/svm/_base.py:255: ConvergenceWarning: Solver terminated early (max_iter=200000).  Consider pre-processing your data with StandardScaler or MinMaxScaler.\n",
      "  warnings.warn('Solver terminated early (max_iter=%i).'\n",
      "/Users/sdodge/work/omscs/cs7641/cs7641_assignments/env3.9.7/lib/python3.9/site-packages/sklearn/svm/_base.py:255: ConvergenceWarning: Solver terminated early (max_iter=200000).  Consider pre-processing your data with StandardScaler or MinMaxScaler.\n",
      "  warnings.warn('Solver terminated early (max_iter=%i).'\n",
      "/Users/sdodge/work/omscs/cs7641/cs7641_assignments/env3.9.7/lib/python3.9/site-packages/sklearn/svm/_base.py:255: ConvergenceWarning: Solver terminated early (max_iter=200000).  Consider pre-processing your data with StandardScaler or MinMaxScaler.\n",
      "  warnings.warn('Solver terminated early (max_iter=%i).'\n",
      "/Users/sdodge/work/omscs/cs7641/cs7641_assignments/env3.9.7/lib/python3.9/site-packages/sklearn/svm/_base.py:255: ConvergenceWarning: Solver terminated early (max_iter=200000).  Consider pre-processing your data with StandardScaler or MinMaxScaler.\n",
      "  warnings.warn('Solver terminated early (max_iter=%i).'\n",
      "/Users/sdodge/work/omscs/cs7641/cs7641_assignments/env3.9.7/lib/python3.9/site-packages/sklearn/svm/_base.py:255: ConvergenceWarning: Solver terminated early (max_iter=200000).  Consider pre-processing your data with StandardScaler or MinMaxScaler.\n",
      "  warnings.warn('Solver terminated early (max_iter=%i).'\n",
      "/Users/sdodge/work/omscs/cs7641/cs7641_assignments/env3.9.7/lib/python3.9/site-packages/sklearn/svm/_base.py:255: ConvergenceWarning: Solver terminated early (max_iter=200000).  Consider pre-processing your data with StandardScaler or MinMaxScaler.\n",
      "  warnings.warn('Solver terminated early (max_iter=%i).'\n",
      "/Users/sdodge/work/omscs/cs7641/cs7641_assignments/env3.9.7/lib/python3.9/site-packages/sklearn/svm/_base.py:255: ConvergenceWarning: Solver terminated early (max_iter=200000).  Consider pre-processing your data with StandardScaler or MinMaxScaler.\n",
      "  warnings.warn('Solver terminated early (max_iter=%i).'\n",
      "/Users/sdodge/work/omscs/cs7641/cs7641_assignments/env3.9.7/lib/python3.9/site-packages/sklearn/svm/_base.py:255: ConvergenceWarning: Solver terminated early (max_iter=200000).  Consider pre-processing your data with StandardScaler or MinMaxScaler.\n",
      "  warnings.warn('Solver terminated early (max_iter=%i).'\n"
     ]
    }
   ],
   "source": [
    "svc_train_scores3, svc_test_scores3 = validation_curve(\n",
    "    svc3, X, y, param_name=\"C\", param_range=range_list2,\n",
    "    scoring=scorer, cv=strat_cv, n_jobs=-1)"
   ]
  },
  {
   "cell_type": "code",
   "execution_count": 72,
   "id": "62ba876f-1d0e-4c4c-8e89-98f41ee8b77d",
   "metadata": {},
   "outputs": [
    {
     "data": {
      "text/html": [
       "<div>\n",
       "<style scoped>\n",
       "    .dataframe tbody tr th:only-of-type {\n",
       "        vertical-align: middle;\n",
       "    }\n",
       "\n",
       "    .dataframe tbody tr th {\n",
       "        vertical-align: top;\n",
       "    }\n",
       "\n",
       "    .dataframe thead th {\n",
       "        text-align: right;\n",
       "    }\n",
       "</style>\n",
       "<table border=\"1\" class=\"dataframe\">\n",
       "  <thead>\n",
       "    <tr style=\"text-align: right;\">\n",
       "      <th></th>\n",
       "      <th>x</th>\n",
       "      <th>train</th>\n",
       "      <th>test</th>\n",
       "    </tr>\n",
       "  </thead>\n",
       "  <tbody>\n",
       "    <tr>\n",
       "      <th>0</th>\n",
       "      <td>0.100000</td>\n",
       "      <td>0.851436</td>\n",
       "      <td>0.851436</td>\n",
       "    </tr>\n",
       "    <tr>\n",
       "      <th>1</th>\n",
       "      <td>0.163789</td>\n",
       "      <td>0.848315</td>\n",
       "      <td>0.848939</td>\n",
       "    </tr>\n",
       "    <tr>\n",
       "      <th>2</th>\n",
       "      <td>0.268270</td>\n",
       "      <td>0.849563</td>\n",
       "      <td>0.845194</td>\n",
       "    </tr>\n",
       "    <tr>\n",
       "      <th>3</th>\n",
       "      <td>0.439397</td>\n",
       "      <td>0.853308</td>\n",
       "      <td>0.851436</td>\n",
       "    </tr>\n",
       "    <tr>\n",
       "      <th>4</th>\n",
       "      <td>0.719686</td>\n",
       "      <td>0.855181</td>\n",
       "      <td>0.852684</td>\n",
       "    </tr>\n",
       "    <tr>\n",
       "      <th>5</th>\n",
       "      <td>1.178769</td>\n",
       "      <td>0.868914</td>\n",
       "      <td>0.863920</td>\n",
       "    </tr>\n",
       "    <tr>\n",
       "      <th>6</th>\n",
       "      <td>1.930698</td>\n",
       "      <td>0.880150</td>\n",
       "      <td>0.873908</td>\n",
       "    </tr>\n",
       "    <tr>\n",
       "      <th>7</th>\n",
       "      <td>3.162278</td>\n",
       "      <td>0.888265</td>\n",
       "      <td>0.877653</td>\n",
       "    </tr>\n",
       "    <tr>\n",
       "      <th>8</th>\n",
       "      <td>5.179475</td>\n",
       "      <td>0.888265</td>\n",
       "      <td>0.885144</td>\n",
       "    </tr>\n",
       "    <tr>\n",
       "      <th>9</th>\n",
       "      <td>8.483429</td>\n",
       "      <td>0.901373</td>\n",
       "      <td>0.892634</td>\n",
       "    </tr>\n",
       "    <tr>\n",
       "      <th>10</th>\n",
       "      <td>13.894955</td>\n",
       "      <td>0.918851</td>\n",
       "      <td>0.900125</td>\n",
       "    </tr>\n",
       "    <tr>\n",
       "      <th>11</th>\n",
       "      <td>22.758459</td>\n",
       "      <td>0.927591</td>\n",
       "      <td>0.893883</td>\n",
       "    </tr>\n",
       "    <tr>\n",
       "      <th>12</th>\n",
       "      <td>37.275937</td>\n",
       "      <td>0.925718</td>\n",
       "      <td>0.891386</td>\n",
       "    </tr>\n",
       "    <tr>\n",
       "      <th>13</th>\n",
       "      <td>61.054023</td>\n",
       "      <td>0.910737</td>\n",
       "      <td>0.885144</td>\n",
       "    </tr>\n",
       "    <tr>\n",
       "      <th>14</th>\n",
       "      <td>100.000000</td>\n",
       "      <td>0.918227</td>\n",
       "      <td>0.893883</td>\n",
       "    </tr>\n",
       "  </tbody>\n",
       "</table>\n",
       "</div>"
      ],
      "text/plain": [
       "             x     train      test\n",
       "0     0.100000  0.851436  0.851436\n",
       "1     0.163789  0.848315  0.848939\n",
       "2     0.268270  0.849563  0.845194\n",
       "3     0.439397  0.853308  0.851436\n",
       "4     0.719686  0.855181  0.852684\n",
       "5     1.178769  0.868914  0.863920\n",
       "6     1.930698  0.880150  0.873908\n",
       "7     3.162278  0.888265  0.877653\n",
       "8     5.179475  0.888265  0.885144\n",
       "9     8.483429  0.901373  0.892634\n",
       "10   13.894955  0.918851  0.900125\n",
       "11   22.758459  0.927591  0.893883\n",
       "12   37.275937  0.925718  0.891386\n",
       "13   61.054023  0.910737  0.885144\n",
       "14  100.000000  0.918227  0.893883"
      ]
     },
     "execution_count": 72,
     "metadata": {},
     "output_type": "execute_result"
    }
   ],
   "source": [
    "train_scores_mean3 = np.mean(svc_train_scores3, axis=1)\n",
    "test_scores_mean3 = np.mean(svc_test_scores3, axis=1)\n",
    "# print (range_list.shape,train_scores_mean.shape,test_scores_mean.shape)\n",
    "df_3 = pd.DataFrame({'x':range_list2,'train':train_scores_mean3,'test':test_scores_mean3} )\n",
    "df_3"
   ]
  },
  {
   "cell_type": "code",
   "execution_count": 82,
   "id": "0bcd195f-eaa0-45a6-9c0b-375009461ca5",
   "metadata": {},
   "outputs": [],
   "source": [
    "svc4 = SVC(kernel='poly', class_weight='balanced', max_iter=200000, random_state=0)\n",
    "range_list4 = np.linspace(1,10,10)"
   ]
  },
  {
   "cell_type": "code",
   "execution_count": 83,
   "id": "86ae0201-5c0f-4ac0-881d-35b9523498fb",
   "metadata": {},
   "outputs": [
    {
     "name": "stderr",
     "output_type": "stream",
     "text": [
      "/Users/sdodge/work/omscs/cs7641/cs7641_assignments/env3.9.7/lib/python3.9/site-packages/sklearn/svm/_base.py:255: ConvergenceWarning: Solver terminated early (max_iter=200000).  Consider pre-processing your data with StandardScaler or MinMaxScaler.\n",
      "  warnings.warn('Solver terminated early (max_iter=%i).'\n",
      "/Users/sdodge/work/omscs/cs7641/cs7641_assignments/env3.9.7/lib/python3.9/site-packages/sklearn/svm/_base.py:255: ConvergenceWarning: Solver terminated early (max_iter=200000).  Consider pre-processing your data with StandardScaler or MinMaxScaler.\n",
      "  warnings.warn('Solver terminated early (max_iter=%i).'\n",
      "/Users/sdodge/work/omscs/cs7641/cs7641_assignments/env3.9.7/lib/python3.9/site-packages/sklearn/svm/_base.py:255: ConvergenceWarning: Solver terminated early (max_iter=200000).  Consider pre-processing your data with StandardScaler or MinMaxScaler.\n",
      "  warnings.warn('Solver terminated early (max_iter=%i).'\n",
      "/Users/sdodge/work/omscs/cs7641/cs7641_assignments/env3.9.7/lib/python3.9/site-packages/sklearn/svm/_base.py:255: ConvergenceWarning: Solver terminated early (max_iter=200000).  Consider pre-processing your data with StandardScaler or MinMaxScaler.\n",
      "  warnings.warn('Solver terminated early (max_iter=%i).'\n",
      "/Users/sdodge/work/omscs/cs7641/cs7641_assignments/env3.9.7/lib/python3.9/site-packages/sklearn/svm/_base.py:255: ConvergenceWarning: Solver terminated early (max_iter=200000).  Consider pre-processing your data with StandardScaler or MinMaxScaler.\n",
      "  warnings.warn('Solver terminated early (max_iter=%i).'\n",
      "/Users/sdodge/work/omscs/cs7641/cs7641_assignments/env3.9.7/lib/python3.9/site-packages/sklearn/svm/_base.py:255: ConvergenceWarning: Solver terminated early (max_iter=200000).  Consider pre-processing your data with StandardScaler or MinMaxScaler.\n",
      "  warnings.warn('Solver terminated early (max_iter=%i).'\n",
      "/Users/sdodge/work/omscs/cs7641/cs7641_assignments/env3.9.7/lib/python3.9/site-packages/sklearn/svm/_base.py:255: ConvergenceWarning: Solver terminated early (max_iter=200000).  Consider pre-processing your data with StandardScaler or MinMaxScaler.\n",
      "  warnings.warn('Solver terminated early (max_iter=%i).'\n",
      "/Users/sdodge/work/omscs/cs7641/cs7641_assignments/env3.9.7/lib/python3.9/site-packages/sklearn/svm/_base.py:255: ConvergenceWarning: Solver terminated early (max_iter=200000).  Consider pre-processing your data with StandardScaler or MinMaxScaler.\n",
      "  warnings.warn('Solver terminated early (max_iter=%i).'\n",
      "/Users/sdodge/work/omscs/cs7641/cs7641_assignments/env3.9.7/lib/python3.9/site-packages/sklearn/svm/_base.py:255: ConvergenceWarning: Solver terminated early (max_iter=200000).  Consider pre-processing your data with StandardScaler or MinMaxScaler.\n",
      "  warnings.warn('Solver terminated early (max_iter=%i).'\n"
     ]
    }
   ],
   "source": [
    "svc_train_scores4, svc_test_scores4 = validation_curve(\n",
    "    svc4, X, y, param_name=\"degree\", param_range=range_list4,\n",
    "    scoring=scorer, cv=strat_cv, n_jobs=-1)"
   ]
  },
  {
   "cell_type": "code",
   "execution_count": 84,
   "id": "706919ec-5405-4fff-9671-2f2feca34cfd",
   "metadata": {},
   "outputs": [
    {
     "data": {
      "text/html": [
       "<div>\n",
       "<style scoped>\n",
       "    .dataframe tbody tr th:only-of-type {\n",
       "        vertical-align: middle;\n",
       "    }\n",
       "\n",
       "    .dataframe tbody tr th {\n",
       "        vertical-align: top;\n",
       "    }\n",
       "\n",
       "    .dataframe thead th {\n",
       "        text-align: right;\n",
       "    }\n",
       "</style>\n",
       "<table border=\"1\" class=\"dataframe\">\n",
       "  <thead>\n",
       "    <tr style=\"text-align: right;\">\n",
       "      <th></th>\n",
       "      <th>x</th>\n",
       "      <th>train</th>\n",
       "      <th>test</th>\n",
       "    </tr>\n",
       "  </thead>\n",
       "  <tbody>\n",
       "    <tr>\n",
       "      <th>0</th>\n",
       "      <td>1.0</td>\n",
       "      <td>0.652310</td>\n",
       "      <td>0.644195</td>\n",
       "    </tr>\n",
       "    <tr>\n",
       "      <th>1</th>\n",
       "      <td>2.0</td>\n",
       "      <td>0.866417</td>\n",
       "      <td>0.861423</td>\n",
       "    </tr>\n",
       "    <tr>\n",
       "      <th>2</th>\n",
       "      <td>3.0</td>\n",
       "      <td>0.867041</td>\n",
       "      <td>0.861423</td>\n",
       "    </tr>\n",
       "    <tr>\n",
       "      <th>3</th>\n",
       "      <td>4.0</td>\n",
       "      <td>0.887640</td>\n",
       "      <td>0.878901</td>\n",
       "    </tr>\n",
       "    <tr>\n",
       "      <th>4</th>\n",
       "      <td>5.0</td>\n",
       "      <td>0.911361</td>\n",
       "      <td>0.902622</td>\n",
       "    </tr>\n",
       "    <tr>\n",
       "      <th>5</th>\n",
       "      <td>6.0</td>\n",
       "      <td>0.920724</td>\n",
       "      <td>0.912609</td>\n",
       "    </tr>\n",
       "    <tr>\n",
       "      <th>6</th>\n",
       "      <td>7.0</td>\n",
       "      <td>0.928839</td>\n",
       "      <td>0.911361</td>\n",
       "    </tr>\n",
       "    <tr>\n",
       "      <th>7</th>\n",
       "      <td>8.0</td>\n",
       "      <td>0.933833</td>\n",
       "      <td>0.916355</td>\n",
       "    </tr>\n",
       "    <tr>\n",
       "      <th>8</th>\n",
       "      <td>9.0</td>\n",
       "      <td>0.948190</td>\n",
       "      <td>0.915106</td>\n",
       "    </tr>\n",
       "    <tr>\n",
       "      <th>9</th>\n",
       "      <td>10.0</td>\n",
       "      <td>0.953808</td>\n",
       "      <td>0.915106</td>\n",
       "    </tr>\n",
       "  </tbody>\n",
       "</table>\n",
       "</div>"
      ],
      "text/plain": [
       "      x     train      test\n",
       "0   1.0  0.652310  0.644195\n",
       "1   2.0  0.866417  0.861423\n",
       "2   3.0  0.867041  0.861423\n",
       "3   4.0  0.887640  0.878901\n",
       "4   5.0  0.911361  0.902622\n",
       "5   6.0  0.920724  0.912609\n",
       "6   7.0  0.928839  0.911361\n",
       "7   8.0  0.933833  0.916355\n",
       "8   9.0  0.948190  0.915106\n",
       "9  10.0  0.953808  0.915106"
      ]
     },
     "execution_count": 84,
     "metadata": {},
     "output_type": "execute_result"
    }
   ],
   "source": [
    "train_scores_mean4 = np.mean(svc_train_scores4, axis=1)\n",
    "test_scores_mean4 = np.mean(svc_test_scores4, axis=1)\n",
    "# print (range_list.shape,train_scores_mean.shape,test_scores_mean.shape)\n",
    "df_4 = pd.DataFrame({'x':range_list4,'train':train_scores_mean4,'test':test_scores_mean4} )\n",
    "df_4"
   ]
  },
  {
   "cell_type": "code",
   "execution_count": 86,
   "id": "e31cb49e-d5c6-4e48-82f0-0d43f72878f0",
   "metadata": {},
   "outputs": [
    {
     "data": {
      "text/plain": [
       "Text(0.5, 1.0, 'SVM Validation curve:\\nPolynomial Degree')"
      ]
     },
     "execution_count": 86,
     "metadata": {},
     "output_type": "execute_result"
    },
    {
     "data": {
      "image/png": "[encoded data removed]",
      "text/plain": [
       "<Figure size 432x288 with 1 Axes>"
      ]
     },
     "metadata": {
      "needs_background": "light"
     },
     "output_type": "display_data"
    }
   ],
   "source": [
    "axs = plt.gca()\n",
    "axs.plot(df_4['x'], df_4['train'], label='Train', linewidth=0.75)\n",
    "axs.plot(df_4['x'], df_4['test'], label='Validation', linewidth=0.75)\n",
    "axs.legend(); axs.set_ylabel(\"Metric: Recall\"); axs.set_xlabel(\"Poly Degree\")\n",
    "axs.set_title('SVM Validation curve:\\nPolynomial Degree')"
   ]
  },
  {
   "cell_type": "code",
   "execution_count": null,
   "id": "46f7444c-f49b-4861-b914-97527b764b5b",
   "metadata": {},
   "outputs": [],
   "source": []
  },
  {
   "cell_type": "code",
   "execution_count": 115,
   "id": "a5b8801e-a037-4eb9-838a-9efad6912355",
   "metadata": {},
   "outputs": [
    {
     "data": {
      "text/plain": [
       "array([    10,     19,     37,     71,    138,    268,    517,   1000,\n",
       "         1930,   3727,   7196,  13894,  26826,  51794, 100000],\n",
       "      dtype=int32)"
      ]
     },
     "execution_count": 115,
     "metadata": {},
     "output_type": "execute_result"
    }
   ],
   "source": [
    "## Plot iterations\n",
    "svc5 = SVC(kernel='poly', class_weight='balanced', degree=6, random_state=0)\n",
    "range_list = np.linspace(2, 10000, 15).astype('int32')\n",
    "range_list = np.logspace(1,5,15).astype('int32')\n",
    "range_list\n"
   ]
  },
  {
   "cell_type": "code",
   "execution_count": null,
   "id": "41941f56-86ac-46d1-b7d1-d26188940c54",
   "metadata": {},
   "outputs": [],
   "source": [
    "svc_train_scores5, svc_test_scores5 = validation_curve(\n",
    "    svc5, X, y, param_name=\"max_iter\", param_range=range_list,\n",
    "    scoring=scorer, cv=strat_cv, n_jobs=-1)\n",
    "print(\"done\")"
   ]
  },
  {
   "cell_type": "code",
   "execution_count": 117,
   "id": "73f1ddc2-33fb-44e5-8256-9a0962061c02",
   "metadata": {},
   "outputs": [
    {
     "name": "stdout",
     "output_type": "stream",
     "text": [
      "(15,) (15,) (15,)\n"
     ]
    },
    {
     "data": {
      "text/html": [
       "<div>\n",
       "<style scoped>\n",
       "    .dataframe tbody tr th:only-of-type {\n",
       "        vertical-align: middle;\n",
       "    }\n",
       "\n",
       "    .dataframe tbody tr th {\n",
       "        vertical-align: top;\n",
       "    }\n",
       "\n",
       "    .dataframe thead th {\n",
       "        text-align: right;\n",
       "    }\n",
       "</style>\n",
       "<table border=\"1\" class=\"dataframe\">\n",
       "  <thead>\n",
       "    <tr style=\"text-align: right;\">\n",
       "      <th></th>\n",
       "      <th>x</th>\n",
       "      <th>train</th>\n",
       "      <th>test</th>\n",
       "    </tr>\n",
       "  </thead>\n",
       "  <tbody>\n",
       "    <tr>\n",
       "      <th>0</th>\n",
       "      <td>10</td>\n",
       "      <td>0.978777</td>\n",
       "      <td>0.971286</td>\n",
       "    </tr>\n",
       "    <tr>\n",
       "      <th>1</th>\n",
       "      <td>19</td>\n",
       "      <td>0.978777</td>\n",
       "      <td>0.971286</td>\n",
       "    </tr>\n",
       "    <tr>\n",
       "      <th>2</th>\n",
       "      <td>37</td>\n",
       "      <td>0.973783</td>\n",
       "      <td>0.971286</td>\n",
       "    </tr>\n",
       "    <tr>\n",
       "      <th>3</th>\n",
       "      <td>71</td>\n",
       "      <td>0.964419</td>\n",
       "      <td>0.965044</td>\n",
       "    </tr>\n",
       "    <tr>\n",
       "      <th>4</th>\n",
       "      <td>138</td>\n",
       "      <td>0.936954</td>\n",
       "      <td>0.938826</td>\n",
       "    </tr>\n",
       "    <tr>\n",
       "      <th>5</th>\n",
       "      <td>268</td>\n",
       "      <td>0.942572</td>\n",
       "      <td>0.942572</td>\n",
       "    </tr>\n",
       "    <tr>\n",
       "      <th>6</th>\n",
       "      <td>517</td>\n",
       "      <td>0.954432</td>\n",
       "      <td>0.952559</td>\n",
       "    </tr>\n",
       "    <tr>\n",
       "      <th>7</th>\n",
       "      <td>1000</td>\n",
       "      <td>0.879526</td>\n",
       "      <td>0.886392</td>\n",
       "    </tr>\n",
       "    <tr>\n",
       "      <th>8</th>\n",
       "      <td>1930</td>\n",
       "      <td>0.930712</td>\n",
       "      <td>0.932584</td>\n",
       "    </tr>\n",
       "    <tr>\n",
       "      <th>9</th>\n",
       "      <td>3727</td>\n",
       "      <td>0.929463</td>\n",
       "      <td>0.936330</td>\n",
       "    </tr>\n",
       "    <tr>\n",
       "      <th>10</th>\n",
       "      <td>7196</td>\n",
       "      <td>0.495006</td>\n",
       "      <td>0.493134</td>\n",
       "    </tr>\n",
       "    <tr>\n",
       "      <th>11</th>\n",
       "      <td>13894</td>\n",
       "      <td>0.911985</td>\n",
       "      <td>0.908864</td>\n",
       "    </tr>\n",
       "    <tr>\n",
       "      <th>12</th>\n",
       "      <td>26826</td>\n",
       "      <td>0.916979</td>\n",
       "      <td>0.911361</td>\n",
       "    </tr>\n",
       "    <tr>\n",
       "      <th>13</th>\n",
       "      <td>51794</td>\n",
       "      <td>0.918851</td>\n",
       "      <td>0.912609</td>\n",
       "    </tr>\n",
       "    <tr>\n",
       "      <th>14</th>\n",
       "      <td>100000</td>\n",
       "      <td>0.920724</td>\n",
       "      <td>0.912609</td>\n",
       "    </tr>\n",
       "  </tbody>\n",
       "</table>\n",
       "</div>"
      ],
      "text/plain": [
       "         x     train      test\n",
       "0       10  0.978777  0.971286\n",
       "1       19  0.978777  0.971286\n",
       "2       37  0.973783  0.971286\n",
       "3       71  0.964419  0.965044\n",
       "4      138  0.936954  0.938826\n",
       "5      268  0.942572  0.942572\n",
       "6      517  0.954432  0.952559\n",
       "7     1000  0.879526  0.886392\n",
       "8     1930  0.930712  0.932584\n",
       "9     3727  0.929463  0.936330\n",
       "10    7196  0.495006  0.493134\n",
       "11   13894  0.911985  0.908864\n",
       "12   26826  0.916979  0.911361\n",
       "13   51794  0.918851  0.912609\n",
       "14  100000  0.920724  0.912609"
      ]
     },
     "execution_count": 117,
     "metadata": {},
     "output_type": "execute_result"
    }
   ],
   "source": [
    "\n",
    "train_scores_mean5 = np.mean(svc_train_scores5, axis=1)\n",
    "test_scores_mean5 = np.mean(svc_test_scores5, axis=1)\n",
    "print (range_list.shape,train_scores_mean5.shape,test_scores_mean5.shape)\n",
    "df_5 = pd.DataFrame({'x':range_list,'train':train_scores_mean5,'test':test_scores_mean5} )\n",
    "df_5"
   ]
  },
  {
   "cell_type": "code",
   "execution_count": 119,
   "id": "27c0bce8-9bc9-45bb-9bc1-d7683a68876a",
   "metadata": {},
   "outputs": [
    {
     "data": {
      "text/plain": [
       "Text(0.5, 1.0, 'SVM Iterations Curve')"
      ]
     },
     "execution_count": 119,
     "metadata": {},
     "output_type": "execute_result"
    },
    {
     "data": {
      "image/png": "[encoded data removed]",
      "text/plain": [
       "<Figure size 432x288 with 1 Axes>"
      ]
     },
     "metadata": {
      "needs_background": "light"
     },
     "output_type": "display_data"
    }
   ],
   "source": [
    "axs = plt.gca()\n",
    "axs.plot(df_5['x'], df_5['train'], label='Train', linewidth=0.75)\n",
    "axs.plot(df_5['x'], df_5['test'], label='Validation', linewidth=0.75)\n",
    "axs.legend(); axs.set_ylabel(\"Metric: Recall\"); axs.set_xlabel(\"Iterations\")\n",
    "axs.set_xscale(\"log\")\n",
    "axs.set_title('SVM Iterations Curve')"
   ]
  },
  {
   "cell_type": "code",
   "execution_count": null,
   "id": "bd03aca4-cee2-4e58-9a3f-de83a5cdb812",
   "metadata": {},
   "outputs": [],
   "source": []
  }
 ],
 "metadata": {
  "kernelspec": {
   "display_name": "Python 3 (ipykernel)",
   "language": "python",
   "name": "python3"
  },
  "language_info": {
   "codemirror_mode": {
    "name": "ipython",
    "version": 3
   },
   "file_extension": ".py",
   "mimetype": "text/x-python",
   "name": "python",
   "nbconvert_exporter": "python",
   "pygments_lexer": "ipython3",
   "version": "3.9.7"
  }
 },
 "nbformat": 4,
 "nbformat_minor": 5
}
