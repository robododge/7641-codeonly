{
 "cells": [
  {
   "cell_type": "code",
   "execution_count": 2,
   "id": "d37c006a-e78b-4703-9a65-4713cf29faa6",
   "metadata": {
    "tags": []
   },
   "outputs": [],
   "source": [
    "import numpy as np\n",
    "import pandas as pd\n",
    "import matplotlib.pylab as plt\n",
    "import seaborn as sns\n",
    "from sklearn.tree import DecisionTreeClassifier\n",
    "from sklearn.model_selection import GridSearchCV, RandomizedSearchCV, train_test_split, StratifiedKFold, cross_validate\n",
    "from sklearn.neural_network import MLPClassifier\n",
    "from sklearn.metrics import precision_recall_fscore_support, make_scorer, recall_score, f1_score, confusion_matrix, precision_score, balanced_accuracy_score\n",
    "from sklearn.metrics import fbeta_score, classification_report\n",
    "\n",
    "\n",
    "from sklearn.preprocessing import LabelEncoder, MinMaxScaler\n",
    "from libs.loader import load_malicious, load_jobchange\n",
    "         \n",
    "\n",
    "from sklearn.model_selection import learning_curve, validation_curve"
   ]
  },
  {
   "cell_type": "code",
   "execution_count": 10,
   "id": "4f63949b-db86-407f-9077-f902c811a79e",
   "metadata": {},
   "outputs": [],
   "source": [
    "#Some labels\n",
    "ds_labels = {1:'dataset-01: Malicious Hack', 2:'dataset-02: Job Change'}\n",
    "\n",
    "#Load the two datset\n",
    "job_data = load_jobchange()\n",
    "mal_data = load_malicious()\n"
   ]
  },
  {
   "cell_type": "code",
   "execution_count": 23,
   "id": "612b4768-9af8-4a1b-95a3-3ca64c150a0e",
   "metadata": {},
   "outputs": [],
   "source": [
    "\n",
    "\n",
    "scorer_job = make_scorer(f1_score)\n",
    "scorer_mal = scorer = make_scorer(recall_score)\n",
    "\n",
    "mlp_mal = MLPClassifier(hidden_layer_sizes=(158,), max_iter=500, random_state=0)\n",
    "mlp_job =  MLPClassifier(hidden_layer_sizes=(7,),max_iter=500,random_state=0 )\n",
    "\n",
    "\n"
   ]
  },
  {
   "cell_type": "markdown",
   "id": "227ba912-5111-4b43-8b1f-3e6ccd77fc95",
   "metadata": {},
   "source": [
    "##  Hyperparam stuff"
   ]
  },
  {
   "cell_type": "code",
   "execution_count": 15,
   "id": "09ee1c27-662f-41d8-9217-97dfef0b237e",
   "metadata": {},
   "outputs": [],
   "source": [
    "def eval_hyperparam(estimator, data, param_name='nothing', range_list=[], range_override=[], scorer=None):\n",
    "    strat_cv = StratifiedKFold(n_splits=5, random_state=0, shuffle=True)\n",
    "    X,y = data\n",
    "    \n",
    "    dt_train_scores,dt_test_scores = validation_curve(\n",
    "        estimator, X, y, param_name=param_name, param_range=range_list,\n",
    "        scoring=scorer, cv=strat_cv, n_jobs=-1)\n",
    "    \n",
    "    train_scores_mean = np.mean(dt_train_scores, axis=1)\n",
    "    test_scores_mean = np.mean(dt_test_scores, axis=1)\n",
    "    x_vals = range_override  if len(range_override) > 0 else range_list\n",
    "    \n",
    "    df_1 = pd.DataFrame({'x':x_vals,'train':train_scores_mean,'test':test_scores_mean} )\n",
    "#     print(df_1)\n",
    "    return df_1\n",
    "    "
   ]
  },
  {
   "cell_type": "code",
   "execution_count": 48,
   "id": "b2da5de3-05ab-4cd0-8459-dac1eca8ab13",
   "metadata": {},
   "outputs": [],
   "source": [
    "def plot(df_1, metric_name, x_label, title, ds_id, figsize = [7,5], show=False):\n",
    "    fig = plt.figure(figsize=figsize, facecolor='w')\n",
    "    axs = fig.add_subplot(111)\n",
    "    axs.plot(df_1['x'], df_1['train'], label='Train', linewidth=0.75)\n",
    "    axs.plot(df_1['x'], df_1['test'], label='Validation', linewidth=0.75)\n",
    "    axs.legend(); axs.set_ylabel(\"Metric: %s\"%metric_name); axs.set_xlabel(x_label)\n",
    "    title_out = \"MLP Hyperparameter:\\n%s\\n%s\"%(title, ds_labels[ds_id])\n",
    "    axs.set_title(title_out)\n",
    "    if show:\n",
    "        plt.show()\n",
    "    fig.savefig('plots/mlp_%d_hyper_%s.png'%(ds_id,x_label),bbox_inches='tight')\n",
    "    plt.close(fig=fig)"
   ]
  },
  {
   "cell_type": "code",
   "execution_count": 16,
   "id": "cd1d93c9-545f-4465-8314-51773ead5224",
   "metadata": {},
   "outputs": [],
   "source": [
    "arr = np.logspace(0.5, 2.4, num=20))\n",
    "variable_layers_size =arr.astype('int32')\n",
    "\n",
    "hidden_layer_range = [(v,) for v in variable_layers_size]"
   ]
  },
  {
   "cell_type": "code",
   "execution_count": 24,
   "id": "436beb99-e5c5-41a0-80a0-6159f945e044",
   "metadata": {},
   "outputs": [
    {
     "name": "stdout",
     "output_type": "stream",
     "text": [
      "done\n"
     ]
    }
   ],
   "source": [
    "df_1 = eval_hyperparam(mlp_mal, mal_data, param_name='hidden_layer_sizes', range_list=hidden_layer_range, range_override=variable_layers_size, scorer=scorer_mal)\n",
    "\n",
    "arr2 = np.logspace(0.5, 2.4, num=20)\n",
    "variable_layers_size2 =arr2.astype('int32')\n",
    "hidden_layer_range2 = [(v,) for v in variable_layers_size2]\n",
    "df_2 = eval_hyperparam(mlp_job, job_data, param_name='hidden_layer_sizes', range_list=hidden_layer_range2, range_override=variable_layers_size2, scorer=scorer_job)\n",
    "\n",
    "print('done')"
   ]
  },
  {
   "cell_type": "code",
   "execution_count": 49,
   "id": "81ca3777-a7a1-4599-ac00-5883e1996551",
   "metadata": {},
   "outputs": [],
   "source": [
    "plot(df_1, 'Recall', 'hidden_layer_size', 'Hidden Layer-1 Size', 1,show=False)\n",
    "plot(df_2, 'F1 Score', 'hidden_layer_size', 'Hidden Layer-1 Size', 2,show=False)"
   ]
  },
  {
   "cell_type": "markdown",
   "id": "7b89f0dd-cfc2-4651-ba1c-2778d03e5f42",
   "metadata": {},
   "source": [
    "## Try activation hyper param - Dataset-01 Malicious Hacks\n"
   ]
  },
  {
   "cell_type": "code",
   "execution_count": 32,
   "id": "d24f2edf-35db-4e99-a97f-c8c12b909ff3",
   "metadata": {},
   "outputs": [
    {
     "name": "stdout",
     "output_type": "stream",
     "text": [
      "done\n"
     ]
    }
   ],
   "source": [
    "# activation{‘identity’, ‘logistic’, ‘tanh’, ‘relu’}\n",
    "X_mal_train, y_mal_train = mal_data\n",
    "strat_cv = StratifiedKFold(n_splits=5, random_state=0, shuffle=True)\n",
    "\n",
    "range_list=['identity', 'logistic', 'tanh', 'relu']\n",
    "mlp_train_scores, mlp_test_scores = validation_curve(\n",
    "    mlp_mal, X_mal_train, y_mal_train, param_name=\"activation\", param_range=range_list,\n",
    "    scoring=scorer, cv=strat_cv, n_jobs=-1)\n",
    "print(\"done\")"
   ]
  },
  {
   "cell_type": "code",
   "execution_count": 53,
   "id": "00a5d3fb-9756-46a4-bf89-51fb24c20885",
   "metadata": {},
   "outputs": [
    {
     "data": {
      "image/png": "[encoded data removed]",
      "text/plain": [
       "<Figure size 432x288 with 1 Axes>"
      ]
     },
     "metadata": {
      "needs_background": "light"
     },
     "output_type": "display_data"
    }
   ],
   "source": [
    "range_list_activation_mal=['identity', 'logistic', 'tanh', 'relu']\n",
    "train_scores_mean = np.mean(mlp_train_scores, axis=1)\n",
    "test_scores_mean = np.mean(mlp_test_scores, axis=1)\n",
    "df_3 = pd.DataFrame({'x':range_list_activation_mal,'train':train_scores_mean,'test':test_scores_mean} )\n",
    "\n",
    "\n",
    "def plot_bar(df):\n",
    "    \n",
    "    N=len(df['x']); ind = np.arange(N);width = 0.3\n",
    "    fig = plt.figure()\n",
    "    axs = fig.add_subplot(111)\n",
    "    \n",
    "    axs.bar(ind, df['train'], width, label='Train')\n",
    "    axs.bar(ind+width, df['test'], width,label='Validate')\n",
    "    axs.set_xticks(ind + width / 2)\n",
    "    axs.set_xticklabels( df['x'] )\n",
    "    axs.legend(); axs.set_ylabel(\"Metric: Recall\"); axs.set_xlabel(\"Activation Type\")\n",
    "    \n",
    "    title = \"MLP Hyperparameter:\\nActivation\\n%s\" % ds_labels[1]\n",
    "    axs.set_title(title)\n",
    "    plt.show()\n",
    "    fig.savefig('plots/mlp_1_hyper_activation.png',bbox_inches='tight')\n",
    "    plt.close(fig=fig)\n",
    "    \n",
    "    \n",
    "plot_bar(df_3)"
   ]
  },
  {
   "cell_type": "markdown",
   "id": "e4ae3509-f4af-494c-b726-b1fa71dc461f",
   "metadata": {},
   "source": [
    "## Iteration graph"
   ]
  },
  {
   "cell_type": "code",
   "execution_count": null,
   "id": "3e1ec136-fc26-4f99-a3b8-33ef3e4b3d2f",
   "metadata": {},
   "outputs": [],
   "source": [
    "## Plot iterations\n",
    "\n",
    "# range_list_iter = np.linspace(1, 600, 15).astype('int32')\n",
    "range_list_iter = np.linspace(1, 700, 15).astype('int32')\n",
    "\n",
    "mlp_mal_activation = MLPClassifier(hidden_layer_sizes=(158,), activation='logistic', max_iter=500, random_state=0)\n",
    "\n",
    "df_4 = eval_hyperparam(mlp_mal_activation, mal_data, param_name='max_iter', range_list=range_list_iter,  scorer=scorer_mal)\n",
    "df_5 = eval_hyperparam(mlp_job, job_data, param_name='max_iter', range_list=range_list_iter,  scorer=scorer_job)\n",
    "print(\"done\")\n"
   ]
  },
  {
   "cell_type": "code",
   "execution_count": 50,
   "id": "6800194f-54a7-450a-894b-20359d465b25",
   "metadata": {},
   "outputs": [],
   "source": [
    "plot(df_4, 'Recall', 'iteration_count', 'Iteration Count', 1,show=False)\n",
    "plot(df_5, 'F1 Score', 'iteration_count', 'Iteration Count', 2,show=False)"
   ]
  },
  {
   "cell_type": "markdown",
   "id": "6fa7fef0-3d32-4b04-a986-f4c91757d67b",
   "metadata": {},
   "source": [
    "## Hyperparameter for Data-set-2  'sgd' init_learning_rage"
   ]
  },
  {
   "cell_type": "code",
   "execution_count": 54,
   "id": "b3035e15-890f-4938-9a8d-168cdac79f40",
   "metadata": {},
   "outputs": [],
   "source": [
    "mlp_target_sgd =  MLPClassifier(hidden_layer_sizes=(10,), max_iter=500, solver='sgd', learning_rate='invscaling',\n",
    "                        momentum=0.6, learning_rate_init=0.00005, alpha=0.0016444444444444447, random_state=0 )"
   ]
  },
  {
   "cell_type": "code",
   "execution_count": 55,
   "id": "2e2aa788-8d45-4cdd-997c-151b902a58ab",
   "metadata": {},
   "outputs": [],
   "source": [
    "range_list_sgd = np.linspace(0.00005, 0.005,20)"
   ]
  },
  {
   "cell_type": "code",
   "execution_count": 60,
   "id": "cfdd2035-7e63-4f2c-a961-753b2e3b2923",
   "metadata": {},
   "outputs": [
    {
     "name": "stdout",
     "output_type": "stream",
     "text": [
      "done\n"
     ]
    }
   ],
   "source": [
    "\n",
    "df_6 =  eval_hyperparam(mlp_target_sgd, job_data, param_name='learning_rate_init', range_list=range_list_sgd,  scorer=scorer_job)\n",
    "print(\"done\")"
   ]
  },
  {
   "cell_type": "code",
   "execution_count": 61,
   "id": "72d55e81-a1cf-4ef5-8725-56d5f381bd7a",
   "metadata": {},
   "outputs": [
    {
     "data": {
      "image/png": "[encoded data removed]",
      "text/plain": [
       "<Figure size 504x360 with 1 Axes>"
      ]
     },
     "metadata": {},
     "output_type": "display_data"
    }
   ],
   "source": [
    "plot(df_6, 'F1 Score', 'learning_rate_init', 'Initial Learning Rate for SGD solver', 2,show=True)"
   ]
  },
  {
   "cell_type": "code",
   "execution_count": null,
   "id": "b878b3ed-587a-4a0d-8eb4-f518742578ac",
   "metadata": {},
   "outputs": [],
   "source": []
  }
 ],
 "metadata": {
  "kernelspec": {
   "display_name": "Python 3 (ipykernel)",
   "language": "python",
   "name": "python3"
  },
  "language_info": {
   "codemirror_mode": {
    "name": "ipython",
    "version": 3
   },
   "file_extension": ".py",
   "mimetype": "text/x-python",
   "name": "python",
   "nbconvert_exporter": "python",
   "pygments_lexer": "ipython3",
   "version": "3.9.7"
  }
 },
 "nbformat": 4,
 "nbformat_minor": 5
}
