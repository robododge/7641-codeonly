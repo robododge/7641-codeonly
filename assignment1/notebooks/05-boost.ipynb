{
 "cells": [
  {
   "cell_type": "code",
   "execution_count": null,
   "id": "0b787e87-9aee-49c6-82d9-5ac2a95a55d0",
   "metadata": {},
   "outputs": [],
   "source": []
  },
  {
   "cell_type": "code",
   "execution_count": 1,
   "id": "cdecd3e9-6325-4e26-a96b-22ed42c1ad19",
   "metadata": {
    "tags": []
   },
   "outputs": [],
   "source": [
    "import numpy as np\n",
    "import pandas as pd\n",
    "import time\n",
    "import matplotlib.pylab as plt\n",
    "import seaborn as sns\n",
    "from sklearn.ensemble import AdaBoostClassifier\n",
    "from sklearn.model_selection import GridSearchCV, RandomizedSearchCV, train_test_split, StratifiedKFold, cross_validate\n",
    "from sklearn.metrics import precision_recall_fscore_support, make_scorer, recall_score, f1_score, confusion_matrix, precision_score, balanced_accuracy_score\n",
    "from sklearn.metrics import fbeta_score, classification_report\n",
    "\n",
    "\n",
    "from sklearn.preprocessing import LabelEncoder, MinMaxScaler\n",
    "\n",
    "from libs.print_cm import print_cm\n",
    "from libs.loader import load_malicious, load_jobchange\n",
    "         \n",
    "\n",
    "from sklearn.model_selection import learning_curve, validation_curve"
   ]
  },
  {
   "cell_type": "code",
   "execution_count": 2,
   "id": "de11f4b8-d39c-474b-89b5-ac2add51a03a",
   "metadata": {},
   "outputs": [],
   "source": [
    "#Some labels\n",
    "ds_labels = {1:'dataset-01: Malicious Hack', 2:'dataset-02: Job Change'}\n",
    "\n",
    "#Load the two datset\n",
    "job_data = load_jobchange()\n",
    "mal_data = load_malicious()\n"
   ]
  },
  {
   "cell_type": "code",
   "execution_count": 10,
   "id": "839f6899-793f-4f72-9a33-d4dfde95a521",
   "metadata": {},
   "outputs": [],
   "source": [
    "\n",
    "\n",
    "scorer_job = make_scorer(f1_score)\n",
    "scorer_mal = scorer = make_scorer(recall_score)\n",
    "\n",
    "adaboost_mal = AdaBoostClassifier(random_state=0)\n",
    "adaboost_job = AdaBoostClassifier(random_state=0)\n",
    "\n",
    "\n"
   ]
  },
  {
   "cell_type": "markdown",
   "id": "941d0c1e-4b88-4ea4-8433-44029d5b3e6a",
   "metadata": {},
   "source": [
    "##  Hyperparam stuff"
   ]
  },
  {
   "cell_type": "code",
   "execution_count": 8,
   "id": "8e6c4bb7-a33f-4659-9cd4-516e6672d412",
   "metadata": {},
   "outputs": [],
   "source": [
    "def eval_hyperparam(estimator, data, param_name='nothing', range_list=[], range_override=[], scorer=None):\n",
    "    strat_cv = StratifiedKFold(n_splits=5, random_state=0, shuffle=True)\n",
    "    X,y = data\n",
    "    \n",
    "    dt_train_scores,dt_test_scores = validation_curve(\n",
    "        estimator, X, y, param_name=param_name, param_range=range_list,\n",
    "        scoring=scorer, cv=strat_cv, n_jobs=-1)\n",
    "    \n",
    "    train_scores_mean = np.mean(dt_train_scores, axis=1)\n",
    "    test_scores_mean = np.mean(dt_test_scores, axis=1)\n",
    "    x_vals = range_override  if len(range_override) > 0 else range_list\n",
    "    \n",
    "    df_1 = pd.DataFrame({'x':x_vals,'train':train_scores_mean,'test':test_scores_mean} )\n",
    "#     print(df_1)\n",
    "    return df_1\n",
    "    "
   ]
  },
  {
   "cell_type": "code",
   "execution_count": 7,
   "id": "0950df25-f1b3-4ca9-9581-5f3ee5800b4e",
   "metadata": {},
   "outputs": [],
   "source": [
    "def plot(df_1, metric_name, x_label, title, ds_id, figsize = [7,5], show=False, log_x=False):\n",
    "    fig = plt.figure(figsize=figsize, facecolor='w')\n",
    "    axs = fig.add_subplot(111)\n",
    "    axs.plot(df_1['x'], df_1['train'], label='Train', linewidth=0.75)\n",
    "    axs.plot(df_1['x'], df_1['test'], label='Validation', linewidth=0.75)\n",
    "    axs.legend(); axs.set_ylabel(\"Metric: %s\"%metric_name); axs.set_xlabel(x_label)\n",
    "    title_out = \"AdaBoost Hyperparameter:\\n%s\\n%s\"%(title, ds_labels[ds_id])\n",
    "    axs.set_title(title_out)\n",
    "    if show:\n",
    "        plt.show()\n",
    "    if log_x:\n",
    "        axs.set_xscale('log')\n",
    "        \n",
    "    fig.savefig('plots/boost_%d_hyper_%s.png'%(ds_id,x_label),bbox_inches='tight')\n",
    "    plt.close(fig=fig)"
   ]
  },
  {
   "cell_type": "markdown",
   "id": "9ed8bb11-0b1e-474a-9bd9-91387055551c",
   "metadata": {},
   "source": [
    "## Hypers\n"
   ]
  },
  {
   "cell_type": "code",
   "execution_count": 16,
   "id": "f8343824-fac1-41cf-8983-2befea2f7eca",
   "metadata": {},
   "outputs": [
    {
     "data": {
      "text/plain": [
       "array([   1,  215,  429,  643,  857, 1072, 1286, 1500, 1714, 1928, 2143,\n",
       "       2357, 2571, 2785, 3000], dtype=int32)"
      ]
     },
     "execution_count": 16,
     "metadata": {},
     "output_type": "execute_result"
    }
   ],
   "source": [
    "\n",
    "\n",
    "range_list_mal  = np.linspace(1, 175, 25).astype('int32')\n",
    "range_list_job  = np.linspace(1, 3000, 15).astype('int32')\n",
    "range_list_job"
   ]
  },
  {
   "cell_type": "code",
   "execution_count": 17,
   "id": "e29ed042-0f35-4241-8e7e-6f8096a47265",
   "metadata": {},
   "outputs": [
    {
     "name": "stdout",
     "output_type": "stream",
     "text": [
      "done\n"
     ]
    }
   ],
   "source": [
    "df_1 = eval_hyperparam(adaboost_mal, mal_data, param_name='n_estimators', range_list=range_list_mal, scorer=scorer_mal)\n",
    "df_2 = eval_hyperparam(adaboost_job, job_data, param_name='n_estimators', range_list=range_list_job, scorer=scorer_job)\n",
    "print(\"done\")"
   ]
  },
  {
   "cell_type": "code",
   "execution_count": 19,
   "id": "73c1fa51-7682-4d9f-a6e2-c1cf49f1cac8",
   "metadata": {},
   "outputs": [],
   "source": [
    "plot(df_1, 'Recall', 'weak_learners', 'Weak Leaners', 1,show=False)\n",
    "plot(df_2, 'F1 Score', 'weak_learners', 'Weak Learners', 2, show=False)"
   ]
  },
  {
   "cell_type": "code",
   "execution_count": 18,
   "id": "459335a9-8603-4862-bf07-a3420b4d5ae1",
   "metadata": {},
   "outputs": [],
   "source": [
    "## Learning rage hyperparameter"
   ]
  },
  {
   "cell_type": "code",
   "execution_count": 20,
   "id": "0590d736-79c4-4722-bfca-fe8ee5842909",
   "metadata": {},
   "outputs": [],
   "source": [
    "range_learning_rate_mal = np.linspace(0.1, 4.5, 30)\n",
    "range_learning_rate_job  = np.linspace(0.01, 10, 20)"
   ]
  },
  {
   "cell_type": "code",
   "execution_count": 21,
   "id": "9407e136-6f86-4710-a76f-18e7e87bbc2c",
   "metadata": {},
   "outputs": [
    {
     "name": "stdout",
     "output_type": "stream",
     "text": [
      "done\n"
     ]
    }
   ],
   "source": [
    "df_3 = eval_hyperparam(adaboost_mal, mal_data, param_name='learning_rate', range_list=range_learning_rate_mal, scorer=scorer_mal)\n",
    "df_4 = eval_hyperparam(adaboost_job, job_data, param_name='learning_rate', range_list=range_learning_rate_job, scorer=scorer_job)\n",
    "print(\"done\")"
   ]
  },
  {
   "cell_type": "code",
   "execution_count": 22,
   "id": "cd958942-ba21-49b6-bb04-c9afce68afd6",
   "metadata": {},
   "outputs": [],
   "source": [
    "plot(df_3, 'Recall', 'learning_rate', 'Learning Rate', 1,show=False)\n",
    "plot(df_4, 'F1 Score', 'learning_rate', 'Learning Rate', 2, show=False)"
   ]
  },
  {
   "cell_type": "code",
   "execution_count": null,
   "id": "3e21cd4c-acd1-4784-bf40-cff93607f1ea",
   "metadata": {},
   "outputs": [],
   "source": []
  }
 ],
 "metadata": {
  "kernelspec": {
   "display_name": "Python 3 (ipykernel)",
   "language": "python",
   "name": "python3"
  },
  "language_info": {
   "codemirror_mode": {
    "name": "ipython",
    "version": 3
   },
   "file_extension": ".py",
   "mimetype": "text/x-python",
   "name": "python",
   "nbconvert_exporter": "python",
   "pygments_lexer": "ipython3",
   "version": "3.9.7"
  }
 },
 "nbformat": 4,
 "nbformat_minor": 5
}
