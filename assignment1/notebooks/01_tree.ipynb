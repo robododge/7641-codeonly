{
 "cells": [
  {
   "cell_type": "code",
   "execution_count": null,
   "id": "0b787e87-9aee-49c6-82d9-5ac2a95a55d0",
   "metadata": {},
   "outputs": [],
   "source": []
  },
  {
   "cell_type": "code",
   "execution_count": 2,
   "id": "cdecd3e9-6325-4e26-a96b-22ed42c1ad19",
   "metadata": {
    "tags": []
   },
   "outputs": [],
   "source": [
    "import numpy as np\n",
    "import pandas as pd\n",
    "import matplotlib.pylab as plt\n",
    "import seaborn as sns\n",
    "from sklearn.tree import DecisionTreeClassifier\n",
    "from sklearn.model_selection import GridSearchCV, RandomizedSearchCV, train_test_split, StratifiedKFold, cross_validate\n",
    "from sklearn.metrics import precision_recall_fscore_support, make_scorer, recall_score, f1_score, confusion_matrix, precision_score, balanced_accuracy_score\n",
    "from sklearn.metrics import fbeta_score, classification_report\n",
    "\n",
    "\n",
    "from sklearn.preprocessing import LabelEncoder, MinMaxScaler\n",
    "\n",
    "from libs.print_cm import print_cm\n",
    "from libs.loader import load_malicious, load_jobchange\n",
    "\n",
    "         \n",
    "\n",
    "from sklearn.model_selection import learning_curve, validation_curve"
   ]
  },
  {
   "cell_type": "code",
   "execution_count": 17,
   "id": "b18c3f1b-3ac9-40c2-b3b5-5766d628a57d",
   "metadata": {},
   "outputs": [],
   "source": [
    "#Some labels\n",
    "ds_labels = {1:'dataset-01: Malicious Hack', 2:'dataset-02: Job Change'}\n",
    "\n",
    "#Load the two datset\n",
    "job_data = load_jobchange()\n",
    "mal_data = load_malicious()\n"
   ]
  },
  {
   "cell_type": "code",
   "execution_count": 12,
   "id": "cb8c6400-0e21-406a-9812-ac4ad61c452f",
   "metadata": {},
   "outputs": [],
   "source": [
    "\n",
    "\n",
    "scorer_job = make_scorer(f1_score)\n",
    "scorer_mal = scorer = make_scorer(recall_score)\n",
    "\n",
    "dt_job = DecisionTreeClassifier(random_state=0)\n",
    "dt_mal = DecisionTreeClassifier(random_state=0)\n",
    "\n",
    "\n"
   ]
  },
  {
   "cell_type": "markdown",
   "id": "9ed8bb11-0b1e-474a-9bd9-91387055551c",
   "metadata": {},
   "source": [
    "## Hyperparams"
   ]
  },
  {
   "cell_type": "code",
   "execution_count": 15,
   "id": "b44685d6-32ba-4ec1-aeaa-6cdf9b6fbb87",
   "metadata": {},
   "outputs": [],
   "source": [
    "def eval_hyperparam(estimator, data, param_name='nothing', range_list=[], scorer=None):\n",
    "    strat_cv = StratifiedKFold(n_splits=5, random_state=0, shuffle=True)\n",
    "    X,y = data\n",
    "    \n",
    "    dt_train_scores,dt_test_scores = validation_curve(\n",
    "        estimator, X, y, param_name=param_name, param_range=range_list,\n",
    "        scoring=scorer, cv=strat_cv, n_jobs=-1)\n",
    "    \n",
    "    train_scores_mean = np.mean(dt_train_scores, axis=1)\n",
    "    test_scores_mean = np.mean(dt_test_scores, axis=1)\n",
    "    df_1 = pd.DataFrame({'x':range_list,'train':train_scores_mean,'test':test_scores_mean} )\n",
    "#     print(df_1)\n",
    "    return df_1\n",
    "    "
   ]
  },
  {
   "cell_type": "code",
   "execution_count": 63,
   "id": "de7870b2-216a-4e17-bf2a-1ff930b8cb9b",
   "metadata": {},
   "outputs": [],
   "source": [
    "def plot(df_1, metric_name, x_label, title, ds_id, figsize = [7,5], show=False):\n",
    "    fig = plt.figure(figsize=figsize, facecolor='w')\n",
    "    axs = fig.add_subplot(111)\n",
    "    axs.plot(df_1['x'], df_1['train'], label='Train', linewidth=0.75)\n",
    "    axs.plot(df_1['x'], df_1['test'], label='Validation', linewidth=0.75)\n",
    "    axs.legend(); axs.set_ylabel(\"Metric: %s\"%metric_name); axs.set_xlabel(x_label)\n",
    "    title_out = \"Decision Tree Hyperparameter:\\n%s\\n%s\"%(title, ds_labels[ds_id])\n",
    "    axs.set_title(title_out)\n",
    "    if show:\n",
    "        plt.show()\n",
    "    fig.savefig('plots/tree_%d_hyper_%s.png'%(ds_id,x_label),bbox_inches='tight')\n",
    "    plt.close(fig=fig)"
   ]
  },
  {
   "cell_type": "code",
   "execution_count": 67,
   "id": "c19fcd99-70a3-4308-9b70-68d1307735e4",
   "metadata": {},
   "outputs": [],
   "source": [
    "df_1 = eval_hyperparam(dt_job, job_data, param_name='max_depth', range_list=np.linspace(1,25,25), scorer=scorer_job)\n",
    "df_2 = eval_hyperparam(dt_job, job_data, param_name='min_samples_leaf', range_list=np.linspace(1,1000,30).astype('int32'), scorer=scorer_job)\n"
   ]
  },
  {
   "cell_type": "code",
   "execution_count": 68,
   "id": "032d4bae-f27a-43bf-9661-ed549f7c14b3",
   "metadata": {},
   "outputs": [],
   "source": [
    "plot(df_1, 'F1 Score', 'max_depth', 'Max Depth', 2)\n",
    "plot(df_2, 'F1 Score', 'min_samples_leaf', 'Min Samples Leaf', 2)\n"
   ]
  },
  {
   "cell_type": "code",
   "execution_count": 90,
   "id": "4e153968-9174-42cf-8523-e263b620edc1",
   "metadata": {},
   "outputs": [],
   "source": [
    "df_3 = eval_hyperparam(dt_mal, mal_data, param_name='min_samples_leaf', range_list=np.linspace(1,1000,30).astype('int32'), scorer=scorer_mal)"
   ]
  },
  {
   "cell_type": "code",
   "execution_count": 91,
   "id": "6d1caf0b-58b4-410f-b68d-1cd39cc4b989",
   "metadata": {},
   "outputs": [],
   "source": [
    "plot(df_3, 'Recall', 'min_samples_leaf', 'Min Samples Leaf', 1)"
   ]
  },
  {
   "cell_type": "code",
   "execution_count": 69,
   "id": "b031cb34-ea54-4630-8e91-0a7ba500b913",
   "metadata": {},
   "outputs": [],
   "source": [
    "#ccp_alpha for Dataset 01 malicious hacks\n",
    "X_mal_train, y_mal_train = mal_data\n",
    "path = dt_mal.cost_complexity_pruning_path(X_mal_train, y_mal_train)\n",
    "ccp_alphas, impurities = path.ccp_alphas, path.impurities"
   ]
  },
  {
   "cell_type": "code",
   "execution_count": 70,
   "id": "dd92dcfb-1b3d-415b-a744-2aafd8bc4d1c",
   "metadata": {},
   "outputs": [
    {
     "data": {
      "text/plain": [
       "Text(0.5, 1.0, 'Total Impurity vs effective alpha for training set')"
      ]
     },
     "execution_count": 70,
     "metadata": {},
     "output_type": "execute_result"
    },
    {
     "data": {
      "image/png": "[encoded data removed]",
      "text/plain": [
       "<Figure size 432x288 with 1 Axes>"
      ]
     },
     "metadata": {
      "needs_background": "light"
     },
     "output_type": "display_data"
    }
   ],
   "source": [
    "#quick plot of impurities\n",
    "axs = plt.gca()\n",
    "axs.plot(ccp_alphas[:-1], impurities[:-1], marker='o', drawstyle=\"steps-post\")\n",
    "axs.set_xlabel(\"effective alpha\")\n",
    "axs.set_ylabel(\"total impurity of leaves\")\n",
    "axs.set_title(\"Total Impurity vs effective alpha for training set\")"
   ]
  },
  {
   "cell_type": "code",
   "execution_count": 71,
   "id": "344629ac-4672-4541-a637-b399b3a77bfc",
   "metadata": {},
   "outputs": [],
   "source": [
    "ccp_alphas_range = ccp_alphas[:-1]"
   ]
  },
  {
   "cell_type": "code",
   "execution_count": 76,
   "id": "98f6c061-6fcf-4824-a1c7-bef57d149572",
   "metadata": {
    "tags": []
   },
   "outputs": [],
   "source": [
    "def node_counts(ccp_alphas):\n",
    "    X_train, X_test, y_train, y_test = train_test_split( X, y, test_size=0.2, stratify=y,random_state=0)\n",
    "    clfs, x, yn, yd= [],[],[],[]\n",
    "    plot_data = np.zeros((len(ccp_alphas),2))\n",
    "    for i in range(len(ccp_alphas)):\n",
    "        clf = DecisionTreeClassifier(random_state=0, ccp_alpha=ccp_alphas[i])\n",
    "        clf.fit(X_train, y_train)\n",
    "        clfs.append(clf)\n",
    "        x.append( ccp_alphas[i] )\n",
    "        yn.append(clf.tree_.node_count)\n",
    "        yd.append(clf.tree_.max_depth)\n",
    "    return yn, yd\n"
   ]
  },
  {
   "cell_type": "code",
   "execution_count": 87,
   "id": "7e695aef-b78f-40c4-980d-d5c862bc2f0d",
   "metadata": {},
   "outputs": [],
   "source": [
    "def v_curve(estimator, param_name, range_list, title, show=False):\n",
    "    strat_cv = StratifiedKFold(n_splits=5, random_state=0, shuffle=True)\n",
    "    metric_name ='ccp_alpha'\n",
    "\n",
    "    mlp_train_scores, mlp_test_scores = validation_curve(\n",
    "        estimator, X, y, param_name=param_name, param_range=range_list,\n",
    "        scoring=scorer, cv=strat_cv, n_jobs=-1)\n",
    "    \n",
    "    train_scores_mean = np.mean(mlp_train_scores, axis=1)\n",
    "    test_scores_mean = np.mean(mlp_test_scores, axis=1)\n",
    "#     print (len(range_list),train_scores_mean.shape,test_scores_mean.shape)\n",
    "    df_1 = pd.DataFrame({'x':range_list,'train':train_scores_mean,'test':test_scores_mean} )\n",
    "#     print(df_1)\n",
    "    \n",
    "    yn, yd = node_counts(range_list)\n",
    "    \n",
    "    \n",
    "    fig = plt.figure(figsize=[7,5],facecolor='w')\n",
    "    axs = fig.add_subplot(111)\n",
    "    \n",
    "    twin1 = axs.twinx()\n",
    "    p1, = axs.plot(df_1['x'], df_1['train'], label='Train', linewidth=0.75, marker='.')\n",
    "    p2, = axs.plot(df_1['x'], df_1['test'], label='Validation', linewidth=0.75, marker='.')\n",
    "    c_pur = 'Purple'\n",
    "    p3 = twin1.scatter(df_1['x'], yd, label='Tree depth', c=c_pur, marker='.')\n",
    "    max_id_series = df_1.idxmax(axis=0)\n",
    "#     print(max_id_series)\n",
    "    max_id = max_id_series['test']\n",
    "#     print(type(max_id_series))\n",
    "#     print(f\"max_id {max_id}\")\n",
    "    best_alpha = df_1.at[max_id, 'x']; alpha_label = 'CCP Alpha %0.5f'%best_alpha\n",
    "    p4 = axs.axvline(best_alpha, color='g', linewidth=0.85, label=alpha_label)\n",
    "    \n",
    "    \n",
    "    twin1.set_ylabel('Tree Depth')\n",
    "    twin1.tick_params(axis='y', colors=c_pur)\n",
    "    twin1.yaxis.label.set_color(c_pur)\n",
    "    axs.legend(handles=[p1,p2,p3,p4]); axs.set_ylabel(\"Metric: Recall\"); axs.set_xlabel(metric_name)\n",
    "    axs.set_title(title)\n",
    "    \n",
    "    if show:\n",
    "        plt.show()\n",
    "    fig.savefig('plots/tree_%d_hyper_%s.png'%(1,metric_name),bbox_inches='tight')\n",
    "    plt.close(fig=fig)"
   ]
  },
  {
   "cell_type": "code",
   "execution_count": 68,
   "id": "4caa2af9-91ea-48f2-8cb0-341a43dd61ef",
   "metadata": {},
   "outputs": [],
   "source": [
    "# depth_stuff = node_counts(ccp_alphas[:15])"
   ]
  },
  {
   "cell_type": "code",
   "execution_count": 88,
   "id": "cea014d3-263d-4ded-ae5b-e486632293c0",
   "metadata": {},
   "outputs": [],
   "source": [
    "ccp_plot_title = \"Decision Tree Hyperparameter:\\nCCP Alpha (with tree depth)\\n%s\" % ds_labels[1]\n",
    "v_curve(dt_mal, 'ccp_alpha', ccp_alphas_range[:15], ccp_plot_title)"
   ]
  },
  {
   "cell_type": "code",
   "execution_count": null,
   "id": "c4d236d8-1990-4ad1-83dd-21f11789cb1a",
   "metadata": {},
   "outputs": [],
   "source": []
  }
 ],
 "metadata": {
  "kernelspec": {
   "display_name": "Python 3 (ipykernel)",
   "language": "python",
   "name": "python3"
  },
  "language_info": {
   "codemirror_mode": {
    "name": "ipython",
    "version": 3
   },
   "file_extension": ".py",
   "mimetype": "text/x-python",
   "name": "python",
   "nbconvert_exporter": "python",
   "pygments_lexer": "ipython3",
   "version": "3.9.7"
  }
 },
 "nbformat": 4,
 "nbformat_minor": 5
}
