{
 "cells": [
  {
   "cell_type": "code",
   "execution_count": null,
   "id": "0b787e87-9aee-49c6-82d9-5ac2a95a55d0",
   "metadata": {},
   "outputs": [],
   "source": []
  },
  {
   "cell_type": "code",
   "execution_count": 2,
   "id": "cdecd3e9-6325-4e26-a96b-22ed42c1ad19",
   "metadata": {
    "tags": []
   },
   "outputs": [],
   "source": [
    "import numpy as np\n",
    "import pandas as pd\n",
    "import matplotlib.pylab as plt\n",
    "import seaborn as sns\n",
    "from sklearn.svm import SVC\n",
    "from sklearn.model_selection import GridSearchCV, RandomizedSearchCV, train_test_split, StratifiedKFold, cross_validate\n",
    "from sklearn.metrics import precision_recall_fscore_support, make_scorer, recall_score, f1_score, confusion_matrix, precision_score, balanced_accuracy_score\n",
    "from sklearn.metrics import fbeta_score, classification_report\n",
    "\n",
    "\n",
    "from sklearn.preprocessing import LabelEncoder, MinMaxScaler\n",
    "\n",
    "from libs.print_cm import print_cm\n",
    "from libs.loader import load_jobchange\n",
    "\n",
    "         \n",
    "\n",
    "from sklearn.model_selection import learning_curve, validation_curve"
   ]
  },
  {
   "cell_type": "code",
   "execution_count": 5,
   "id": "b18c3f1b-3ac9-40c2-b3b5-5766d628a57d",
   "metadata": {},
   "outputs": [],
   "source": [
    "#Using Dataset for Data Scientist Job Change binary classification: \n",
    "# https://www.kaggle.com/arashnic/hr-analytics-job-change-of-data-scientists?select=aug_train.csv\n",
    "# df = pd.read_csv(\"data/job_change_data_scientist.csv\")\n",
    "# df_enc_0 = df.apply(LabelEncoder().fit_transform)\n",
    "# df_enc = df_enc_0.drop(columns=[\"enrollee_id\",\"target\"])\n",
    "# minMaxNorm = MinMaxScaler()\n",
    "# df_norm = minMaxNorm.fit_transform(df_enc)\n",
    "\n",
    "# # X = df_norm\n",
    "# # y = df_enc_0[\"target\"]\n",
    "\n",
    "# _y = df['target']\n",
    "# y = _y.values.astype('int32')\n",
    "# X = df_enc_0\n",
    "\n",
    "X, y = load_jobchange()\n",
    "\n"
   ]
  },
  {
   "cell_type": "code",
   "execution_count": 8,
   "id": "cb8c6400-0e21-406a-9812-ac4ad61c452f",
   "metadata": {},
   "outputs": [
    {
     "name": "stderr",
     "output_type": "stream",
     "text": [
      "/Users/sdodge/work/omscs/cs7641/cs7641_assignments/env3.9.7/lib/python3.9/site-packages/sklearn/svm/_base.py:255: ConvergenceWarning: Solver terminated early (max_iter=100000).  Consider pre-processing your data with StandardScaler or MinMaxScaler.\n",
      "  warnings.warn('Solver terminated early (max_iter=%i).'\n",
      "/Users/sdodge/work/omscs/cs7641/cs7641_assignments/env3.9.7/lib/python3.9/site-packages/sklearn/svm/_base.py:255: ConvergenceWarning: Solver terminated early (max_iter=100000).  Consider pre-processing your data with StandardScaler or MinMaxScaler.\n",
      "  warnings.warn('Solver terminated early (max_iter=%i).'\n",
      "/Users/sdodge/work/omscs/cs7641/cs7641_assignments/env3.9.7/lib/python3.9/site-packages/sklearn/svm/_base.py:255: ConvergenceWarning: Solver terminated early (max_iter=100000).  Consider pre-processing your data with StandardScaler or MinMaxScaler.\n",
      "  warnings.warn('Solver terminated early (max_iter=%i).'\n"
     ]
    },
    {
     "data": {
      "text/plain": [
       "{'fit_time': array([4.18782115, 4.08377504, 4.08063889]),\n",
       " 'score_time': array([0.266505  , 0.23819089, 0.24869609]),\n",
       " 'test_score': array([0.36226794, 0.3126988 , 0.47567568])}"
      ]
     },
     "execution_count": 8,
     "metadata": {},
     "output_type": "execute_result"
    }
   ],
   "source": [
    "# svc = SVC()\n",
    "svc = SVC(kernel='linear',C=10.0, class_weight='balanced', max_iter=100000, random_state=0)\n",
    "\n",
    "# scorer = make_scorer(precision_score, pos_label=1 )\n",
    "# scorer = make_scorer(recall_score, pos_label=0)\n",
    "# scorer = make_scorer(recall_score,average='weighted')\n",
    "# scorer = make_scorer(f1_score, average='weighted' )\n",
    "scorer = make_scorer(f1_score)\n",
    "\n",
    "\n",
    "cv_target = cross_validate(svc, X, y, cv=3, scoring=scorer)\n",
    "cv_target"
   ]
  },
  {
   "cell_type": "code",
   "execution_count": 9,
   "id": "243938a4-8368-41b1-a1b7-7dc876e09793",
   "metadata": {},
   "outputs": [
    {
     "name": "stderr",
     "output_type": "stream",
     "text": [
      "/Users/sdodge/work/omscs/cs7641/cs7641_assignments/env3.9.7/lib/python3.9/site-packages/sklearn/svm/_base.py:255: ConvergenceWarning: Solver terminated early (max_iter=100000).  Consider pre-processing your data with StandardScaler or MinMaxScaler.\n",
      "  warnings.warn('Solver terminated early (max_iter=%i).'\n"
     ]
    }
   ],
   "source": [
    "X_train, X_test, y_train, y_test = train_test_split( X, y, test_size=0.2, stratify=y,random_state=0)\n",
    "svc.fit(X_train,y_train)\n",
    "pass"
   ]
  },
  {
   "cell_type": "code",
   "execution_count": 11,
   "id": "c4f04ea8-6d3e-4ad3-a785-febd7c41f4a7",
   "metadata": {},
   "outputs": [
    {
     "name": "stdout",
     "output_type": "stream",
     "text": [
      "****** SVM plain - Train ******\n",
      "Confusion matrix\n",
      "              0     1 \n",
      "        0  4130  4498 \n",
      "        1  1184  1682 \n",
      "Recall - label 0: 0.4787\n",
      "Recall - label 1: 0.5869\n",
      "Precsion - label 0: 0.7772\n",
      "Precsion - label 1: 0.2722\n",
      "F1 Score macro: 0.3838\n",
      "F1 Score - label 0 : 0.5925\n",
      "F1 Score - label 1 : 0.3719\n",
      "F1 Score - weighted avg : 0.5375\n",
      "F1 Beta - b=2 weighted avg : 0.5081\n",
      "              precision    recall  f1-score   support\n",
      "\n",
      "           1       0.27      0.59      0.37      2866\n",
      "           0       0.78      0.48      0.59      8628\n",
      "\n",
      "    accuracy                           0.51     11494\n",
      "   macro avg       0.52      0.53      0.48     11494\n",
      "weighted avg       0.65      0.51      0.54     11494\n",
      "\n",
      "****** SVM plain - Validation ******\n",
      "Confusion matrix\n",
      "              0     1 \n",
      "        0  1080  1077 \n",
      "        1   279   438 \n",
      "Recall - label 0: 0.5007\n",
      "Recall - label 1: 0.6109\n",
      "Precsion - label 0: 0.7947\n",
      "Precsion - label 1: 0.2891\n",
      "F1 Score macro: 0.4046\n",
      "F1 Score - label 0 : 0.6143\n",
      "F1 Score - label 1 : 0.3925\n",
      "F1 Score - weighted avg : 0.5590\n",
      "F1 Beta - b=2 weighted avg : 0.5305\n",
      "              precision    recall  f1-score   support\n",
      "\n",
      "           1       0.29      0.61      0.39       717\n",
      "           0       0.79      0.50      0.61      2157\n",
      "\n",
      "    accuracy                           0.53      2874\n",
      "   macro avg       0.54      0.56      0.50      2874\n",
      "weighted avg       0.67      0.53      0.56      2874\n",
      "\n"
     ]
    }
   ],
   "source": [
    "def stats_pac( label, estimator, X_data, y_data ):\n",
    "    predicted = estimator.predict(X_data)\n",
    "    print ('****** %s ******' % label)\n",
    "    cm = confusion_matrix(y_data, predicted)\n",
    "    print ('Confusion matrix')\n",
    "    print_cm(cm, labels=['0','1'])\n",
    "    \n",
    "    print ('Recall - label 0: %0.4f'% recall_score(y_data, predicted, pos_label=0))\n",
    "    print ('Recall - label 1: %0.4f'% recall_score(y_data, predicted))\n",
    "\n",
    "    print ('Precsion - label 0: %0.4f'% precision_score(y_data, predicted, pos_label=0))\n",
    "    print ('Precsion - label 1: %0.4f'% precision_score(y_data, predicted))\n",
    "    \n",
    "    sample_wt = [ 3 if i == 1 else 1 for i in predicted]\n",
    "    print ('F1 Score macro: %0.4f'% f1_score(y_data, predicted, average='macro', sample_weight=sample_wt ))\n",
    "    print ('F1 Score - label 0 : %0.4f'% f1_score(y_data, predicted, pos_label=0 ))\n",
    "    print ('F1 Score - label 1 : %0.4f'% f1_score(y_data, predicted, pos_label=1 ))\n",
    "    print ('F1 Score - weighted avg : %0.4f'% f1_score(y_data, predicted, average='weighted' ))\n",
    "    print ('F1 Beta - b=2 weighted avg : %0.4f'% fbeta_score(y_data,predicted, average='weighted', beta=2))\n",
    "    \n",
    "    print (classification_report(y_data, predicted, labels=[1,0]))\n",
    "\n",
    "\n",
    "stats_pac('SVM plain - Train', svc, X_train, y_train)\n",
    "stats_pac('SVM plain - Validation', svc, X_test, y_test)"
   ]
  },
  {
   "cell_type": "markdown",
   "id": "9ed8bb11-0b1e-474a-9bd9-91387055551c",
   "metadata": {},
   "source": [
    "## Hyper param tune"
   ]
  },
  {
   "cell_type": "code",
   "execution_count": 16,
   "id": "cd958942-ba21-49b6-bb04-c9afce68afd6",
   "metadata": {},
   "outputs": [],
   "source": [
    "svc2 = SVC(kernel='linear',C=10.0, class_weight='balanced', max_iter=200000, random_state=0)\n",
    "range_list = ['linear', 'rbf', 'sigmoid','poly']"
   ]
  },
  {
   "cell_type": "code",
   "execution_count": 17,
   "id": "3e21cd4c-acd1-4784-bf40-cff93607f1ea",
   "metadata": {},
   "outputs": [
    {
     "name": "stderr",
     "output_type": "stream",
     "text": [
      "/Users/sdodge/work/omscs/cs7641/cs7641_assignments/env3.9.7/lib/python3.9/site-packages/sklearn/svm/_base.py:255: ConvergenceWarning: Solver terminated early (max_iter=200000).  Consider pre-processing your data with StandardScaler or MinMaxScaler.\n",
      "  warnings.warn('Solver terminated early (max_iter=%i).'\n",
      "/Users/sdodge/work/omscs/cs7641/cs7641_assignments/env3.9.7/lib/python3.9/site-packages/sklearn/svm/_base.py:255: ConvergenceWarning: Solver terminated early (max_iter=200000).  Consider pre-processing your data with StandardScaler or MinMaxScaler.\n",
      "  warnings.warn('Solver terminated early (max_iter=%i).'\n",
      "/Users/sdodge/work/omscs/cs7641/cs7641_assignments/env3.9.7/lib/python3.9/site-packages/sklearn/svm/_base.py:255: ConvergenceWarning: Solver terminated early (max_iter=200000).  Consider pre-processing your data with StandardScaler or MinMaxScaler.\n",
      "  warnings.warn('Solver terminated early (max_iter=%i).'\n",
      "/Users/sdodge/work/omscs/cs7641/cs7641_assignments/env3.9.7/lib/python3.9/site-packages/sklearn/svm/_base.py:255: ConvergenceWarning: Solver terminated early (max_iter=200000).  Consider pre-processing your data with StandardScaler or MinMaxScaler.\n",
      "  warnings.warn('Solver terminated early (max_iter=%i).'\n",
      "/Users/sdodge/work/omscs/cs7641/cs7641_assignments/env3.9.7/lib/python3.9/site-packages/sklearn/svm/_base.py:255: ConvergenceWarning: Solver terminated early (max_iter=200000).  Consider pre-processing your data with StandardScaler or MinMaxScaler.\n",
      "  warnings.warn('Solver terminated early (max_iter=%i).'\n",
      "/Users/sdodge/work/omscs/cs7641/cs7641_assignments/env3.9.7/lib/python3.9/site-packages/sklearn/svm/_base.py:255: ConvergenceWarning: Solver terminated early (max_iter=200000).  Consider pre-processing your data with StandardScaler or MinMaxScaler.\n",
      "  warnings.warn('Solver terminated early (max_iter=%i).'\n"
     ]
    }
   ],
   "source": [
    "strat_cv = StratifiedKFold(3, shuffle=True,  random_state=0)\n",
    "svc_train_scores, svc_test_scores = validation_curve(\n",
    "    svc2, X, y, param_name=\"kernel\", param_range=range_list,\n",
    "    scoring=scorer, cv=strat_cv, n_jobs=-1)"
   ]
  },
  {
   "cell_type": "code",
   "execution_count": 18,
   "id": "a94d7bd2-c62d-435e-9b46-ad7e05cecadf",
   "metadata": {},
   "outputs": [
    {
     "data": {
      "text/html": [
       "<div>\n",
       "<style scoped>\n",
       "    .dataframe tbody tr th:only-of-type {\n",
       "        vertical-align: middle;\n",
       "    }\n",
       "\n",
       "    .dataframe tbody tr th {\n",
       "        vertical-align: top;\n",
       "    }\n",
       "\n",
       "    .dataframe thead th {\n",
       "        text-align: right;\n",
       "    }\n",
       "</style>\n",
       "<table border=\"1\" class=\"dataframe\">\n",
       "  <thead>\n",
       "    <tr style=\"text-align: right;\">\n",
       "      <th></th>\n",
       "      <th>x</th>\n",
       "      <th>train</th>\n",
       "      <th>test</th>\n",
       "    </tr>\n",
       "  </thead>\n",
       "  <tbody>\n",
       "    <tr>\n",
       "      <th>0</th>\n",
       "      <td>linear</td>\n",
       "      <td>0.380563</td>\n",
       "      <td>0.391862</td>\n",
       "    </tr>\n",
       "    <tr>\n",
       "      <th>1</th>\n",
       "      <td>rbf</td>\n",
       "      <td>0.576904</td>\n",
       "      <td>0.571851</td>\n",
       "    </tr>\n",
       "    <tr>\n",
       "      <th>2</th>\n",
       "      <td>sigmoid</td>\n",
       "      <td>0.314295</td>\n",
       "      <td>0.314815</td>\n",
       "    </tr>\n",
       "    <tr>\n",
       "      <th>3</th>\n",
       "      <td>poly</td>\n",
       "      <td>0.544454</td>\n",
       "      <td>0.542790</td>\n",
       "    </tr>\n",
       "  </tbody>\n",
       "</table>\n",
       "</div>"
      ],
      "text/plain": [
       "         x     train      test\n",
       "0   linear  0.380563  0.391862\n",
       "1      rbf  0.576904  0.571851\n",
       "2  sigmoid  0.314295  0.314815\n",
       "3     poly  0.544454  0.542790"
      ]
     },
     "execution_count": 18,
     "metadata": {},
     "output_type": "execute_result"
    }
   ],
   "source": [
    "train_scores_mean = np.mean(svc_train_scores, axis=1)\n",
    "test_scores_mean = np.mean(svc_test_scores, axis=1)\n",
    "# print (range_list.shape,train_scores_mean.shape,test_scores_mean.shape)\n",
    "df_1 = pd.DataFrame({'x':range_list,'train':train_scores_mean,'test':test_scores_mean} )\n",
    "df_1"
   ]
  },
  {
   "cell_type": "code",
   "execution_count": 35,
   "id": "aa656d02-dc99-45a5-8af3-e6af348027e1",
   "metadata": {},
   "outputs": [
    {
     "data": {
      "text/plain": [
       "array([1.00000000e-04, 5.99484250e-04, 3.59381366e-03, 2.15443469e-02,\n",
       "       1.29154967e-01, 7.74263683e-01, 4.64158883e+00, 2.78255940e+01,\n",
       "       1.66810054e+02, 1.00000000e+03])"
      ]
     },
     "execution_count": 35,
     "metadata": {},
     "output_type": "execute_result"
    }
   ],
   "source": [
    "svc4 = SVC(kernel='rbf', class_weight='balanced', max_iter=100000, random_state=0)\n",
    "range_list4  = np.logspace(-4, 3, 10)\n",
    "range_list4\n"
   ]
  },
  {
   "cell_type": "code",
   "execution_count": 36,
   "id": "6f213c77-a827-4a90-b611-de50fc03ba69",
   "metadata": {},
   "outputs": [],
   "source": [
    "svc_train_scores4, svc_test_scores4 = validation_curve(\n",
    "    svc4, X, y, param_name=\"gamma\", param_range=range_list4,\n",
    "    scoring=scorer, cv=strat_cv, n_jobs=-1)\n",
    "print(\"done\")"
   ]
  },
  {
   "cell_type": "code",
   "execution_count": 39,
   "id": "f4c9cd4d-5739-41d2-9d98-9b72ac413c14",
   "metadata": {},
   "outputs": [
    {
     "data": {
      "text/html": [
       "<div>\n",
       "<style scoped>\n",
       "    .dataframe tbody tr th:only-of-type {\n",
       "        vertical-align: middle;\n",
       "    }\n",
       "\n",
       "    .dataframe tbody tr th {\n",
       "        vertical-align: top;\n",
       "    }\n",
       "\n",
       "    .dataframe thead th {\n",
       "        text-align: right;\n",
       "    }\n",
       "</style>\n",
       "<table border=\"1\" class=\"dataframe\">\n",
       "  <thead>\n",
       "    <tr style=\"text-align: right;\">\n",
       "      <th></th>\n",
       "      <th>x</th>\n",
       "      <th>train</th>\n",
       "      <th>test</th>\n",
       "    </tr>\n",
       "  </thead>\n",
       "  <tbody>\n",
       "    <tr>\n",
       "      <th>0</th>\n",
       "      <td>0.000100</td>\n",
       "      <td>0.537483</td>\n",
       "      <td>0.530359</td>\n",
       "    </tr>\n",
       "    <tr>\n",
       "      <th>1</th>\n",
       "      <td>0.000599</td>\n",
       "      <td>0.577203</td>\n",
       "      <td>0.561264</td>\n",
       "    </tr>\n",
       "    <tr>\n",
       "      <th>2</th>\n",
       "      <td>0.003594</td>\n",
       "      <td>0.636441</td>\n",
       "      <td>0.563872</td>\n",
       "    </tr>\n",
       "    <tr>\n",
       "      <th>3</th>\n",
       "      <td>0.021544</td>\n",
       "      <td>0.795883</td>\n",
       "      <td>0.532136</td>\n",
       "    </tr>\n",
       "    <tr>\n",
       "      <th>4</th>\n",
       "      <td>0.129155</td>\n",
       "      <td>0.968667</td>\n",
       "      <td>0.307763</td>\n",
       "    </tr>\n",
       "    <tr>\n",
       "      <th>5</th>\n",
       "      <td>0.774264</td>\n",
       "      <td>0.998676</td>\n",
       "      <td>0.025111</td>\n",
       "    </tr>\n",
       "    <tr>\n",
       "      <th>6</th>\n",
       "      <td>4.641589</td>\n",
       "      <td>0.998746</td>\n",
       "      <td>0.007765</td>\n",
       "    </tr>\n",
       "    <tr>\n",
       "      <th>7</th>\n",
       "      <td>27.825594</td>\n",
       "      <td>0.998746</td>\n",
       "      <td>0.007765</td>\n",
       "    </tr>\n",
       "    <tr>\n",
       "      <th>8</th>\n",
       "      <td>166.810054</td>\n",
       "      <td>0.998746</td>\n",
       "      <td>0.007765</td>\n",
       "    </tr>\n",
       "    <tr>\n",
       "      <th>9</th>\n",
       "      <td>1000.000000</td>\n",
       "      <td>0.998746</td>\n",
       "      <td>0.007765</td>\n",
       "    </tr>\n",
       "  </tbody>\n",
       "</table>\n",
       "</div>"
      ],
      "text/plain": [
       "             x     train      test\n",
       "0     0.000100  0.537483  0.530359\n",
       "1     0.000599  0.577203  0.561264\n",
       "2     0.003594  0.636441  0.563872\n",
       "3     0.021544  0.795883  0.532136\n",
       "4     0.129155  0.968667  0.307763\n",
       "5     0.774264  0.998676  0.025111\n",
       "6     4.641589  0.998746  0.007765\n",
       "7    27.825594  0.998746  0.007765\n",
       "8   166.810054  0.998746  0.007765\n",
       "9  1000.000000  0.998746  0.007765"
      ]
     },
     "execution_count": 39,
     "metadata": {},
     "output_type": "execute_result"
    }
   ],
   "source": [
    "train_scores_mean4 = np.mean(svc_train_scores4, axis=1)\n",
    "test_scores_mean4 = np.mean(svc_test_scores4, axis=1)\n",
    "# print (range_list.shape,train_scores_mean.shape,test_scores_mean.shape)\n",
    "df_4 = pd.DataFrame({'x':range_list4,'train':train_scores_mean4,'test':test_scores_mean4} )\n",
    "df_4"
   ]
  },
  {
   "cell_type": "code",
   "execution_count": 40,
   "id": "63e8a60f-39eb-4181-8351-e5cbbf44ec89",
   "metadata": {},
   "outputs": [
    {
     "data": {
      "text/plain": [
       "Text(0.5, 1.0, 'SVM Validation curve:\\nRbf Kerenl Gamma')"
      ]
     },
     "execution_count": 40,
     "metadata": {},
     "output_type": "execute_result"
    },
    {
     "data": {
      "image/png": "[encoded data removed]",
      "text/plain": [
       "<Figure size 432x288 with 1 Axes>"
      ]
     },
     "metadata": {
      "needs_background": "light"
     },
     "output_type": "display_data"
    }
   ],
   "source": [
    "axs = plt.gca()\n",
    "axs.plot(df_4['x'], df_4['train'], label='Train', linewidth=0.75)\n",
    "axs.plot(df_4['x'], df_4['test'], label='Validation', linewidth=0.75)\n",
    "axs.legend(); axs.set_ylabel(\"Metric: F1 Score\"); axs.set_xlabel(\"Gamma\")\n",
    "axs.set_xscale('log')\n",
    "axs.set_title('SVM Validation curve:\\nRbf Kerenl Gamma')"
   ]
  },
  {
   "cell_type": "code",
   "execution_count": 48,
   "id": "c07bee32-0179-4b51-8b5e-be5c3f434b1a",
   "metadata": {},
   "outputs": [
    {
     "data": {
      "text/plain": [
       "array([     10,      22,      51,     117,     268,     610,    1389,\n",
       "          3162,    7196,   16378,   37275,   84834,  193069,  439397,\n",
       "       1000000], dtype=int32)"
      ]
     },
     "execution_count": 48,
     "metadata": {},
     "output_type": "execute_result"
    }
   ],
   "source": [
    "#Plot iterations\n",
    "svc5 = SVC(kernel='rbf', class_weight='balanced', gamma=0.0036, random_state=0)\n",
    "range_list5 = np.logspace(1,6,15).astype('int32')\n",
    "range_list5"
   ]
  },
  {
   "cell_type": "code",
   "execution_count": 49,
   "id": "10d2ebc0-76ad-4d9d-a46d-01b5715f0be8",
   "metadata": {},
   "outputs": [
    {
     "name": "stderr",
     "output_type": "stream",
     "text": [
      "/Users/sdodge/work/omscs/cs7641/cs7641_assignments/env3.9.7/lib/python3.9/site-packages/sklearn/svm/_base.py:255: ConvergenceWarning: Solver terminated early (max_iter=10).  Consider pre-processing your data with StandardScaler or MinMaxScaler.\n",
      "  warnings.warn('Solver terminated early (max_iter=%i).'\n",
      "/Users/sdodge/work/omscs/cs7641/cs7641_assignments/env3.9.7/lib/python3.9/site-packages/sklearn/svm/_base.py:255: ConvergenceWarning: Solver terminated early (max_iter=22).  Consider pre-processing your data with StandardScaler or MinMaxScaler.\n",
      "  warnings.warn('Solver terminated early (max_iter=%i).'\n",
      "/Users/sdodge/work/omscs/cs7641/cs7641_assignments/env3.9.7/lib/python3.9/site-packages/sklearn/svm/_base.py:255: ConvergenceWarning: Solver terminated early (max_iter=51).  Consider pre-processing your data with StandardScaler or MinMaxScaler.\n",
      "  warnings.warn('Solver terminated early (max_iter=%i).'\n",
      "/Users/sdodge/work/omscs/cs7641/cs7641_assignments/env3.9.7/lib/python3.9/site-packages/sklearn/svm/_base.py:255: ConvergenceWarning: Solver terminated early (max_iter=117).  Consider pre-processing your data with StandardScaler or MinMaxScaler.\n",
      "  warnings.warn('Solver terminated early (max_iter=%i).'\n",
      "/Users/sdodge/work/omscs/cs7641/cs7641_assignments/env3.9.7/lib/python3.9/site-packages/sklearn/svm/_base.py:255: ConvergenceWarning: Solver terminated early (max_iter=268).  Consider pre-processing your data with StandardScaler or MinMaxScaler.\n",
      "  warnings.warn('Solver terminated early (max_iter=%i).'\n",
      "/Users/sdodge/work/omscs/cs7641/cs7641_assignments/env3.9.7/lib/python3.9/site-packages/sklearn/svm/_base.py:255: ConvergenceWarning: Solver terminated early (max_iter=610).  Consider pre-processing your data with StandardScaler or MinMaxScaler.\n",
      "  warnings.warn('Solver terminated early (max_iter=%i).'\n",
      "/Users/sdodge/work/omscs/cs7641/cs7641_assignments/env3.9.7/lib/python3.9/site-packages/sklearn/svm/_base.py:255: ConvergenceWarning: Solver terminated early (max_iter=1389).  Consider pre-processing your data with StandardScaler or MinMaxScaler.\n",
      "  warnings.warn('Solver terminated early (max_iter=%i).'\n",
      "/Users/sdodge/work/omscs/cs7641/cs7641_assignments/env3.9.7/lib/python3.9/site-packages/sklearn/svm/_base.py:255: ConvergenceWarning: Solver terminated early (max_iter=3162).  Consider pre-processing your data with StandardScaler or MinMaxScaler.\n",
      "  warnings.warn('Solver terminated early (max_iter=%i).'\n",
      "/Users/sdodge/work/omscs/cs7641/cs7641_assignments/env3.9.7/lib/python3.9/site-packages/sklearn/svm/_base.py:255: ConvergenceWarning: Solver terminated early (max_iter=7196).  Consider pre-processing your data with StandardScaler or MinMaxScaler.\n",
      "  warnings.warn('Solver terminated early (max_iter=%i).'\n",
      "/Users/sdodge/work/omscs/cs7641/cs7641_assignments/env3.9.7/lib/python3.9/site-packages/sklearn/svm/_base.py:255: ConvergenceWarning: Solver terminated early (max_iter=10).  Consider pre-processing your data with StandardScaler or MinMaxScaler.\n",
      "  warnings.warn('Solver terminated early (max_iter=%i).'\n",
      "/Users/sdodge/work/omscs/cs7641/cs7641_assignments/env3.9.7/lib/python3.9/site-packages/sklearn/svm/_base.py:255: ConvergenceWarning: Solver terminated early (max_iter=22).  Consider pre-processing your data with StandardScaler or MinMaxScaler.\n",
      "  warnings.warn('Solver terminated early (max_iter=%i).'\n",
      "/Users/sdodge/work/omscs/cs7641/cs7641_assignments/env3.9.7/lib/python3.9/site-packages/sklearn/svm/_base.py:255: ConvergenceWarning: Solver terminated early (max_iter=51).  Consider pre-processing your data with StandardScaler or MinMaxScaler.\n",
      "  warnings.warn('Solver terminated early (max_iter=%i).'\n",
      "/Users/sdodge/work/omscs/cs7641/cs7641_assignments/env3.9.7/lib/python3.9/site-packages/sklearn/svm/_base.py:255: ConvergenceWarning: Solver terminated early (max_iter=117).  Consider pre-processing your data with StandardScaler or MinMaxScaler.\n",
      "  warnings.warn('Solver terminated early (max_iter=%i).'\n",
      "/Users/sdodge/work/omscs/cs7641/cs7641_assignments/env3.9.7/lib/python3.9/site-packages/sklearn/svm/_base.py:255: ConvergenceWarning: Solver terminated early (max_iter=268).  Consider pre-processing your data with StandardScaler or MinMaxScaler.\n",
      "  warnings.warn('Solver terminated early (max_iter=%i).'\n",
      "/Users/sdodge/work/omscs/cs7641/cs7641_assignments/env3.9.7/lib/python3.9/site-packages/sklearn/svm/_base.py:255: ConvergenceWarning: Solver terminated early (max_iter=610).  Consider pre-processing your data with StandardScaler or MinMaxScaler.\n",
      "  warnings.warn('Solver terminated early (max_iter=%i).'\n",
      "/Users/sdodge/work/omscs/cs7641/cs7641_assignments/env3.9.7/lib/python3.9/site-packages/sklearn/svm/_base.py:255: ConvergenceWarning: Solver terminated early (max_iter=1389).  Consider pre-processing your data with StandardScaler or MinMaxScaler.\n",
      "  warnings.warn('Solver terminated early (max_iter=%i).'\n",
      "/Users/sdodge/work/omscs/cs7641/cs7641_assignments/env3.9.7/lib/python3.9/site-packages/sklearn/svm/_base.py:255: ConvergenceWarning: Solver terminated early (max_iter=3162).  Consider pre-processing your data with StandardScaler or MinMaxScaler.\n",
      "  warnings.warn('Solver terminated early (max_iter=%i).'\n",
      "/Users/sdodge/work/omscs/cs7641/cs7641_assignments/env3.9.7/lib/python3.9/site-packages/sklearn/svm/_base.py:255: ConvergenceWarning: Solver terminated early (max_iter=7196).  Consider pre-processing your data with StandardScaler or MinMaxScaler.\n",
      "  warnings.warn('Solver terminated early (max_iter=%i).'\n",
      "/Users/sdodge/work/omscs/cs7641/cs7641_assignments/env3.9.7/lib/python3.9/site-packages/sklearn/svm/_base.py:255: ConvergenceWarning: Solver terminated early (max_iter=10).  Consider pre-processing your data with StandardScaler or MinMaxScaler.\n",
      "  warnings.warn('Solver terminated early (max_iter=%i).'\n",
      "/Users/sdodge/work/omscs/cs7641/cs7641_assignments/env3.9.7/lib/python3.9/site-packages/sklearn/svm/_base.py:255: ConvergenceWarning: Solver terminated early (max_iter=22).  Consider pre-processing your data with StandardScaler or MinMaxScaler.\n",
      "  warnings.warn('Solver terminated early (max_iter=%i).'\n",
      "/Users/sdodge/work/omscs/cs7641/cs7641_assignments/env3.9.7/lib/python3.9/site-packages/sklearn/svm/_base.py:255: ConvergenceWarning: Solver terminated early (max_iter=51).  Consider pre-processing your data with StandardScaler or MinMaxScaler.\n",
      "  warnings.warn('Solver terminated early (max_iter=%i).'\n",
      "/Users/sdodge/work/omscs/cs7641/cs7641_assignments/env3.9.7/lib/python3.9/site-packages/sklearn/svm/_base.py:255: ConvergenceWarning: Solver terminated early (max_iter=117).  Consider pre-processing your data with StandardScaler or MinMaxScaler.\n",
      "  warnings.warn('Solver terminated early (max_iter=%i).'\n",
      "/Users/sdodge/work/omscs/cs7641/cs7641_assignments/env3.9.7/lib/python3.9/site-packages/sklearn/svm/_base.py:255: ConvergenceWarning: Solver terminated early (max_iter=268).  Consider pre-processing your data with StandardScaler or MinMaxScaler.\n",
      "  warnings.warn('Solver terminated early (max_iter=%i).'\n",
      "/Users/sdodge/work/omscs/cs7641/cs7641_assignments/env3.9.7/lib/python3.9/site-packages/sklearn/svm/_base.py:255: ConvergenceWarning: Solver terminated early (max_iter=610).  Consider pre-processing your data with StandardScaler or MinMaxScaler.\n",
      "  warnings.warn('Solver terminated early (max_iter=%i).'\n",
      "/Users/sdodge/work/omscs/cs7641/cs7641_assignments/env3.9.7/lib/python3.9/site-packages/sklearn/svm/_base.py:255: ConvergenceWarning: Solver terminated early (max_iter=1389).  Consider pre-processing your data with StandardScaler or MinMaxScaler.\n",
      "  warnings.warn('Solver terminated early (max_iter=%i).'\n",
      "/Users/sdodge/work/omscs/cs7641/cs7641_assignments/env3.9.7/lib/python3.9/site-packages/sklearn/svm/_base.py:255: ConvergenceWarning: Solver terminated early (max_iter=3162).  Consider pre-processing your data with StandardScaler or MinMaxScaler.\n",
      "  warnings.warn('Solver terminated early (max_iter=%i).'\n",
      "/Users/sdodge/work/omscs/cs7641/cs7641_assignments/env3.9.7/lib/python3.9/site-packages/sklearn/svm/_base.py:255: ConvergenceWarning: Solver terminated early (max_iter=7196).  Consider pre-processing your data with StandardScaler or MinMaxScaler.\n",
      "  warnings.warn('Solver terminated early (max_iter=%i).'\n"
     ]
    },
    {
     "name": "stdout",
     "output_type": "stream",
     "text": [
      "done\n"
     ]
    }
   ],
   "source": [
    "svc_train_scores5, svc_test_scores5 = validation_curve(\n",
    "    svc5, X, y, param_name=\"max_iter\", param_range=range_list5,\n",
    "    scoring=scorer, cv=strat_cv, n_jobs=-1)\n",
    "print(\"done\")"
   ]
  },
  {
   "cell_type": "code",
   "execution_count": 50,
   "id": "d791593e-4f24-4f77-a13d-2a65255c38fe",
   "metadata": {},
   "outputs": [
    {
     "name": "stdout",
     "output_type": "stream",
     "text": [
      "(15,) (15,) (15,)\n"
     ]
    },
    {
     "data": {
      "text/html": [
       "<div>\n",
       "<style scoped>\n",
       "    .dataframe tbody tr th:only-of-type {\n",
       "        vertical-align: middle;\n",
       "    }\n",
       "\n",
       "    .dataframe tbody tr th {\n",
       "        vertical-align: top;\n",
       "    }\n",
       "\n",
       "    .dataframe thead th {\n",
       "        text-align: right;\n",
       "    }\n",
       "</style>\n",
       "<table border=\"1\" class=\"dataframe\">\n",
       "  <thead>\n",
       "    <tr style=\"text-align: right;\">\n",
       "      <th></th>\n",
       "      <th>x</th>\n",
       "      <th>train</th>\n",
       "      <th>test</th>\n",
       "    </tr>\n",
       "  </thead>\n",
       "  <tbody>\n",
       "    <tr>\n",
       "      <th>0</th>\n",
       "      <td>10</td>\n",
       "      <td>0.399209</td>\n",
       "      <td>0.399198</td>\n",
       "    </tr>\n",
       "    <tr>\n",
       "      <th>1</th>\n",
       "      <td>22</td>\n",
       "      <td>0.399209</td>\n",
       "      <td>0.399198</td>\n",
       "    </tr>\n",
       "    <tr>\n",
       "      <th>2</th>\n",
       "      <td>51</td>\n",
       "      <td>0.399209</td>\n",
       "      <td>0.399198</td>\n",
       "    </tr>\n",
       "    <tr>\n",
       "      <th>3</th>\n",
       "      <td>117</td>\n",
       "      <td>0.399198</td>\n",
       "      <td>0.399198</td>\n",
       "    </tr>\n",
       "    <tr>\n",
       "      <th>4</th>\n",
       "      <td>268</td>\n",
       "      <td>0.399198</td>\n",
       "      <td>0.399198</td>\n",
       "    </tr>\n",
       "    <tr>\n",
       "      <th>5</th>\n",
       "      <td>610</td>\n",
       "      <td>0.399198</td>\n",
       "      <td>0.399198</td>\n",
       "    </tr>\n",
       "    <tr>\n",
       "      <th>6</th>\n",
       "      <td>1389</td>\n",
       "      <td>0.399220</td>\n",
       "      <td>0.399242</td>\n",
       "    </tr>\n",
       "    <tr>\n",
       "      <th>7</th>\n",
       "      <td>3162</td>\n",
       "      <td>0.422695</td>\n",
       "      <td>0.417391</td>\n",
       "    </tr>\n",
       "    <tr>\n",
       "      <th>8</th>\n",
       "      <td>7196</td>\n",
       "      <td>0.636715</td>\n",
       "      <td>0.562696</td>\n",
       "    </tr>\n",
       "    <tr>\n",
       "      <th>9</th>\n",
       "      <td>16378</td>\n",
       "      <td>0.636404</td>\n",
       "      <td>0.563772</td>\n",
       "    </tr>\n",
       "    <tr>\n",
       "      <th>10</th>\n",
       "      <td>37275</td>\n",
       "      <td>0.636404</td>\n",
       "      <td>0.563772</td>\n",
       "    </tr>\n",
       "    <tr>\n",
       "      <th>11</th>\n",
       "      <td>84834</td>\n",
       "      <td>0.636404</td>\n",
       "      <td>0.563772</td>\n",
       "    </tr>\n",
       "    <tr>\n",
       "      <th>12</th>\n",
       "      <td>193069</td>\n",
       "      <td>0.636404</td>\n",
       "      <td>0.563772</td>\n",
       "    </tr>\n",
       "    <tr>\n",
       "      <th>13</th>\n",
       "      <td>439397</td>\n",
       "      <td>0.636404</td>\n",
       "      <td>0.563772</td>\n",
       "    </tr>\n",
       "    <tr>\n",
       "      <th>14</th>\n",
       "      <td>1000000</td>\n",
       "      <td>0.636404</td>\n",
       "      <td>0.563772</td>\n",
       "    </tr>\n",
       "  </tbody>\n",
       "</table>\n",
       "</div>"
      ],
      "text/plain": [
       "          x     train      test\n",
       "0        10  0.399209  0.399198\n",
       "1        22  0.399209  0.399198\n",
       "2        51  0.399209  0.399198\n",
       "3       117  0.399198  0.399198\n",
       "4       268  0.399198  0.399198\n",
       "5       610  0.399198  0.399198\n",
       "6      1389  0.399220  0.399242\n",
       "7      3162  0.422695  0.417391\n",
       "8      7196  0.636715  0.562696\n",
       "9     16378  0.636404  0.563772\n",
       "10    37275  0.636404  0.563772\n",
       "11    84834  0.636404  0.563772\n",
       "12   193069  0.636404  0.563772\n",
       "13   439397  0.636404  0.563772\n",
       "14  1000000  0.636404  0.563772"
      ]
     },
     "execution_count": 50,
     "metadata": {},
     "output_type": "execute_result"
    }
   ],
   "source": [
    "\n",
    "train_scores_mean5 = np.mean(svc_train_scores5, axis=1)\n",
    "test_scores_mean5 = np.mean(svc_test_scores5, axis=1)\n",
    "print (range_list5.shape,train_scores_mean5.shape,test_scores_mean5.shape)\n",
    "df_5 = pd.DataFrame({'x':range_list5,'train':train_scores_mean5,'test':test_scores_mean5} )\n",
    "df_5"
   ]
  },
  {
   "cell_type": "code",
   "execution_count": 51,
   "id": "c1e2b46e-29f3-4350-9a03-dfd60488bbf4",
   "metadata": {},
   "outputs": [
    {
     "data": {
      "text/plain": [
       "Text(0.5, 1.0, 'SVM Iterations Curve')"
      ]
     },
     "execution_count": 51,
     "metadata": {},
     "output_type": "execute_result"
    },
    {
     "data": {
      "image/png": "[encoded data removed]",
      "text/plain": [
       "<Figure size 432x288 with 1 Axes>"
      ]
     },
     "metadata": {
      "needs_background": "light"
     },
     "output_type": "display_data"
    }
   ],
   "source": [
    "axs = plt.gca()\n",
    "axs.plot(df_5['x'], df_5['train'], label='Train', linewidth=0.75)\n",
    "axs.plot(df_5['x'], df_5['test'], label='Validation', linewidth=0.75)\n",
    "axs.legend(); axs.set_ylabel(\"Metric: Recall\"); axs.set_xlabel(\"Iterations\")\n",
    "axs.set_xscale(\"log\")\n",
    "axs.set_title('SVM Iterations Curve')"
   ]
  },
  {
   "cell_type": "code",
   "execution_count": null,
   "id": "e94c00d2-7e4e-4867-916a-b3f3d12bbf59",
   "metadata": {},
   "outputs": [],
   "source": []
  }
 ],
 "metadata": {
  "kernelspec": {
   "display_name": "Python 3 (ipykernel)",
   "language": "python",
   "name": "python3"
  },
  "language_info": {
   "codemirror_mode": {
    "name": "ipython",
    "version": 3
   },
   "file_extension": ".py",
   "mimetype": "text/x-python",
   "name": "python",
   "nbconvert_exporter": "python",
   "pygments_lexer": "ipython3",
   "version": "3.9.7"
  }
 },
 "nbformat": 4,
 "nbformat_minor": 5
}
