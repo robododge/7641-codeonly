{
 "cells": [
  {
   "cell_type": "code",
   "execution_count": null,
   "id": "0b787e87-9aee-49c6-82d9-5ac2a95a55d0",
   "metadata": {},
   "outputs": [],
   "source": []
  },
  {
   "cell_type": "code",
   "execution_count": 5,
   "id": "cdecd3e9-6325-4e26-a96b-22ed42c1ad19",
   "metadata": {
    "tags": []
   },
   "outputs": [],
   "source": [
    "import numpy as np\n",
    "import pandas as pd\n",
    "import matplotlib.pylab as plt\n",
    "import seaborn as sns\n",
    "from sklearn.svm import SVC\n",
    "from sklearn.model_selection import GridSearchCV, RandomizedSearchCV, train_test_split, StratifiedKFold, cross_validate\n",
    "from sklearn.metrics import precision_recall_fscore_support, make_scorer, recall_score, f1_score, confusion_matrix, precision_score, balanced_accuracy_score\n",
    "from sklearn.metrics import fbeta_score, classification_report\n",
    "\n",
    "\n",
    "from sklearn.preprocessing import LabelEncoder, MinMaxScaler\n",
    "\n",
    "from libs.print_cm import print_cm\n",
    "from libs.loader import load_malicious,load_jobchange\n",
    "\n",
    "         \n",
    "\n",
    "from sklearn.model_selection import learning_curve, validation_curve"
   ]
  },
  {
   "cell_type": "code",
   "execution_count": 6,
   "id": "911e1340-4797-443a-ade5-64e394ee1fb8",
   "metadata": {},
   "outputs": [],
   "source": [
    "#Some labels\n",
    "ds_labels = {1:'dataset-01: Malicious Hack', 2:'dataset-02: Job Change'}\n",
    "\n",
    "#Load the two datset\n",
    "job_data = load_jobchange()\n",
    "mal_data = load_malicious()\n"
   ]
  },
  {
   "cell_type": "code",
   "execution_count": 13,
   "id": "3012e5b4-8e79-4cd0-a98c-b779e644e28a",
   "metadata": {},
   "outputs": [],
   "source": [
    "\n",
    "\n",
    "scorer_job = make_scorer(f1_score)\n",
    "scorer_mal = scorer = make_scorer(recall_score)\n",
    "\n",
    "svc_job = SVC( class_weight='balanced', max_iter=200000, random_state=0)\n",
    "svc_mal = SVC( class_weight='balanced', max_iter=200000, random_state=0)\n",
    "\n",
    "\n"
   ]
  },
  {
   "cell_type": "markdown",
   "id": "2ca29f83-2812-41c1-996f-d1ae07d7ae55",
   "metadata": {},
   "source": [
    "##  Hyperparam stuff"
   ]
  },
  {
   "cell_type": "code",
   "execution_count": 9,
   "id": "4f595b98-e96c-4842-8dec-9afd80a7e8b1",
   "metadata": {},
   "outputs": [],
   "source": [
    "def eval_hyperparam(estimator, data, param_name='nothing', range_list=[], range_override=[], scorer=None):\n",
    "    strat_cv = StratifiedKFold(n_splits=5, random_state=0, shuffle=True)\n",
    "    X,y = data\n",
    "    \n",
    "    dt_train_scores,dt_test_scores = validation_curve(\n",
    "        estimator, X, y, param_name=param_name, param_range=range_list,\n",
    "        scoring=scorer, cv=strat_cv, n_jobs=-1)\n",
    "    \n",
    "    train_scores_mean = np.mean(dt_train_scores, axis=1)\n",
    "    test_scores_mean = np.mean(dt_test_scores, axis=1)\n",
    "    x_vals = range_override  if len(range_override) > 0 else range_list\n",
    "    \n",
    "    df_1 = pd.DataFrame({'x':x_vals,'train':train_scores_mean,'test':test_scores_mean} )\n",
    "#     print(df_1)\n",
    "    return df_1\n",
    "    "
   ]
  },
  {
   "cell_type": "code",
   "execution_count": 35,
   "id": "9e9d8370-28e1-422d-a7c3-092ac66344ca",
   "metadata": {},
   "outputs": [],
   "source": [
    "def plot(df_1, metric_name, x_label, title, ds_id, figsize = [7,5], show=False, log_x=False):\n",
    "    fig = plt.figure(figsize=figsize, facecolor='w')\n",
    "    axs = fig.add_subplot(111)\n",
    "    axs.plot(df_1['x'], df_1['train'], label='Train', linewidth=0.75)\n",
    "    axs.plot(df_1['x'], df_1['test'], label='Validation', linewidth=0.75)\n",
    "    axs.legend(); axs.set_ylabel(\"Metric: %s\"%metric_name); axs.set_xlabel(x_label)\n",
    "    title_out = \"SVM Hyperparameter:\\n%s\\n%s\"%(title, ds_labels[ds_id])\n",
    "    axs.set_title(title_out)\n",
    "    if show:\n",
    "        plt.show()\n",
    "    if log_x:\n",
    "        axs.set_xscale('log')\n",
    "        \n",
    "    fig.savefig('plots/svm_%d_hyper_%s.png'%(ds_id,x_label),bbox_inches='tight')\n",
    "    plt.close(fig=fig)"
   ]
  },
  {
   "cell_type": "code",
   "execution_count": 20,
   "id": "8c338c79-4c0d-492a-b381-169771a0c9e0",
   "metadata": {},
   "outputs": [],
   "source": [
    "def plot_bar(df, metric_name='', ds_id=0):\n",
    "    \n",
    "    N=len(df['x']); ind = np.arange(N);width = 0.3\n",
    "    fig = plt.figure()\n",
    "    axs = fig.add_subplot(111)\n",
    "    \n",
    "    axs.bar(ind, df['train'], width, label='Train')\n",
    "    axs.bar(ind+width, df['test'], width,label='Validate')\n",
    "    axs.set_xticks(ind + width / 2)\n",
    "    axs.set_xticklabels( df['x'] )\n",
    "    axs.legend(); axs.set_ylabel(\"Metric: %s\" %metric_name); axs.set_xlabel('Kernel Type')\n",
    "    \n",
    "    title = \"SVM Hyperparameter:\\nKernel\\n%s\" % ds_labels[ds_id]\n",
    "    axs.set_title(title)\n",
    "    plt.show()\n",
    "    fig.savefig('plots/svm_%d_kernel.png'%ds_id,bbox_inches='tight')\n",
    "    plt.close(fig=fig)\n",
    "    \n",
    "    "
   ]
  },
  {
   "cell_type": "markdown",
   "id": "9ed8bb11-0b1e-474a-9bd9-91387055551c",
   "metadata": {},
   "source": [
    "## hyperparams"
   ]
  },
  {
   "cell_type": "code",
   "execution_count": null,
   "id": "cd958942-ba21-49b6-bb04-c9afce68afd6",
   "metadata": {},
   "outputs": [],
   "source": []
  },
  {
   "cell_type": "code",
   "execution_count": null,
   "id": "b75bbe18-110e-4a89-a4bb-7a813e85bd4f",
   "metadata": {},
   "outputs": [],
   "source": [
    "\n",
    "kernel_range = ['linear', 'rbf', 'sigmoid','poly']\n",
    "\n",
    "df_1 = eval_hyperparam(svc_mal, mal_data, param_name='kernel', range_list=kernel_range, scorer=scorer_mal)\n",
    "df_2 = eval_hyperparam(svc_job, job_data, param_name='kernel', range_list=kernel_range, scorer=scorer_job)\n",
    "print(\"done\")"
   ]
  },
  {
   "cell_type": "code",
   "execution_count": 24,
   "id": "98491608-c38a-4204-b008-cac8657979c7",
   "metadata": {},
   "outputs": [
    {
     "data": {
      "image/png": "[encoded data removed]",
      "text/plain": [
       "<Figure size 432x288 with 1 Axes>"
      ]
     },
     "metadata": {
      "needs_background": "light"
     },
     "output_type": "display_data"
    },
    {
     "data": {
      "image/png": "[encoded data removed]",
      "text/plain": [
       "<Figure size 432x288 with 1 Axes>"
      ]
     },
     "metadata": {
      "needs_background": "light"
     },
     "output_type": "display_data"
    }
   ],
   "source": [
    "plot_bar(df_1,metric_name=\"Recall\", ds_id=1)\n",
    "plot_bar(df_2,metric_name=\"F1 Score\", ds_id=2)\n"
   ]
  },
  {
   "cell_type": "code",
   "execution_count": 26,
   "id": "0bcd195f-eaa0-45a6-9c0b-375009461ca5",
   "metadata": {},
   "outputs": [],
   "source": [
    "svc_mal_poly = SVC(kernel='poly', class_weight='balanced', max_iter=100000, random_state=0)\n",
    "range_list_degree = np.linspace(1,10,10)\n",
    "svc_job_rbf = SVC(kernel='rbf', class_weight='balanced', max_iter=100000, random_state=0)\n",
    "range_list_gamma  = np.logspace(-4, 3, 10)"
   ]
  },
  {
   "cell_type": "code",
   "execution_count": null,
   "id": "20def3e5-86ba-4892-a07b-4048d9bd506f",
   "metadata": {},
   "outputs": [],
   "source": [
    "df_3 = eval_hyperparam(svc_mal_poly, mal_data, param_name='degree', range_list=range_list_degree, scorer=scorer_mal)\n",
    "df_4 = eval_hyperparam(svc_job_rbf, job_data, param_name='gamma', range_list=range_list_gamma, scorer=scorer_job)\n",
    "print(\"done\")"
   ]
  },
  {
   "cell_type": "code",
   "execution_count": 45,
   "id": "0d1aec47-9a6b-436d-b45a-bb868d9b3105",
   "metadata": {},
   "outputs": [],
   "source": [
    "plot(df_3, 'Recall', 'degree', 'Ploynomial Degree', 1, show=False)\n",
    "plot(df_4, 'F1 Score', 'gamma', 'RBF Gamma', 2 ,show=False, log_x=True)"
   ]
  },
  {
   "cell_type": "code",
   "execution_count": 30,
   "id": "353476e9-2122-4d0e-b0c3-df556eaeb08c",
   "metadata": {},
   "outputs": [],
   "source": [
    "svc_mal_poly_deg = SVC(kernel='poly', class_weight='balanced', degree=6, random_state=0)\n",
    "range_list_mal_iter = np.logspace(1,5,15).astype('int32')\n",
    "svc_job_rbf_gamma = SVC(kernel='rbf', class_weight='balanced', gamma=0.0036, random_state=0)\n",
    "range_list_job_iter = np.logspace(1,5,16).astype('int32')\n"
   ]
  },
  {
   "cell_type": "code",
   "execution_count": null,
   "id": "46f7444c-f49b-4861-b914-97527b764b5b",
   "metadata": {},
   "outputs": [],
   "source": [
    "df_5 = eval_hyperparam(svc_mal_poly_deg, mal_data, param_name='max_iter', range_list=range_list_mal_iter, scorer=scorer_mal)\n",
    "df_6 = eval_hyperparam(svc_job_rbf_gamma, job_data, param_name='max_iter', range_list=range_list_job_iter, scorer=scorer_job)"
   ]
  },
  {
   "cell_type": "code",
   "execution_count": 49,
   "id": "0a55e17d-c592-4fdb-9053-31d8e6d584be",
   "metadata": {},
   "outputs": [],
   "source": [
    "# df_5"
   ]
  },
  {
   "cell_type": "code",
   "execution_count": 46,
   "id": "d1b4b467-fbbc-4bdc-8d6a-0dfce2928fe7",
   "metadata": {},
   "outputs": [],
   "source": [
    "plot(df_5, 'Recall', 'iterations', 'Iterations Count', 1, show=False, log_x=True)\n",
    "plot(df_6, 'F1 Score', 'iterations', 'Iteration Count', 2 ,show=False, log_x=True)"
   ]
  },
  {
   "cell_type": "code",
   "execution_count": null,
   "id": "bd03aca4-cee2-4e58-9a3f-de83a5cdb812",
   "metadata": {},
   "outputs": [],
   "source": []
  }
 ],
 "metadata": {
  "kernelspec": {
   "display_name": "Python 3 (ipykernel)",
   "language": "python",
   "name": "python3"
  },
  "language_info": {
   "codemirror_mode": {
    "name": "ipython",
    "version": 3
   },
   "file_extension": ".py",
   "mimetype": "text/x-python",
   "name": "python",
   "nbconvert_exporter": "python",
   "pygments_lexer": "ipython3",
   "version": "3.9.7"
  }
 },
 "nbformat": 4,
 "nbformat_minor": 5
}
